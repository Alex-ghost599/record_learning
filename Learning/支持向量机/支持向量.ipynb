{
 "cells": [
  {
   "metadata": {},
   "cell_type": "markdown",
   "source": [
    "# 支持向量机\n",
    "- Support Vector Machine   \n",
    "解决的问题: \n",
    "   - 什么样的决策边界是最好的\n",
    "   - 如果数据本身难分:需要将数据映射到高维空间\n",
    "   - 计算复杂度怎么样,是否能实际应用"
   ],
   "id": "8ccbe76ccfa400a5"
  },
  {
   "metadata": {},
   "cell_type": "markdown",
   "source": [
    "## 1. 什么是最好的决策边界\n",
    "- 间隔最大化: 两个类别的最近样本点到决策边界的距离最大(垂直距离)\n",
    "- Large Margin Classifier   \n",
    "距离公式:   \n",
    "$\\frac{1}{||w||}|w^Tx+b|$"
   ],
   "id": "9dfe31758e53a7df"
  },
  {
   "metadata": {},
   "cell_type": "markdown",
   "source": [
    "## 2. 数据标签定义\n",
    "- 数据集: $D = \\{(x_1,y_1), (x_2,y_2),...,(x_m,y_m)\\}$\n",
    "- 标签: x为正例, y=1; x为负例, y=-1\n",
    "- 决策方程: $y(x) = sign(w^Tx+b)$\n",
    "    - $y \\cdot (w^Tx+b) > 0$ 正例"
   ],
   "id": "85397a4b48592df3"
  },
  {
   "metadata": {},
   "cell_type": "markdown",
   "source": [
    "## 3. 优化的目标\n",
    "- 找到一条线(w和b), 使得离线最近的点到线的距离最大\n",
    "- 点到直线的距离化简: $\\frac{y\\cdot(w^Tx+b)}{||w||}$"
   ],
   "id": "d3e184ae6c2cdf0a"
  },
  {
   "cell_type": "code",
   "execution_count": null,
   "id": "initial_id",
   "metadata": {
    "collapsed": true
   },
   "outputs": [],
   "source": [
    ""
   ]
  }
 ],
 "metadata": {
  "kernelspec": {
   "display_name": "Python 3",
   "language": "python",
   "name": "python3"
  },
  "language_info": {
   "codemirror_mode": {
    "name": "ipython",
    "version": 2
   },
   "file_extension": ".py",
   "mimetype": "text/x-python",
   "name": "python",
   "nbconvert_exporter": "python",
   "pygments_lexer": "ipython2",
   "version": "2.7.6"
  }
 },
 "nbformat": 4,
 "nbformat_minor": 5
}

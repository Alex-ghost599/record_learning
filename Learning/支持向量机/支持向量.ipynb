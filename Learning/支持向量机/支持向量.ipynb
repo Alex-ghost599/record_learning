{
 "cells": [
  {
   "metadata": {},
   "cell_type": "markdown",
   "source": [
    "# 支持向量机\n",
    "- Support Vector Machine   \n",
    "解决的问题: \n",
    "   - 什么样的决策边界是最好的\n",
    "   - 如果数据本身难分:需要将数据映射到高维空间\n",
    "   - 计算复杂度怎么样,是否能实际应用"
   ],
   "id": "8ccbe76ccfa400a5"
  },
  {
   "metadata": {},
   "cell_type": "markdown",
   "source": [
    "## 1. 什么是最好的决策边界\n",
    "- 间隔最大化: 两个类别的最近样本点到决策边界的距离最大(垂直距离)\n",
    "- Large Margin Classifier   \n",
    "距离公式:   \n",
    "$\\frac{1}{||w||}|w^Tx+b|$"
   ],
   "id": "9dfe31758e53a7df"
  },
  {
   "metadata": {},
   "cell_type": "markdown",
   "source": [
    "## 2. 数据标签定义\n",
    "- 数据集: $D = \\{(x_1,y_1), (x_2,y_2),...,(x_m,y_m)\\}$\n",
    "- 标签: x为正例, y=1; x为负例, y=-1\n",
    "- 决策方程: $y(x) = sign(w^Tx+b)$\n",
    "    - $y \\cdot (w^Tx+b) > 0$ 正例"
   ],
   "id": "85397a4b48592df3"
  },
  {
   "metadata": {},
   "cell_type": "markdown",
   "source": [
    "## 3. 优化的目标\n",
    "- 找到一条线(w和b), 使得离线最近的点到线的距离最大\n",
    "- 点到直线的距离化简: $\\frac{y\\cdot(w^Tx+b)}{||w||}$"
   ],
   "id": "d3e184ae6c2cdf0a"
  },
  {
   "metadata": {},
   "cell_type": "markdown",
   "source": [
    "## 4. 目标函数\n",
    "- 放缩变换: 对于决策方程(w,b) 可以通过放缩变换, 使得最近的点到决策边界的距离为1, 即: $|y| >= 1$\n",
    "- 优化目标:     \n",
    "$arg max_{w,b} \\frac{1}{||w||}min_{i=1,...,m}y_i(w^Tx_i+b)$     \n",
    "因为$|y| >= 1$, 所以只考虑:     \n",
    "$arg max_{w,b} \\frac{1}{||w||}$\n",
    "- 优先满足条件: $y_i(w^Tx_i+b) >= 1$, 既优先缩放$|y| >= 1$\n",
    "- 通过将求极大值问题转化为求极小值问题, 优化目标函数: $min_{w,b} \\frac{1}{2}||w||^2$. 加上$\\frac{1}{2}$是为了求导方便\n",
    "- 通过拉格朗日乘子法求解\n",
    "    - $L(w,b,\\alpha) = \\frac{1}{2}||w||^2 - \\sum_{i=1}^{m}\\alpha_i(y_i(w^Tx_i+b)-1)$         \n",
    "    $\\alpha_i$为拉格朗日乘子      \n",
    "    - 求解: $\\frac{\\partial L}{\\partial w} = 0, \\frac{\\partial L}{\\partial b} = 0$\n",
    "    - 得到: $w = \\sum_{i=1}^{m}\\alpha_iy_ix_i$\n",
    "    - 代入L, 得到: $L(w,b,\\alpha) = \\sum_{i=1}^{m}\\alpha_i - \\frac{1}{2}\\sum_{i=1}^{m}\\sum_{j=1}^{m}\\alpha_i\\alpha_jy_iy_jx_i^Tx_j$\n",
    "    - 优化目标: $max_{\\alpha}L(w,b,\\alpha)$\n",
    "    - 优化条件: $\\alpha_i >= 0, \\sum_{i=1}^{m}\\alpha_iy_i = 0$\n",
    "    - 求$\\alpha$极大值, 转化成求$\\alpha$极小值问题:\n",
    "        - $min_{\\alpha}\\frac{1}{2}\\sum_{i=1}^{m}\\sum_{j=1}^{m}\\alpha_i\\alpha_jy_iy_jx_i^Tx_j - \\sum_{i=1}^{m}\\alpha_i$\n",
    "        - 条件为: $\\alpha_i >= 0, \\sum_{i=1}^{m}\\alpha_iy_i = 0$\n",
    "- 假设有三个数据点:X1(3,3), X2(4,3), X3(1,1)\n",
    "- 标签: Y1=1, Y2=1, Y3=-1\n",
    "- 求解: $min_{\\alpha}\\frac{1}{2}\\sum_{i=1}^{m}\\sum_{j=1}^{m}\\alpha_i\\alpha_jy_iy_jx_i^Tx_j - \\sum_{i=1}^{m}\\alpha_i$\n",
    "- 带入点:\n",
    "    - $\\frac{1}{2}(18\\alpha_1^2+25\\alpha_2^2+2\\alpha_3^2+42\\alpha_1\\alpha_2-12\\alpha_1\\alpha_3-14\\alpha_2\\alpha_3) - \\alpha_1 - \\alpha_2 - \\alpha_3$\n",
    "- 因为$\\alpha_1+\\alpha_2 =\\alpha_3$:\n",
    "    - $4\\alpha_1^2+\\frac{13}{2}\\alpha_2^2+10\\alpha_1\\alpha_2-2\\alpha_1 - 2\\alpha_2$\n",
    "    - 分别对$\\alpha_1, \\alpha_2$求偏导, 得到:\n",
    "        - $\\alpha_1 = 1.5$\n",
    "        - $\\alpha_2 = -1$\n",
    "    - 由于约束条件, 所有$\\alpha$都要大于等于0, 所以解在边界上, 我们要考虑约束调条件,所以带入分别等于0时:\n",
    "        - $\\alpha_1 = 0$\n",
    "            - $\\alpha_2 = -2/13$ 也不成立\n",
    "        - $\\alpha_2 = 0$\n",
    "            - $\\alpha_1 = 0.25$ 满足条件\n",
    "    - 所以最小值在(0.25, 0, 0.25)\n",
    "- 求解w:\n",
    "    - $w = \\sum_{i=1}^{m}\\alpha_iy_ix_i$\n",
    "        - 带入: $w = 0.25*1*[3,3] + 0*1*[4,3] + 0.25*-1*[1,1] = [0.5, 0.5]$\n",
    "- 求解b:\n",
    "    - $b = y_i - w^Tx_i$\n",
    "        - 带入: $b = 1 - [0.5, 0.5]*[3,3] = 1 - 3 = -2$\n",
    "- 决策方程: $y(x) = sign([0.5, 0.5]*x - 2)$"
   ],
   "id": "dfd4e47e1419f4db"
  },
  {
   "metadata": {},
   "cell_type": "markdown",
   "source": "## 5. 支持相量: 真正发挥作用的数据点, $\\alpha$ 不为0的点",
   "id": "19e9c3265bfd1007"
  },
  {
   "metadata": {},
   "cell_type": "markdown",
   "source": [
    "## 6. 参数: \n",
    "- soft margin SVM: 允许一定的数据点不满足约束条件(考虑噪音点的存在)\n",
    "- 引入松弛变量$\\xi_i$, 使得约束条件变为: $y_i(w^Tx_i+b) >= 1 - \\xi_i$\n",
    "- 优化目标变为: $min_{w,b,\\xi}\\frac{1}{2}||w||^2 + C\\sum_{i=1}^{m}\\xi_i$\n",
    "    - 需要的参数C: 松弛变量的权重, C越大, 松弛变量越小(越不允许有噪音点)"
   ],
   "id": "85045b1001e9a5ab"
  },
  {
   "metadata": {},
   "cell_type": "markdown",
   "source": [
    "## 7. 核变化\n",
    "- 对于线性不可分的数据, 需要将数据映射到高维空间\n",
    "- 通过核函数: $K(x_i,x_j) = \\phi(x_i)^T\\phi(x_j)$\n",
    "    - 第二个参数核函数: 线性核, 多项式核, 高斯核(大部分情况下使用)"
   ],
   "id": "df82bb06da94988c"
  },
  {
   "metadata": {},
   "cell_type": "markdown",
   "source": [
    "实际操作:\n",
    "- 与传统算法相比, SVM能带来哪些效果\n",
    "- 软间隔的作用, 如何解决过拟合\n",
    "- 核函数的作用, 如何选择核函数  "
   ],
   "id": "e5b6d2d06df2efbc"
  },
  {
   "cell_type": "code",
   "id": "initial_id",
   "metadata": {
    "collapsed": true,
    "ExecuteTime": {
     "end_time": "2024-06-05T11:53:29.172738Z",
     "start_time": "2024-06-05T11:53:29.168311Z"
    }
   },
   "source": [
    "import numpy as np\n",
    "import os\n",
    "%matplotlib inline\n",
    "import matplotlib\n",
    "import matplotlib.pyplot as plt\n",
    "plt.rcParams['axes.labelsize'] = 14\n",
    "plt.rcParams['xtick.labelsize'] = 12\n",
    "plt.rcParams['ytick.labelsize'] = 12\n",
    "import warnings\n",
    "warnings.filterwarnings('ignore') "
   ],
   "execution_count": 30,
   "outputs": []
  },
  {
   "metadata": {},
   "cell_type": "markdown",
   "source": "## 支持向量机能达到的效果",
   "id": "8fc6f85a9896338b"
  },
  {
   "metadata": {
    "ExecuteTime": {
     "end_time": "2024-06-05T11:53:29.223464Z",
     "start_time": "2024-06-05T11:53:29.215982Z"
    }
   },
   "cell_type": "code",
   "source": [
    "from sklearn.svm import SVC\n",
    "from sklearn import datasets\n",
    "\n",
    "iris = datasets.load_iris()\n",
    "\n",
    "X = iris[\"data\"][:, (2, 3)]  # petal length, petal width\n",
    "y = iris[\"target\"]\n",
    "\n",
    "setosa_or_versicolor = (y == 0) | (y == 1)\n",
    "X = X[setosa_or_versicolor]\n",
    "y = y[setosa_or_versicolor]\n",
    "\n",
    "svm_clf = SVC(kernel=\"linear\", C=9999999999999999)\n",
    "svm_clf.fit(X, y)\n"
   ],
   "id": "4813116fd5fb3ae4",
   "execution_count": 31,
   "outputs": []
  },
  {
   "metadata": {
    "ExecuteTime": {
     "end_time": "2024-06-05T11:56:40.405779Z",
     "start_time": "2024-06-05T11:56:40.400899Z"
    }
   },
   "cell_type": "code",
   "source": [
    "x0 = np.linspace(0, 5.5, 200)\n",
    "pred_1 = 5*x0 - 20\n",
    "pred_2 = x0 - 1.8\n",
    "pred_3 = 0.1 * x0 + 0.5\n",
    "\n",
    "def plot_svc_decision_boundary(svm_clf, xmin, xmax, sv=True):\n",
    "    w = svm_clf.coef_[0]\n",
    "    b = svm_clf.intercept_[0]\n",
    "\n",
    "    # At the decision boundary, w0*x0 + w1*x1 + b = 0\n",
    "    # => x1 = -w0/w1 * x0 - b/w1\n",
    "    x0 = np.linspace(xmin, xmax, 200)\n",
    "    decision_boundary = -w[0]/w[1] * x0 - b/w[1]\n",
    "\n",
    "    margin = 1/w[1]\n",
    "    gutter_up = decision_boundary + margin\n",
    "    gutter_down = decision_boundary - margin\n",
    "\n",
    "    \n",
    "    if sv:\n",
    "        svs = svm_clf.support_vectors_\n",
    "        plt.scatter(svs[:, 0], svs[:, 1], s=180, facecolors='#FFAAAA')\n",
    "        \n",
    "        \n",
    "    plt.plot(x0, decision_boundary, \"k-\", linewidth=2)\n",
    "    plt.plot(x0, gutter_up, \"k--\", linewidth=2)\n",
    "    plt.plot(x0, gutter_down, \"k--\", linewidth=2)\n",
    "    \n"
   ],
   "id": "b5dfa1563cb17e08",
   "execution_count": 42,
   "outputs": []
  },
  {
   "metadata": {
    "ExecuteTime": {
     "end_time": "2024-06-05T11:53:29.385078Z",
     "start_time": "2024-06-05T11:53:29.229294Z"
    }
   },
   "cell_type": "code",
   "source": [
    "plt.figure(figsize=(12,2.7))\n",
    "\n",
    "plt.subplot(121)\n",
    "plt.plot(x0, pred_1, \"g--\", linewidth=2)\n",
    "plt.plot(x0, pred_2, \"m-\", linewidth=2)\n",
    "plt.plot(x0, pred_3, \"r-\", linewidth=2)\n",
    "plt.plot(X[:, 0][y==1], X[:, 1][y==1], \"bs\", label=\"Iris-Versicolor\")\n",
    "plt.plot(X[:, 0][y==0], X[:, 1][y==0], \"yo\", label=\"Iris-Setosa\")\n",
    "plt.xlabel(\"Petal length\", fontsize=14)\n",
    "plt.ylabel(\"Petal width\", fontsize=14)\n",
    "plt.legend(loc=\"upper left\", fontsize=14)\n",
    "plt.axis([0, 5.5, 0, 2])\n",
    "\n",
    "plt.subplot(122)\n",
    "plot_svc_decision_boundary(svm_clf, 0, 5.5)\n",
    "plt.plot(X[:, 0][y==1], X[:, 1][y==1], \"bs\")\n",
    "plt.plot(X[:, 0][y==0], X[:, 1][y==0], \"yo\")\n",
    "plt.xlabel(\"Petal length\", fontsize=14)\n",
    "plt.axis([0, 5.5, 0, 2])\n",
    "\n",
    "plt.show()"
   ],
   "id": "2761a85977b706a1",
   "execution_count": 33,
   "outputs": []
  },
  {
   "metadata": {},
   "cell_type": "markdown",
   "source": [
    "数据标准化的影响\n",
    "必须标准化"
   ],
   "id": "5c570a8e0904d0aa"
  },
  {
   "metadata": {},
   "cell_type": "markdown",
   "source": [
    "软间隔\n",
    "- 使用C控制软间隔程度"
   ],
   "id": "78569158c49f0f98"
  },
  {
   "metadata": {
    "ExecuteTime": {
     "end_time": "2024-06-05T11:53:49.142830Z",
     "start_time": "2024-06-05T11:53:49.137171Z"
    }
   },
   "cell_type": "code",
   "source": [
    "import numpy as np\n",
    "from sklearn import datasets\n",
    "from sklearn.pipeline import Pipeline\n",
    "from sklearn.preprocessing import StandardScaler\n",
    "from sklearn.svm import LinearSVC\n",
    "\n",
    "iris = datasets.load_iris()\n",
    "X = iris[\"data\"][:, (2, 3)]  # petal length, petal width\n",
    "y = (iris[\"target\"] == 2).astype(np.float64)  # Iris-Virginica"
   ],
   "id": "73d6eff0f9f4db96",
   "execution_count": 34,
   "outputs": []
  },
  {
   "metadata": {},
   "cell_type": "markdown",
   "source": "不同C的差异: \n",
   "id": "a09ab9ae6f55a70b"
  },
  {
   "metadata": {
    "ExecuteTime": {
     "end_time": "2024-06-05T11:53:57.296251Z",
     "start_time": "2024-06-05T11:53:57.288280Z"
    }
   },
   "cell_type": "code",
   "source": [
    "svm_clf = Pipeline([\n",
    "    (\"scaler\", StandardScaler()),\n",
    "    (\"linear_svc\", LinearSVC(C=1, loss=\"hinge\", random_state=42)),\n",
    "])\n",
    "\n",
    "svm_clf.fit(X, y)"
   ],
   "id": "9cc38a0f9f7c8c05",
   "execution_count": 35,
   "outputs": []
  },
  {
   "metadata": {
    "ExecuteTime": {
     "end_time": "2024-06-05T11:53:59.233586Z",
     "start_time": "2024-06-05T11:53:59.228706Z"
    }
   },
   "cell_type": "code",
   "source": "svm_clf.predict([[5.5, 1.7]])",
   "id": "8bdae760dbf81102",
   "execution_count": 36,
   "outputs": []
  },
  {
   "metadata": {
    "ExecuteTime": {
     "end_time": "2024-06-05T11:54:00.927458Z",
     "start_time": "2024-06-05T11:54:00.914821Z"
    }
   },
   "cell_type": "code",
   "source": [
    "scaler = StandardScaler()\n",
    "svm_clf1 = LinearSVC(C=1, loss=\"hinge\", random_state=42)\n",
    "svm_clf2 = LinearSVC(C=100, loss=\"hinge\", random_state=42)\n",
    "\n",
    "scaled_svm_clf1 = Pipeline([\n",
    "        (\"scaler\", scaler),\n",
    "        (\"linear_svc\", svm_clf1),\n",
    "    ])\n",
    "\n",
    "scaled_svm_clf2 = Pipeline([\n",
    "        (\"scaler\", scaler),\n",
    "        (\"linear_svc\", svm_clf2),\n",
    "    ])\n",
    "\n",
    "scaled_svm_clf1.fit(X, y)\n",
    "scaled_svm_clf2.fit(X, y)\n"
   ],
   "id": "3143d4b0abf5b3f1",
   "execution_count": 37,
   "outputs": []
  },
  {
   "metadata": {
    "ExecuteTime": {
     "end_time": "2024-06-05T11:57:18.515778Z",
     "start_time": "2024-06-05T11:57:18.510673Z"
    }
   },
   "cell_type": "code",
   "source": "svm_clf2.predict([[5.5, 1.7]])",
   "id": "564587a1b1ad161c",
   "execution_count": 44,
   "outputs": []
  },
  {
   "metadata": {
    "ExecuteTime": {
     "end_time": "2024-06-05T11:58:10.267732Z",
     "start_time": "2024-06-05T11:58:10.262852Z"
    }
   },
   "cell_type": "code",
   "source": [
    "b1 = svm_clf1.decision_function([-scaler.mean_ / scaler.scale_])\n",
    "b2 = svm_clf2.decision_function([-scaler.mean_ / scaler.scale_])\n",
    "w1 = svm_clf1.coef_[0] / scaler.scale_\n",
    "w2 = svm_clf2.coef_[0] / scaler.scale_\n",
    "svm_clf1.intercept_ = np.array([b1])\n",
    "svm_clf2.intercept_ = np.array([b2])\n",
    "svm_clf1.coef_ = np.array([w1])\n",
    "svm_clf2.coef_ = np.array([w2])\n"
   ],
   "id": "bb4606d158ce8a48",
   "execution_count": 45,
   "outputs": []
  },
  {
   "metadata": {
    "ExecuteTime": {
     "end_time": "2024-06-05T11:58:12.639932Z",
     "start_time": "2024-06-05T11:58:12.395567Z"
    }
   },
   "cell_type": "code",
   "source": [
    "plt.figure(figsize=(12,3.2))\n",
    "plt.subplot(121)\n",
    "plt.plot(X[:, 0][y==1], X[:, 1][y==1], \"g^\", label=\"Iris-Virginica\")\n",
    "plt.plot(X[:, 0][y==0], X[:, 1][y==0], \"bs\", label=\"Iris-Versicolor\")\n",
    "plot_svc_decision_boundary(svm_clf1, 4, 6,sv=False)\n",
    "plt.xlabel(\"Petal length\", fontsize=14)\n",
    "plt.ylabel(\"Petal width\", fontsize=14)\n",
    "plt.legend(loc=\"upper left\", fontsize=14)\n",
    "plt.title(\"$C = {}$\".format(svm_clf1.C), fontsize=16)\n",
    "plt.axis([4, 6, 0.8, 2.8])\n",
    "\n",
    "plt.subplot(122)\n",
    "plt.plot(X[:, 0][y==1], X[:, 1][y==1], \"g^\")\n",
    "plt.plot(X[:, 0][y==0], X[:, 1][y==0], \"bs\")\n",
    "plot_svc_decision_boundary(svm_clf2, 4, 6,sv=False)\n",
    "plt.xlabel(\"Petal length\", fontsize=14)\n",
    "plt.title(\"$C = {}$\".format(svm_clf2.C), fontsize=16)\n",
    "plt.axis([4, 6, 0.8, 2.8])\n"
   ],
   "id": "843cb98bb3aec7d9",
   "execution_count": 46,
   "outputs": []
  },
  {
   "metadata": {},
   "cell_type": "markdown",
   "source": [
    "- 右侧高C值, 分类器减少误分类\n",
    "- 左侧低C值, 间隔更大, 但是很多数据会在间隔之内  "
   ],
   "id": "982d6644b4ea2da1"
  },
  {
   "metadata": {},
   "cell_type": "markdown",
   "source": "## 非线性SVM",
   "id": "1794b3a75b67fd2"
  },
  {
   "metadata": {
    "ExecuteTime": {
     "end_time": "2024-06-05T12:01:44.037743Z",
     "start_time": "2024-06-05T12:01:43.822326Z"
    }
   },
   "cell_type": "code",
   "source": [
    "X1D = np.linspace(-4, 4, 9).reshape(-1, 1)\n",
    "X2D = np.c_[X1D, X1D**2]\n",
    "y = np.array([0, 0, 1, 1, 1, 1, 1, 0, 0])\n",
    "\n",
    "plt.figure(figsize=(11, 4))\n",
    "\n",
    "plt.subplot(121)\n",
    "plt.grid(True, which='both')\n",
    "plt.axhline(y=0, color='k')\n",
    "plt.plot(X1D[:, 0][y==0], np.zeros(4), \"bs\")\n",
    "plt.plot(X1D[:, 0][y==1], np.zeros(5), \"g^\")\n",
    "plt.gca().get_yaxis().set_ticks([])\n",
    "plt.xlabel(r\"$x_1$\", fontsize=20)\n",
    "plt.axis([-4.5, 4.5, -0.2, 0.2])\n",
    "\n",
    "plt.subplot(122)\n",
    "plt.grid(True, which='both')\n",
    "plt.axhline(y=0, color='k')\n",
    "plt.axvline(x=0, color='k')\n",
    "plt.plot(X2D[:, 0][y==0], X2D[:, 1][y==0], \"bs\")\n",
    "plt.plot(X2D[:, 0][y==1], X2D[:, 1][y==1], \"g^\")\n",
    "plt.xlabel(r\"$x_1$\", fontsize=20)\n",
    "plt.ylabel(r\"$x_2$\", fontsize=20, rotation=0)\n",
    "plt.gca().get_yaxis().set_ticks([0, 4, 8, 12, 16])\n",
    "plt.plot([-4.5, 4.5], [6.5, 6.5], \"r--\", linewidth=3)\n",
    "plt.axis([-4.5, 4.5, -1, 17])\n",
    "\n",
    "plt.subplots_adjust(right=1)\n"
   ],
   "id": "3494f4b774980b36",
   "execution_count": 48,
   "outputs": []
  },
  {
   "metadata": {
    "ExecuteTime": {
     "end_time": "2024-06-05T12:02:23.827282Z",
     "start_time": "2024-06-05T12:02:23.711396Z"
    }
   },
   "cell_type": "code",
   "source": [
    "from sklearn.datasets import make_moons\n",
    "\n",
    "X, y = make_moons(n_samples=100, noise=0.15, random_state=42)\n",
    "\n",
    "def plot_dataset(X, y, axes):\n",
    "    plt.plot(X[:, 0][y==0], X[:, 1][y==0], \"bs\")\n",
    "    plt.plot(X[:, 0][y==1], X[:, 1][y==1], \"g^\")\n",
    "    plt.axis(axes)\n",
    "    plt.grid(True, which='both')\n",
    "    plt.xlabel(r\"$x_1$\", fontsize=20)\n",
    "    plt.ylabel(r\"$x_2$\", fontsize=20, rotation=0)\n",
    "    \n",
    "plot_dataset(X, y, [-1.5, 2.5, -1, 1.5])\n",
    "plt.show()"
   ],
   "id": "872efb4ab0ffff0f",
   "execution_count": 49,
   "outputs": []
  },
  {
   "metadata": {
    "ExecuteTime": {
     "end_time": "2024-06-05T12:02:53.674704Z",
     "start_time": "2024-06-05T12:02:53.663866Z"
    }
   },
   "cell_type": "code",
   "source": [
    "from sklearn.datasets import make_moons\n",
    "from sklearn.pipeline import Pipeline\n",
    "from sklearn.preprocessing import PolynomialFeatures\n",
    "\n",
    "polynomial_svm_clf = Pipeline([\n",
    "        (\"poly_features\", PolynomialFeatures(degree=3)),\n",
    "        (\"scaler\", StandardScaler()),\n",
    "        (\"svm_clf\", LinearSVC(C=10, loss=\"hinge\", random_state=42))\n",
    "    ])\n",
    "\n",
    "polynomial_svm_clf.fit(X, y)\n"
   ],
   "id": "9903982be3392b38",
   "execution_count": 50,
   "outputs": []
  },
  {
   "metadata": {
    "ExecuteTime": {
     "end_time": "2024-06-05T12:33:44.801396Z",
     "start_time": "2024-06-05T12:33:44.675370Z"
    }
   },
   "cell_type": "code",
   "source": [
    "def plot_predictions(clf, axes):\n",
    "    x0s = np.linspace(axes[0], axes[1], 100)\n",
    "    x1s = np.linspace(axes[2], axes[3], 100)\n",
    "    x0, x1 = np.meshgrid(x0s, x1s)\n",
    "    X = np.c_[x0.ravel(), x1.ravel()]\n",
    "    y_pred = clf.predict(X).reshape(x0.shape)\n",
    "    y_decision = clf.decision_function(X).reshape(x0.shape)\n",
    "    plt.contourf(x0, x1, y_pred, cmap='brg', alpha=0.2)\n",
    "    # plt.contourf(x0, x1, y_decision, cmap='brg', alpha=0.1)\n",
    "    \n",
    "plot_predictions(polynomial_svm_clf, [-1.5, 2.5, -1, 1.5])\n",
    "plot_dataset(X, y, [-1.5, 2.5, -1, 1.5])"
   ],
   "id": "1696d31a96214c9b",
   "execution_count": 63,
   "outputs": []
  },
  {
   "metadata": {
    "ExecuteTime": {
     "end_time": "2024-06-05T12:11:13.833418Z",
     "start_time": "2024-06-05T12:11:13.682047Z"
    }
   },
   "cell_type": "code",
   "source": "",
   "id": "25599ba6d4f36a54",
   "execution_count": 53,
   "outputs": []
  },
  {
   "metadata": {
    "ExecuteTime": {
     "end_time": "2024-06-05T12:12:47.616459Z",
     "start_time": "2024-06-05T12:12:47.602967Z"
    }
   },
   "cell_type": "code",
   "source": [
    "from sklearn.svm import SVC\n",
    "\n",
    "poly_kernel_svm_clf = Pipeline([\n",
    "        (\"scaler\", StandardScaler()),\n",
    "        (\"svm_clf\", SVC(kernel=\"poly\", degree=3, coef0=1, C=5))\n",
    "    ])\n",
    "poly_kernel_svm_clf.fit(X, y)"
   ],
   "id": "644a6c5742e4178f",
   "execution_count": 54,
   "outputs": []
  },
  {
   "metadata": {
    "ExecuteTime": {
     "end_time": "2024-06-05T12:13:00.644457Z",
     "start_time": "2024-06-05T12:13:00.618250Z"
    }
   },
   "cell_type": "code",
   "source": [
    "poly100_kernel_svm_clf = Pipeline([\n",
    "        (\"scaler\", StandardScaler()),\n",
    "        (\"svm_clf\", SVC(kernel=\"poly\", degree=10, coef0=100, C=5))\n",
    "    ])\n",
    "poly100_kernel_svm_clf.fit(X, y)"
   ],
   "id": "2d10326e5c1dd75d",
   "execution_count": 55,
   "outputs": []
  },
  {
   "metadata": {
    "ExecuteTime": {
     "end_time": "2024-06-05T12:13:29.964381Z",
     "start_time": "2024-06-05T12:13:29.723707Z"
    }
   },
   "cell_type": "code",
   "source": [
    "plt.figure(figsize=(11, 4))\n",
    "\n",
    "plt.subplot(121)\n",
    "plot_predictions(poly_kernel_svm_clf, [-1.5, 2.5, -1, 1.5])\n",
    "plot_dataset(X, y, [-1.5, 2.5, -1, 1.5])\n",
    "plt.title(r\"$d=3, r=1, C=5$\", fontsize=18)\n",
    "\n",
    "plt.subplot(122)\n",
    "plot_predictions(poly100_kernel_svm_clf, [-1.5, 2.5, -1, 1.5])\n",
    "plot_dataset(X, y, [-1.5, 2.5, -1, 1.5])\n",
    "plt.title(r\"$d=10, r=100, C=5$\", fontsize=18)\n",
    "\n",
    "plt.show()"
   ],
   "id": "9f91714c8accc519",
   "execution_count": 56,
   "outputs": []
  },
  {
   "metadata": {},
   "cell_type": "markdown",
   "source": [
    "高斯核函数:\n",
    "- 利用相似度来变换数据"
   ],
   "id": "3f6aa14636c1e1e4"
  },
  {
   "metadata": {},
   "cell_type": "markdown",
   "source": [
    "- 选择一份一维数据集, 并在$x_1=-2$和$x_1=1$处为其添加两个高斯函数\n",
    "- 接下来 将相似度函数定义为$\\gamma = 0.3$ 的径向基函数(RBF)\n",
    "$$\\phi_{\\gamma}(x, \\ell) = exp(-\\gamma||x-\\ell||^2)$$\n",
    "例如: $x = -1$ : 它位于第一个地标距离为1 的地方, 距离第二个地标距离为2. 因此, 其新特征是$x_2 = exp(-0.3*1^2) \\approx 0.74$和$x_3 = exp(-0.3*2^2) \\approx 0.30$"
   ],
   "id": "a0bd08f819086b41"
  },
  {
   "metadata": {
    "ExecuteTime": {
     "end_time": "2024-06-05T12:26:27.270827Z",
     "start_time": "2024-06-05T12:26:27.040241Z"
    }
   },
   "cell_type": "code",
   "source": [
    "from sklearn.svm import SVC\n",
    "\n",
    "def gaussian_rbf(x, landmark, gamma):\n",
    "    return np.exp(-gamma * np.linalg.norm(x - landmark, axis=1)**2)\n",
    "\n",
    "gamma = 0.3\n",
    "\n",
    "x1s = np.linspace(-4.5, 4.5, 200).reshape(-1, 1)\n",
    "x2s = gaussian_rbf(x1s, -2, gamma)\n",
    "x3s = gaussian_rbf(x1s, 1, gamma)\n",
    "\n",
    "XK = np.c_[gaussian_rbf(X1D, -2, gamma), gaussian_rbf(X1D, 1, gamma)]\n",
    "yk = np.array([0, 0, 1, 1, 1, 1, 1, 0, 0])\n",
    "\n",
    "plt.figure(figsize=(11, 4))\n",
    "\n",
    "plt.subplot(121)\n",
    "plt.grid(True, which='both')\n",
    "plt.axhline(y=0, color='k')\n",
    "plt.scatter(x=[-2, 1], y=[0, 0], s=150, alpha=0.5, c=\"red\")\n",
    "plt.plot(X1D[:, 0][yk==0], np.zeros(4), \"bs\")\n",
    "plt.plot(X1D[:, 0][yk==1], np.zeros(5), \"g^\")\n",
    "plt.plot(x1s, x2s, \"g--\")\n",
    "plt.plot(x1s, x3s, \"b:\")\n",
    "\n",
    "plt.gca().get_yaxis().set_ticks([0, 0.25, 0.5, 0.75, 1])\n",
    "plt.xlabel(r\"$x_1$\", fontsize=20)\n",
    "plt.ylabel(r\"Similarity\", fontsize=14)\n",
    "plt.annotate(r'$\\mathbf{x}$',\n",
    "             xy=(X1D[3, 0], 0),\n",
    "             xytext=(-0.5, 0.20),\n",
    "             ha=\"center\",\n",
    "             arrowprops=dict(facecolor='black', shrink=0.1),\n",
    "             fontsize=18,\n",
    "            )\n",
    "plt.text(-2, 0.9, \"$x_2$\", ha=\"center\", fontsize=20)\n",
    "plt.text(1, 0.9, \"$x_3$\", ha=\"center\", fontsize=20)\n",
    "plt.axis([-4.5, 4.5, -0.1, 1.1])\n",
    "\n",
    "plt.subplot(122)\n",
    "plt.grid(True, which='both')\n",
    "plt.axhline(y=0, color='k')\n",
    "plt.axvline(x=0, color='k')\n",
    "plt.plot(XK[:, 0][yk==0], XK[:, 1][yk==0], \"bs\")\n",
    "plt.plot(XK[:, 0][yk==1], XK[:, 1][yk==1], \"g^\")\n",
    "plt.xlabel(r\"$x_2$\", fontsize=20)\n",
    "plt.ylabel(r\"$x_3$  \", fontsize=20, rotation=0)\n",
    "plt.annotate(r'$\\phi\\mathbf{x}$',\n",
    "             xy=(XK[3, 0], XK[3, 1]),\n",
    "             xytext=(0.65, 0.50),\n",
    "             ha=\"center\",\n",
    "             arrowprops=dict(facecolor='black', shrink=0.1),\n",
    "             fontsize=18,\n",
    "            )\n",
    "plt.plot([-0.1, 1.1], [0.57, -0.1], \"r--\", linewidth=3)\n",
    "plt.axis([-0.1, 1.1, -0.1, 1.1])\n",
    "\n",
    "plt.subplots_adjust(right=1)\n",
    "\n",
    "plt.show()"
   ],
   "id": "3ae8e5193ba396a6",
   "execution_count": 57,
   "outputs": []
  },
  {
   "metadata": {},
   "cell_type": "markdown",
   "source": [
    "理论情况下会对每一个实例(样本数据点) 创建一个地标, 从而转换数据集, 但是实际上会导致更多的特征, 从而增加计算复杂度.\n",
    "- 从mn数据集变成 mm 数据集"
   ],
   "id": "a588f8ada2af2aff"
  },
  {
   "metadata": {},
   "cell_type": "markdown",
   "source": [
    "SVM中利用核函数的计算技巧, 大大降低了计算复杂度:\n",
    "- 增加 gamma $\\gamma$ 使得高斯曲线变窄, 从而使得每个实例的影响范围变小, 决策边界更不规则, 在个别实例周围摆动\n",
    "- 减少 $\\gamma$ 使得高斯曲线变宽, 从而使得每个实例的影响范围变大, 决策边界更平滑"
   ],
   "id": "af2840462894e315"
  },
  {
   "metadata": {
    "ExecuteTime": {
     "end_time": "2024-06-05T12:31:39.263405Z",
     "start_time": "2024-06-05T12:31:39.252162Z"
    }
   },
   "cell_type": "code",
   "source": [
    "rbf_kernel_svm_clf = Pipeline([\n",
    "        (\"scaler\", StandardScaler()),\n",
    "        (\"svm_clf\", SVC(kernel=\"rbf\", gamma=5, C=0.001))\n",
    "    ])\n",
    "\n",
    "rbf_kernel_svm_clf.fit(X, y)"
   ],
   "id": "a598d08ab511f1ec",
   "execution_count": 58,
   "outputs": []
  },
  {
   "metadata": {
    "ExecuteTime": {
     "end_time": "2024-06-05T12:34:02.313554Z",
     "start_time": "2024-06-05T12:34:01.088369Z"
    }
   },
   "cell_type": "code",
   "source": [
    "from sklearn.svm import SVC\n",
    "\n",
    "gamma1, gamma2 = 0.1, 5\n",
    "C1, C2 = 0.001, 1000\n",
    "hyperparams = (gamma1, C1), (gamma1, C2), (gamma2, C1), (gamma2, C2)\n",
    "\n",
    "svm_clfs = []\n",
    "for gamma, C in hyperparams:\n",
    "    rbf_kernel_svm_clf = Pipeline([\n",
    "            (\"scaler\", StandardScaler()),\n",
    "            (\"svm_clf\", SVC(kernel=\"rbf\", gamma=gamma, C=C))\n",
    "        ])\n",
    "    rbf_kernel_svm_clf.fit(X, y)\n",
    "    svm_clfs.append(rbf_kernel_svm_clf)\n",
    "    \n",
    "plt.figure(figsize=(11, 7))\n",
    "\n",
    "for i, svm_clf in enumerate(svm_clfs):\n",
    "    plt.subplot(221 + i)\n",
    "    plot_predictions(svm_clf, [-1.5, 2.5, -1, 1.5])\n",
    "    plot_dataset(X, y, [-1.5, 2.5, -1, 1.5])\n",
    "    gamma, C = hyperparams[i]\n",
    "    plt.title(r\"$\\gamma = {}, C = {}$\".format(gamma, C), fontsize=16)\n",
    "plt.show()"
   ],
   "id": "1f8d95e8d67c1332",
   "execution_count": 64,
   "outputs": []
  },
  {
   "metadata": {},
   "cell_type": "code",
   "execution_count": null,
   "source": " ",
   "id": "432aa005cb94acf0",
   "outputs": []
  }
 ],
 "metadata": {
  "kernelspec": {
   "display_name": "Python 3",
   "language": "python",
   "name": "python3"
  },
  "language_info": {
   "codemirror_mode": {
    "name": "ipython",
    "version": 2
   },
   "file_extension": ".py",
   "mimetype": "text/x-python",
   "name": "python",
   "nbconvert_exporter": "python",
   "pygments_lexer": "ipython2",
   "version": "2.7.6"
  }
 },
 "nbformat": 4,
 "nbformat_minor": 5
}

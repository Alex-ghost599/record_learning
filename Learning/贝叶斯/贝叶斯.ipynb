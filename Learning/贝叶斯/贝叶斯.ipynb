{
 "cells": [
  {
   "metadata": {},
   "cell_type": "markdown",
   "source": [
    "# 贝叶斯\n",
    "- 贝叶斯公式:\n",
    "    - $P(A|B) = \\frac{P(B|A)P(A)}{P(B)}$\n",
    "- 在贝叶斯公式中，$P(A)$是先验概率，$P(A|B)$是后验概率，$P(B|A)$是似然度，$P(B)$是标准化常量。\n",
    "    - $P(A)$先验概率：在考虑任何数据之前我们对事件的概率的了解。(这个概率是根据以往的经验，或者主观判断得到的,也是贝叶斯理论里和传统理论里最大的区别) 很重要\n",
    "        - 例如，我们知道在标准的52张扑克牌中，红桃的数量是13张，那么我们可以计算出抽到红桃的概率是$P(A) = \\frac{13}{52} = \\frac{1}{4}$。\n",
    "    - $P(B|A)$似然度：通过这个模型，数据出现的概率。(要定义一个规则，这个规则是由我们自己定义的, 也就是模型, 在这个模型下，数据出现的概率, 如果似然度相同, 那么我们就会选择先验概率大的那个, 也就是我们认为的更有可能发生的那个)\n",
    "        - 例如，我们可以计算在抽到红桃的情况下，抽到A的概率是$P(B|A) = \\frac{1}{13}$。\n",
    "    - $P(A|B)$后验概率：考虑了新数据之后，我们对事件概率的新的认识。\n",
    "        - 例如，我们可以计算出在抽到A的情况下，抽到红桃的概率是$P(A|B) = \\frac{1}{4}$。\n",
    "    - $P(B)$标准化常量：使得后验概率和为1。\n",
    "        - 很多时候这个值很难计算，但是在实际应用中通常是不需要计算这个值的。可以通过计算分子的值，然后比较分子的大小来决定哪个事件更有可能发生。所以在实际应用中，我们通常会忽略掉分母。\n"
   ],
   "id": "3d96fb3dbeaa299d"
  },
  {
   "metadata": {},
   "cell_type": "markdown",
   "source": [
    "## 朴素贝叶斯\n",
    "- 朴素贝叶斯是一种基于贝叶斯定理的分类算法。\n",
    "- 朴素贝叶斯算法的核心是假设特征之间是相互独立的。\n",
    "    - 这样做的好处是可以简化计算，缺点是忽略了特征之间的相互关系, 理论上会略微影响分类的准确性。"
   ],
   "id": "4a791514f9814176"
  },
  {
   "cell_type": "code",
   "execution_count": null,
   "id": "initial_id",
   "metadata": {
    "collapsed": true
   },
   "outputs": [],
   "source": [
    ""
   ]
  }
 ],
 "metadata": {
  "kernelspec": {
   "display_name": "Python 3",
   "language": "python",
   "name": "python3"
  },
  "language_info": {
   "codemirror_mode": {
    "name": "ipython",
    "version": 2
   },
   "file_extension": ".py",
   "mimetype": "text/x-python",
   "name": "python",
   "nbconvert_exporter": "python",
   "pygments_lexer": "ipython2",
   "version": "2.7.6"
  }
 },
 "nbformat": 4,
 "nbformat_minor": 5
}

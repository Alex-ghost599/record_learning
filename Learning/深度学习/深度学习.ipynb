{
 "cells": [
  {
   "metadata": {},
   "cell_type": "markdown",
   "source": [
    "# 深度学习\n",
    "- 机器学习流程:\n",
    "    - 数据获取\n",
    "    - 特征工程\n",
    "    - 建立模型\n",
    "    - 评估与应用"
   ],
   "id": "c33a5b60990ad17e"
  },
  {
   "metadata": {},
   "cell_type": "markdown",
   "source": [
    "## 特征工程:\n",
    "- 特征工程是机器学习的核心\n",
    "- 特征工程是指对特征进行处理，使得特征更适合模型的学习\n",
    "- 数据特征决定了模型的上限，模型和算法只是逼近这个上限\n",
    "- 预处理和特征提取是最核心的两个环节\n",
    "- 特征如何提取，如何选择，如何处理，是机器学习的核心问题"
   ],
   "id": "946be5045eaba508"
  },
  {
   "metadata": {},
   "cell_type": "markdown",
   "source": [
    "### 深度学习的主流应用:\n",
    "- 图片识别\n",
    "- 语音识别\n",
    "- 自然语言处理"
   ],
   "id": "a8d25b19830b8593"
  },
  {
   "metadata": {},
   "cell_type": "markdown",
   "source": [
    "1. 收集数据并给定标签\n",
    "2. 训练一个分类器\n",
    "3. 测试,评估"
   ],
   "id": "899c5c8bf047d2d5"
  },
  {
   "metadata": {},
   "cell_type": "markdown",
   "source": "## 神经网络基础",
   "id": "52b8bb519b47c7af"
  },
  {
   "metadata": {},
   "cell_type": "markdown",
   "source": [
    "1. 线性函数\n",
    "- 从输入到输出的映射\n",
    "- 每个类别的得分\n",
    "- 数学表达式: $f(x) = Wx + b$\n",
    "    - W: 权重 维度是 (C, D) C是类别数，D是特征数\n",
    "    - b: 偏置 维度是 (C,) C是类别数\n",
    "    - x: 输入特征 维度是 (D,) D是特征数\n",
    "- 线性函数的输出是一个向量，向量的每个元素是一个类别的得分, 维度是 (C,)\n",
    "- 线性函数的输出可以看作是一个类别的概率，通过softmax函数转换\n",
    "- softmax函数: $softmax(x) = \\frac{e^{x_i}}{\\sum_{j=1}^{C}e^{x_j}}$\n",
    "- softmax函数的输出是一个概率分布，所有元素的和是1\n",
    "- softmax函数的输出可以看作是一个类别的概率\n",
    "- 多组权重构成了决策边界"
   ],
   "id": "7b33e5877c50863a"
  },
  {
   "metadata": {},
   "cell_type": "markdown",
   "source": [
    "2. 损失函数\n",
    "- 用来衡量分类的结果, 明确指导模型当前的好坏\n",
    "- 同样需要正则化惩罚项"
   ],
   "id": "9cae460fdc27947a"
  },
  {
   "metadata": {},
   "cell_type": "markdown",
   "source": [
    "3. softmax分类器\n",
    "- 线性函数的输出(得分矩阵)通过softmax函数转换为概率矩阵\n",
    "- 归一化: $P(Y=k|X=x_i) = \\frac{e^{S_k}}{\\sum_{j}e^{S_j}}$\n",
    "    - $s=f(x_i;W)$\n",
    "- 损失函数: $L_i = -log(P(Y=k|X=x_i))$\n",
    "\n",
    "这里完成前向传播, 之后为了更新参数, 需要进行反向传播(梯度下降)"
   ],
   "id": "3f83a54b98554281"
  },
  {
   "metadata": {},
   "cell_type": "markdown",
   "source": [
    "4. 反向传播\n",
    "- 反向传播是求解梯度的过程(梯度下降)\n",
    "- 目标函数: $J(\\theta_0, \\theta_1) = \\frac{1}{M}\\sum_{i=1}^{M}h_{\\theta}(x^{(i)} - y^{(i)})$\n",
    "- 从输出层开始, 逐层计算梯度(链式法则)\n",
    "- 门单元:\n",
    "    - 加法门: $f(x, y) = x + y$ 均等\n",
    "    - 乘法门: $f(x, y) = x * y$ 交换\n",
    "    - 最大门: $f(x, y) = max(x, y)$ 选择最大的"
   ],
   "id": "bb789e3eaa36ffec"
  },
  {
   "metadata": {},
   "cell_type": "markdown",
   "source": [
    "## 整体构架\n",
    "- 层次结构\n",
    "    - 输入层\n",
    "    - 隐藏层\n",
    "    - 输出层\n",
    "- 神经元(每层的节点)\n",
    "    - 输入层: 输入特征的数量\n",
    "    - 输出层: 输出类别\n",
    "- 全连接\n",
    "    - 层之间是和一个(m,n)的矩阵相乘(也就是不同的权重w)\n",
    "        - m是上一层的神经元数量\n",
    "        - n是下一层的神经元数量\n",
    "- 非线性\n",
    "    - 每次全连接后, 都会加上一个非线性函数(激活函数)\n",
    "        - 激活函数:\n",
    "        - sigmoid: $f(x) = \\frac{1}{1+e^{-x}}$\n",
    "        - maxout: $f(x) = max(w_1^Tx + b_1, w_2^Tx + b_2)$\n",
    "        - tanh: $f(x) = \\frac{e^x - e^{-x}}{e^x + e^{-x}}$\n",
    "        - ReLU: $f(x) = max(0, x)$\n",
    "        - Leaky ReLU: $f(x) = max(0.01x, x)$\n",
    "        - PReLU: $f(x) = max(\\alpha x, x)$\n",
    "        - ELU: $f(x) = x, x > 0; f(x) = \\alpha(e^x - 1), x \\le 0$\n",
    "     \n",
    "神经网络强大在于用非常多的参数拟合复杂的数据, 但是也容易过拟合\n",
    "- 通过正则化来减少过拟合, 惩罚力度越大, 模型越简单"
   ],
   "id": "f0d80bf85c7fefee"
  },
  {
   "metadata": {},
   "cell_type": "markdown",
   "source": [
    "- 激活函数\n",
    "    - 用于引入非线性\n",
    "    - 使得神经网络可以拟合任意函数\n",
    "    - 使得神经网络可以逼近任意函数\n",
    "    - sigmoid函数(已经不推荐使用)\n",
    "    - tanh函数\n",
    "    - ReLU函数(推荐使用)(常见)(其它是Relu的变种)\n",
    "    - Leaky ReLU函数\n",
    "    - PReLU函数\n",
    "    - ELU函数"
   ],
   "id": "906966d37f7beddf"
  },
  {
   "metadata": {},
   "cell_type": "markdown",
   "source": [
    "- 数据处理\n",
    "    - 数据预处理\n",
    "        - 数据归一化\n",
    "        - 数据标准化\n",
    "        - 数据正则化\n",
    "    - 数据增强\n",
    "        - 旋转\n",
    "        - 翻转\n",
    "        - 剪切\n",
    "        - 缩放\n",
    "        - 平移\n",
    "        - 噪声\n",
    "        - 亮度\n",
    "        - 对比度\n",
    "        - 饱和度\n",
    "        - 色调\n",
    "    - 数据降噪\n",
    "        - 均值滤波\n",
    "        - 中值滤波\n",
    "        - 高斯滤波\n",
    "        - 双边滤波\n",
    "        - 非局部均值滤波\n",
    "    - 数据增广\n",
    "        - 随机裁剪\n",
    "        - 随机旋转\n",
    "        - 随机缩放\n",
    "        - 随机翻转\n",
    "        - 随机亮度\n",
    "        - 随机对比度\n",
    "        - 随机饱和度\n",
    "        - 随机色调\n",
    "        - 随机噪声\n",
    "        - 随机模糊\n",
    "        - 随机扭曲\n",
    "        - 随机擦除\n",
    "        - 随机颜色空间变换\n",
    "        - 随机仿射变换\n",
    "        - 随机透视变换\n",
    "        - 随机椒盐噪声\n",
    "        - 随机高斯"
   ],
   "id": "9cacdd0a0474390f"
  },
  {
   "metadata": {},
   "cell_type": "markdown",
   "source": [
    "- 参数初始化\n",
    "    - 随机初始化\n",
    "        - 一般初始化为正态分布\n",
    "        - 一般初始化为均匀分布\n",
    "        - 一般初始化为截断正态分布\n",
    "        - 一般初始化为截断均匀分布\n",
    "    - 固定初始化\n",
    "        - 一般初始化为0\n",
    "        - 一般初始化为1\n",
    "        - 一般初始化为其他\n",
    "    - 高斯初始化\n",
    "        - 一般初始化为高斯分布\n",
    "        - 一般初始化为截断高斯分布\n",
    "    - 均匀初始化\n",
    "        - 一般初始化为均匀分布\n",
    "        - 一般初始化为截断均匀分布\n",
    "    - 截断初始化\n",
    "        - 一般初始化为截断正态分布\n",
    "        - 一般初始化为截断均匀分布\n",
    "    - 正态初始化\n",
    "        - 一般初始化为正态分布\n",
    "        - 一般初始化为截断正态分布\n",
    "    - 单位初始化\n",
    "        - 一般初始化为单位矩阵\n",
    "        - 一般初始化为单位向量\n",
    "        - 一般初始化为单位矩阵的变种\n",
    "    - 对角初始化\n",
    "        - 一般初始化为对角矩阵\n",
    "        - 一般初始化为对角向量\n",
    "        - 一般初始化为对角矩阵的变种\n",
    "    - 正交初始化\n",
    "        - 一般初始化为正交矩阵\n",
    "        - 一般初始化为正交向量\n",
    "        - 一般初始化为正交矩阵的变种\n"
   ],
   "id": "a561ae298d95d35f"
  },
  {
   "metadata": {},
   "cell_type": "markdown",
   "source": [
    "- Dropout\n",
    "    - 防止过拟合\n",
    "    - 每次随机失活一部分神经元\n",
    "    - 使得神经网络不依赖某些特征\n",
    "    - 使得神经网络不依赖某些神经元\n",
    "    - 使得神经网络不依赖某些层\n",
    "    - 使得神经网络不依赖某些权重"
   ],
   "id": "89c88280ef0d59f5"
  },
  {
   "metadata": {},
   "cell_type": "code",
   "outputs": [],
   "execution_count": null,
   "source": "",
   "id": "67471d82c0c6b55"
  },
  {
   "metadata": {},
   "cell_type": "code",
   "outputs": [],
   "execution_count": null,
   "source": "",
   "id": "2da29da509b739cb"
  },
  {
   "cell_type": "code",
   "execution_count": null,
   "id": "initial_id",
   "metadata": {
    "collapsed": true
   },
   "outputs": [],
   "source": " "
  }
 ],
 "metadata": {
  "kernelspec": {
   "display_name": "Python 3",
   "language": "python",
   "name": "python3"
  },
  "language_info": {
   "codemirror_mode": {
    "name": "ipython",
    "version": 2
   },
   "file_extension": ".py",
   "mimetype": "text/x-python",
   "name": "python",
   "nbconvert_exporter": "python",
   "pygments_lexer": "ipython2",
   "version": "2.7.6"
  }
 },
 "nbformat": 4,
 "nbformat_minor": 5
}

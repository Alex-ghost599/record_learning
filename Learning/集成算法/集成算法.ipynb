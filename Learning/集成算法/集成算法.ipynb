{
 "cells": [
  {
   "metadata": {},
   "cell_type": "markdown",
   "source": [
    "# 集成算法\n",
    "- 目的：提高模型的准确率\n",
    "- bagging: 通过多个模型的预测结果进行投票，最终结果由多数决定. $\\hat{f}(x) = \\frac{1}{M} \\sum_{m=1}^{M} f_m(x)$\n",
    "- boosting: 通过多个模型的预测结果进行加权投票，最终结果由加权多数决定.\n",
    "    - $F_m(x) = F_{m-1}(x) + argmin_{h} \\sum_{i=1}^{N} L(y_i, F_{m-1}(x_i) + h(x_i))$ (加入一颗树,会让模型更强)\n",
    "- stacking: 聚合多个模型的预测结果，通过一个元模型进行预测"
   ],
   "id": "452ddde38e4fa134"
  },
  {
   "metadata": {},
   "cell_type": "markdown",
   "source": [
    "## bagging\n",
    "- 全称: Bootstrap aggregating(并行训练很多分类器，然后平均)\n",
    "- 通过自助采样，生成多个训练集，训练多个模型，最终结果由多数决定\n",
    "- 代表模型：随机森林\n",
    "    - 随机:数据随机采样，特征随机采样(或者按照gini系数选择特征)\n",
    "    - 森林:多个决策树\n",
    "- 优势:\n",
    "    - 高维数据,不用做特征选择\n",
    "    - 完成后，可以给出各个特征的重要性\n",
    "    - 训练速度快\n",
    "    - 可以并行训练\n",
    "- 缺点:\n",
    "    - 预测速度慢\n",
    "    - 有些时候不够准确\n",
    "- 树的个数: 通过交叉验证确定\n",
    "    - 理论上，树的个数越多，模型越好，但是到一定程度，就会上下波动了\n",
    "    - 通过交叉验证，找到最优的树的个数"
   ],
   "id": "35e35cc0b79aeb1"
  },
  {
   "metadata": {},
   "cell_type": "markdown",
   "source": [
    "## boosting\n",
    "- 全程: Boosting(串联训练多个分类器，然后加权平均)\n",
    "- 通过多个模型的预测结果进行加权投票，最终结果由加权多数决定.\n",
    "- 代表模型: adaboost, XGBoost (LightGBM, GBDT)\n",
    "- adaboost: 根据上一次的错误率，调整样本权重，训练下一个模型\n",
    "- XGBoost: 根据上一次的残差，训练下一个模型\n"
   ],
   "id": "35f822e6bb73e7a3"
  },
  {
   "metadata": {},
   "cell_type": "markdown",
   "source": [
    "## stacking\n",
    "- 全称: Stacked generalization\n",
    "- 通过多个模型的预测结果进行加权投票，最终结果由加权多数决定."
   ],
   "id": "d399e4ee4ff0bc5e"
  },
  {
   "cell_type": "code",
   "id": "initial_id",
   "metadata": {
    "collapsed": true,
    "ExecuteTime": {
     "end_time": "2024-06-05T06:52:02.188005Z",
     "start_time": "2024-06-05T06:52:01.577180Z"
    }
   },
   "source": [
    "import numpy as np\n",
    "import os\n",
    "%matplotlib inline\n",
    "import matplotlib\n",
    "import matplotlib.pyplot as plt\n",
    "plt.rcParams['axes.labelsize'] = 14\n",
    "plt.rcParams['xtick.labelsize'] = 12\n",
    "plt.rcParams['ytick.labelsize'] = 12\n",
    "import warnings\n",
    "warnings.filterwarnings('ignore')"
   ],
   "execution_count": 2,
   "outputs": []
  },
  {
   "metadata": {
    "ExecuteTime": {
     "end_time": "2024-06-05T06:52:03.505407Z",
     "start_time": "2024-06-05T06:52:02.188968Z"
    }
   },
   "cell_type": "code",
   "source": [
    "from sklearn.model_selection import train_test_split\n",
    "from sklearn.datasets import make_moons\n",
    "\n",
    "X, y = make_moons(n_samples=500, noise=0.30, random_state=42)\n",
    "X_train, X_test, y_train, y_test = train_test_split(X, y, random_state=42)"
   ],
   "id": "408c505090293b5e",
   "execution_count": 3,
   "outputs": []
  },
  {
   "metadata": {
    "ExecuteTime": {
     "end_time": "2024-06-05T06:52:03.647903Z",
     "start_time": "2024-06-05T06:52:03.506383Z"
    }
   },
   "cell_type": "code",
   "source": [
    "plt.scatter(X_train[y_train==0][:, 0], X_train[y_train==0][:, 1], c='r', label='0')\n",
    "plt.scatter(X_train[y_train==1][:, 0], X_train[y_train==1][:, 1], c='b', label='1')\n",
    "plt.legend()\n",
    "plt.show()\n"
   ],
   "id": "ba62ec8836bc439d",
   "execution_count": 4,
   "outputs": []
  },
  {
   "metadata": {},
   "cell_type": "markdown",
   "source": [
    "### 投票策略: 硬投票和软投票\n",
    "- 硬投票: 多个模型投票，多数决定\n",
    "- 软投票: 多个模型投票，加权多数决定"
   ],
   "id": "d5d78cc152f54ae4"
  },
  {
   "metadata": {},
   "cell_type": "markdown",
   "source": "### 硬投票",
   "id": "3aa758346bdab6e7"
  },
  {
   "metadata": {
    "ExecuteTime": {
     "end_time": "2024-06-05T06:52:03.939043Z",
     "start_time": "2024-06-05T06:52:03.648879Z"
    }
   },
   "cell_type": "code",
   "source": [
    "from sklearn.ensemble import RandomForestClassifier\n",
    "from sklearn.ensemble import VotingClassifier\n",
    "from sklearn.linear_model import LogisticRegression\n",
    "from sklearn.svm import SVC\n",
    "\n",
    "log_clf = LogisticRegression(random_state=42)\n",
    "rnd_clf = RandomForestClassifier(random_state=42)\n",
    "svm_clf = SVC(random_state=42)\n",
    "\n",
    "voting_clf = VotingClassifier(estimators=[('lr', log_clf), ('rf', rnd_clf), ('svc', svm_clf)], voting='hard')\n",
    "voting_clf.fit(X_train, y_train)\n"
   ],
   "id": "e474be8b7c314d36",
   "execution_count": 5,
   "outputs": []
  },
  {
   "metadata": {
    "ExecuteTime": {
     "end_time": "2024-06-05T06:52:04.204498Z",
     "start_time": "2024-06-05T06:52:03.939963Z"
    }
   },
   "cell_type": "code",
   "source": [
    "from sklearn.metrics import accuracy_score\n",
    "for clf in (log_clf, rnd_clf, svm_clf, voting_clf):\n",
    "    clf.fit(X_train, y_train)\n",
    "    y_pred = clf.predict(X_test)\n",
    "    print(clf.__class__.__name__,\n",
    "            accuracy_score(y_test, y_pred))\n",
    "    \n"
   ],
   "id": "3cda2a75600eb433",
   "execution_count": 6,
   "outputs": []
  },
  {
   "metadata": {},
   "cell_type": "markdown",
   "source": "### 软投票",
   "id": "54224cd5a138781"
  },
  {
   "metadata": {
    "ExecuteTime": {
     "end_time": "2024-06-05T06:52:04.208372Z",
     "start_time": "2024-06-05T06:52:04.205014Z"
    }
   },
   "cell_type": "code",
   "source": [
    "log_clf = LogisticRegression(random_state=42)\n",
    "rnd_clf = RandomForestClassifier(random_state=42)\n",
    "svm_clf = SVC(probability=True,random_state=42)\n",
    "\n",
    "voting_clf = VotingClassifier(estimators=[('lr', log_clf), ('rf', rnd_clf), ('svc', svm_clf)], voting='soft')"
   ],
   "id": "a7d79cbe12a73438",
   "execution_count": 7,
   "outputs": []
  },
  {
   "metadata": {
    "ExecuteTime": {
     "end_time": "2024-06-05T06:52:04.347477Z",
     "start_time": "2024-06-05T06:52:04.209344Z"
    }
   },
   "cell_type": "code",
   "source": "voting_clf.fit(X_train, y_train)\n",
   "id": "510e33161cea423",
   "execution_count": 8,
   "outputs": []
  },
  {
   "metadata": {
    "ExecuteTime": {
     "end_time": "2024-06-05T06:52:04.590813Z",
     "start_time": "2024-06-05T06:52:04.348514Z"
    }
   },
   "cell_type": "code",
   "source": [
    "from sklearn.metrics import accuracy_score\n",
    "\n",
    "for clf in (log_clf, rnd_clf, svm_clf, voting_clf):\n",
    "    clf.fit(X_train, y_train)\n",
    "    y_pred = clf.predict(X_test)\n",
    "    print(clf.__class__.__name__,\n",
    "            accuracy_score(y_test, y_pred))\n"
   ],
   "id": "5f32aa936f167317",
   "execution_count": 9,
   "outputs": []
  },
  {
   "metadata": {},
   "cell_type": "markdown",
   "source": [
    "## bagging\n",
    "- 对数据进行多次采样，保证每次采样的数据集不同\n",
    "- 分别训练多个模型，例如决策树\n",
    "- 预测时，多个模型投票，多数决定(集成)\n",
    "- "
   ],
   "id": "bffc6dfab6cb0c39"
  },
  {
   "metadata": {
    "ExecuteTime": {
     "end_time": "2024-06-05T06:52:04.595040Z",
     "start_time": "2024-06-05T06:52:04.591860Z"
    }
   },
   "cell_type": "code",
   "source": "X_train.shape",
   "id": "6144f7799e2c761e",
   "execution_count": 10,
   "outputs": []
  },
  {
   "metadata": {
    "ExecuteTime": {
     "end_time": "2024-06-05T06:52:08.808400Z",
     "start_time": "2024-06-05T06:52:04.596587Z"
    }
   },
   "cell_type": "code",
   "source": [
    "from sklearn.ensemble import BaggingClassifier\n",
    "from sklearn.tree import DecisionTreeClassifier\n",
    "\n",
    "bag_clf = BaggingClassifier(DecisionTreeClassifier(), n_estimators=500, max_samples=100, bootstrap=True, n_jobs=-1)\n",
    "bag_clf.fit(X_train, y_train)\n",
    "y_pred = bag_clf.predict(X_test)\n",
    "print(accuracy_score(y_test, y_pred))"
   ],
   "id": "60f32db23268f70a",
   "execution_count": 11,
   "outputs": []
  },
  {
   "metadata": {
    "ExecuteTime": {
     "end_time": "2024-06-05T06:52:08.814244Z",
     "start_time": "2024-06-05T06:52:08.809363Z"
    }
   },
   "cell_type": "code",
   "source": [
    "tree_clf = DecisionTreeClassifier()\n",
    "tree_clf.fit(X_train, y_train)\n",
    "y_pred_tree = tree_clf.predict(X_test)\n",
    "print(accuracy_score(y_test, y_pred_tree))"
   ],
   "id": "cf26eb7b0a48315f",
   "execution_count": 12,
   "outputs": []
  },
  {
   "metadata": {},
   "cell_type": "markdown",
   "source": "### 决策边界",
   "id": "4c06c47954006d7d"
  },
  {
   "metadata": {
    "ExecuteTime": {
     "end_time": "2024-06-05T06:52:08.820332Z",
     "start_time": "2024-06-05T06:52:08.815219Z"
    }
   },
   "cell_type": "code",
   "source": [
    "from matplotlib.colors import ListedColormap\n",
    "\n",
    "def plot_decision_boundary(clf, X, y, axes=(-1.5, 2.5, -1, 1.5), alpha=0.6, contour=True):\n",
    "    x1s = np.linspace(axes[0], axes[1], 100)\n",
    "    x2s = np.linspace(axes[2], axes[3], 100)\n",
    "    x1, x2 = np.meshgrid(x1s, x2s)\n",
    "    X_new = np.c_[x1.ravel(), x2.ravel()]\n",
    "    y_pred = clf.predict(X_new).reshape(x1.shape)\n",
    "    custom_cmap = ListedColormap(['#fafab0','#9898ff','#a0faa0'])\n",
    "    plt.contourf(x1, x2, y_pred, alpha=0.3, cmap=custom_cmap)\n",
    "    if contour:\n",
    "        custom_cmap2 = ListedColormap(['#7d7d58','#4c4c7f','#507d50'])\n",
    "        plt.contour(x1, x2, y_pred, cmap=custom_cmap2, alpha=0.8)\n",
    "    plt.plot(X[:, 0][y==0], X[:, 1][y==0], \"ro\", alpha=alpha)\n",
    "    plt.plot(X[:, 0][y==1], X[:, 1][y==1], \"bs\", alpha=alpha)\n",
    "    plt.axis(axes)\n",
    "    plt.xlabel(r\"$x_1$\", fontsize=18)\n",
    "    plt.ylabel(r\"$x_2$\", fontsize=18, rotation=0)"
   ],
   "id": "7302ed9d306e17ae",
   "execution_count": 13,
   "outputs": []
  },
  {
   "metadata": {
    "ExecuteTime": {
     "end_time": "2024-06-05T06:52:09.239713Z",
     "start_time": "2024-06-05T06:52:08.821196Z"
    }
   },
   "cell_type": "code",
   "source": [
    "plt.figure(figsize=(11,4))\n",
    "plt.subplot(121)\n",
    "plot_decision_boundary(tree_clf, X, y)\n",
    "plt.title(\"Decision Tree\", fontsize=14)\n",
    "plt.subplot(122)\n",
    "plot_decision_boundary(bag_clf, X, y)\n",
    "plt.title(\"Decision Trees with Bagging\", fontsize=14)\n",
    "plt.show()"
   ],
   "id": "40f8d52ec7dbb11b",
   "execution_count": 14,
   "outputs": []
  },
  {
   "metadata": {},
   "cell_type": "markdown",
   "source": [
    "### OOB\n",
    "- out-of-bag"
   ],
   "id": "d814fb4edcc0f1f7"
  },
  {
   "metadata": {
    "ExecuteTime": {
     "end_time": "2024-06-05T06:52:09.560281Z",
     "start_time": "2024-06-05T06:52:09.240742Z"
    }
   },
   "cell_type": "code",
   "source": [
    "bag_clf = BaggingClassifier(DecisionTreeClassifier(), \n",
    "                            n_estimators=500, \n",
    "                            max_samples=100,\n",
    "                            bootstrap=True, \n",
    "                            n_jobs=-1, \n",
    "                            oob_score=True)\n",
    "bag_clf.fit(X_train, y_train)\n",
    "bag_clf.oob_score_"
   ],
   "id": "e9d13d580b73a7bf",
   "execution_count": 15,
   "outputs": []
  },
  {
   "metadata": {
    "ExecuteTime": {
     "end_time": "2024-06-05T06:52:09.659993Z",
     "start_time": "2024-06-05T06:52:09.560281Z"
    }
   },
   "cell_type": "code",
   "source": [
    "y_pred = bag_clf.predict(X_test)\n",
    "accuracy_score(y_test, y_pred)"
   ],
   "id": "e05a6a5c1e9c3e22",
   "execution_count": 16,
   "outputs": []
  },
  {
   "metadata": {
    "ExecuteTime": {
     "end_time": "2024-06-05T06:52:09.668723Z",
     "start_time": "2024-06-05T06:52:09.659993Z"
    }
   },
   "cell_type": "code",
   "source": "bag_clf.oob_decision_function_",
   "id": "d8db3083946f5325",
   "execution_count": 17,
   "outputs": []
  },
  {
   "metadata": {},
   "cell_type": "markdown",
   "source": [
    "### 随机森林\n",
    "- bagging的一个扩展\n",
    "- "
   ],
   "id": "763f382f427f20a6"
  },
  {
   "metadata": {},
   "cell_type": "markdown",
   "source": [
    "### 特征重要性\n",
    "sklearn是看特征在树中的深度，来判断特征的重要性"
   ],
   "id": "1f9d0f2bf8b6d90a"
  },
  {
   "metadata": {
    "ExecuteTime": {
     "end_time": "2024-06-05T06:52:10.231681Z",
     "start_time": "2024-06-05T06:52:09.669663Z"
    }
   },
   "cell_type": "code",
   "source": [
    "from sklearn.ensemble import RandomForestClassifier\n",
    "from sklearn.datasets import load_iris\n",
    "\n",
    "iris = load_iris()\n",
    "rnd_clf = RandomForestClassifier(n_estimators=500, n_jobs=-1)\n",
    "rnd_clf.fit(iris['data'], iris['target'])\n",
    "for name, score in zip(iris.feature_names, rnd_clf.feature_importances_):\n",
    "    print(name, score)  \n"
   ],
   "id": "9ed2439e445ee89d",
   "execution_count": 18,
   "outputs": []
  },
  {
   "metadata": {},
   "cell_type": "markdown",
   "source": "Mnist中哪些特征重要",
   "id": "a76389201293955a"
  },
  {
   "metadata": {
    "ExecuteTime": {
     "end_time": "2024-06-05T06:52:20.634987Z",
     "start_time": "2024-06-05T06:52:10.231681Z"
    }
   },
   "cell_type": "code",
   "source": [
    "from sklearn.datasets import fetch_openml\n",
    "mnist = fetch_openml('mnist_784', version=1)\n",
    "rnd_clf = RandomForestClassifier(n_estimators=100, n_jobs=-1)\n",
    "rnd_clf.fit(mnist['data'], mnist['target'])"
   ],
   "id": "d24d04f89324e12d",
   "execution_count": 19,
   "outputs": []
  },
  {
   "metadata": {
    "ExecuteTime": {
     "end_time": "2024-06-05T06:52:20.655907Z",
     "start_time": "2024-06-05T06:52:20.635963Z"
    }
   },
   "cell_type": "code",
   "source": "rnd_clf.feature_importances_.shape",
   "id": "b3bd51c5b2f488d1",
   "execution_count": 20,
   "outputs": []
  },
  {
   "metadata": {
    "ExecuteTime": {
     "end_time": "2024-06-05T06:52:20.803940Z",
     "start_time": "2024-06-05T06:52:20.656884Z"
    }
   },
   "cell_type": "code",
   "source": [
    "import matplotlib.pyplot as plt\n",
    "plt.imshow(rnd_clf.feature_importances_.reshape(28, 28), cmap='hot', interpolation='nearest')\n",
    "plt.colorbar()\n",
    "plt.show()\n"
   ],
   "id": "4afe4deb0aa8927f",
   "execution_count": 21,
   "outputs": []
  },
  {
   "metadata": {},
   "cell_type": "markdown",
   "source": "## Boosting",
   "id": "e7c0b319d64568d5"
  },
  {
   "metadata": {},
   "cell_type": "markdown",
   "source": [
    "### Adaboost\n",
    "- 根据上一次的错误率，调整样本权重，训练下一个模型"
   ],
   "id": "9643aea58d981641"
  },
  {
   "metadata": {
    "ExecuteTime": {
     "end_time": "2024-06-05T06:52:23.486645Z",
     "start_time": "2024-06-05T06:52:20.804911Z"
    }
   },
   "cell_type": "code",
   "source": [
    "from sklearn.svm import SVC\n",
    "\n",
    "\n",
    "m = len(X_train)\n",
    "plt.figure(figsize=(11, 4))\n",
    "\n",
    "for subplot, learning_rate in ((121, 1), (122, 0.5)):\n",
    "    sample_weights = np.ones(m)\n",
    "    plt.subplot(subplot)\n",
    "    for i in range(5):\n",
    "        svm_clf = SVC(kernel='rbf', C=0.05, gamma='auto', random_state=42)\n",
    "        svm_clf.fit(X_train, y_train, sample_weight=sample_weights)\n",
    "        y_pred = svm_clf.predict(X_train)\n",
    "        sample_weights[y_pred != y_train] *= (1 + learning_rate)\n",
    "        plot_decision_boundary(svm_clf, X, y, alpha=0.2)\n",
    "        plt.title('learning_rate = {}'.format(learning_rate), fontsize=16)\n",
    "    if subplot == 121:\n",
    "        plt.text(-0.7, -0.65, '1', fontsize=14)\n",
    "        plt.text(-0.6, -0.10, '2', fontsize=14)\n",
    "        plt.text(-0.5,  0.10, '3', fontsize=14)\n",
    "        plt.text(-0.4,  0.55, '4', fontsize=14)\n",
    "        plt.text(-0.3,  0.90, '5', fontsize=14)\n",
    "        \n",
    "\n",
    "plt.show()"
   ],
   "id": "67306f0c6e2cfa10",
   "execution_count": 22,
   "outputs": []
  },
  {
   "metadata": {
    "ExecuteTime": {
     "end_time": "2024-06-05T06:52:23.777909Z",
     "start_time": "2024-06-05T06:52:23.487620Z"
    }
   },
   "cell_type": "code",
   "source": [
    "from sklearn.ensemble import AdaBoostClassifier\n",
    "\n",
    "ada_clf = AdaBoostClassifier(DecisionTreeClassifier(max_depth=1), n_estimators=200, algorithm='SAMME.R', learning_rate=0.5,\n",
    "                             random_state=42)\n",
    "ada_clf.fit(X_train, y_train)"
   ],
   "id": "3249df4055239d30",
   "execution_count": 23,
   "outputs": []
  },
  {
   "metadata": {
    "ExecuteTime": {
     "end_time": "2024-06-05T06:52:24.035073Z",
     "start_time": "2024-06-05T06:52:23.777909Z"
    }
   },
   "cell_type": "code",
   "source": "plot_decision_boundary(ada_clf, X, y)",
   "id": "5b1554dda3446142",
   "execution_count": 24,
   "outputs": []
  },
  {
   "metadata": {},
   "cell_type": "markdown",
   "source": [
    "### Gradient Boosting\n",
    "- GBDT: Gradient Boosting Decision Tree\n",
    "- XGBoost: eXtreme Gradient Boosting\n",
    "- LightGBM: Light Gradient Boosting Machine"
   ],
   "id": "687a783744c58ac5"
  },
  {
   "metadata": {
    "ExecuteTime": {
     "end_time": "2024-06-05T06:52:24.038978Z",
     "start_time": "2024-06-05T06:52:24.035073Z"
    }
   },
   "cell_type": "code",
   "source": [
    "np.random.seed(42)\n",
    "X = np.random.rand(100, 1) - 0.5\n",
    "y = 3*X[:, 0]**2 + 0.05 * np.random.randn(100)\n"
   ],
   "id": "904d9d45376ece32",
   "execution_count": 25,
   "outputs": []
  },
  {
   "metadata": {
    "ExecuteTime": {
     "end_time": "2024-06-05T06:52:24.046325Z",
     "start_time": "2024-06-05T06:52:24.039954Z"
    }
   },
   "cell_type": "code",
   "source": [
    "from sklearn.tree import DecisionTreeRegressor\n",
    "\n",
    "tree_reg1 = DecisionTreeRegressor(max_depth=2)\n",
    "tree_reg1.fit(X, y)\n"
   ],
   "id": "240a96fa7bff92b4",
   "execution_count": 26,
   "outputs": []
  },
  {
   "metadata": {
    "ExecuteTime": {
     "end_time": "2024-06-05T06:52:24.051630Z",
     "start_time": "2024-06-05T06:52:24.047292Z"
    }
   },
   "cell_type": "code",
   "source": "tree_reg1.predict(X)",
   "id": "ae4df0a8cb612cc3",
   "execution_count": 27,
   "outputs": []
  },
  {
   "metadata": {
    "ExecuteTime": {
     "end_time": "2024-06-05T06:52:24.058458Z",
     "start_time": "2024-06-05T06:52:24.052602Z"
    }
   },
   "cell_type": "code",
   "source": [
    "y2 = y - tree_reg1.predict(X)\n",
    "tree_reg2 = DecisionTreeRegressor(max_depth=2)\n",
    "tree_reg2.fit(X, y2)"
   ],
   "id": "9ac9b3c94dfc3dfd",
   "execution_count": 28,
   "outputs": []
  },
  {
   "metadata": {
    "ExecuteTime": {
     "end_time": "2024-06-05T06:52:24.067665Z",
     "start_time": "2024-06-05T06:52:24.062436Z"
    }
   },
   "cell_type": "code",
   "source": [
    "y3 = y2 - tree_reg2.predict(X)\n",
    "tree_reg3 = DecisionTreeRegressor(max_depth=2)\n",
    "tree_reg3.fit(X, y3)"
   ],
   "id": "8e93cdda9b55f753",
   "execution_count": 29,
   "outputs": []
  },
  {
   "metadata": {
    "ExecuteTime": {
     "end_time": "2024-06-05T06:52:24.073430Z",
     "start_time": "2024-06-05T06:52:24.068695Z"
    }
   },
   "cell_type": "code",
   "source": [
    "X_new = np.array([[0.8]])\n",
    "y_pred = sum(tree.predict(X_new) for tree in (tree_reg1, tree_reg2, tree_reg3))\n",
    "y_pred"
   ],
   "id": "5b2073a4c61a2c28",
   "execution_count": 30,
   "outputs": []
  },
  {
   "metadata": {
    "ExecuteTime": {
     "end_time": "2024-06-05T06:52:24.077624Z",
     "start_time": "2024-06-05T06:52:24.073944Z"
    }
   },
   "cell_type": "code",
   "source": [
    "def plot_predictions(regressors, X, y, axes, label=None, style='r-', data_style='b.', data_label=None):\n",
    "    x1 = np.linspace(axes[0], axes[1], 500)\n",
    "    y_pred = sum(regressor.predict(x1.reshape(-1, 1)) for regressor in regressors)\n",
    "    plt.plot(X[:, 0], y, data_style, label=data_label)\n",
    "    plt.plot(x1, y_pred, style, linewidth=2, label=label)\n",
    "    if label or data_label:\n",
    "        plt.legend(loc='upper center', fontsize=16)\n",
    "    plt.axis(axes)\n",
    "    "
   ],
   "id": "9352fa28c14c0908",
   "execution_count": 31,
   "outputs": []
  },
  {
   "metadata": {
    "ExecuteTime": {
     "end_time": "2024-06-05T06:52:24.686964Z",
     "start_time": "2024-06-05T06:52:24.078597Z"
    }
   },
   "cell_type": "code",
   "source": [
    "plt.figure(figsize=(11, 11))\n",
    "\n",
    "plt.subplot(321)\n",
    "plot_predictions([tree_reg1], X, y, axes=[-0.5, 0.5, -0.1, 0.8], label='$h_1(x_1)$', style='g-', data_label='Training set')\n",
    "plt.ylabel('$y$', fontsize=16, rotation=0)\n",
    "plt.title('Residuals and tree predictions', fontsize=16)\n",
    "\n",
    "plt.subplot(322)\n",
    "plot_predictions([tree_reg1], X, y, axes=[-0.5, 0.5, -0.1, 0.8], label='$h(x_1) = h_1(x_1)$', style='g-', data_label='Training set')\n",
    "plt.ylabel('$y$', fontsize=16, rotation=0)\n",
    "plt.title('Ensemble predictions', fontsize=16)\n",
    "\n",
    "plt.subplot(323)\n",
    "plot_predictions([tree_reg2], X, y2, axes=[-0.5, 0.5, -0.5, 0.5], label='$h_2(x_1)$', style='g-', data_style='k+', data_label='Residuals')\n",
    "plt.ylabel('$y - h_1(x_1)$', fontsize=16)\n",
    "\n",
    "plt.subplot(324)\n",
    "plot_predictions([tree_reg1, tree_reg2], X, y, axes=[-0.5, 0.5, -0.1, 0.8], label='$h(x_1) = h_1(x_1) + h_2(x_1)$', style='g-', data_label='Training set')\n",
    "plt.ylabel('$y$', fontsize=16, rotation=0)\n",
    "\n",
    "plt.subplot(325)\n",
    "plot_predictions([tree_reg3], X, y3, axes=[-0.5, 0.5, -0.5, 0.5], label='$h_3(x_1)$', style='g-', data_style='k+')\n",
    "plt.ylabel('$y - h_1(x_1) - h_2(x_1)$', fontsize=16)\n",
    "plt.xlabel('$x_1$', fontsize=16)\n",
    "\n",
    "plt.subplot(326)\n",
    "plot_predictions([tree_reg1, tree_reg2, tree_reg3], X, y, axes=[-0.5, 0.5, -0.1, 0.8], label='$h(x_1) = h_1(x_1) + h_2(x_1) + h_3(x_1)$', style='g-')\n",
    "plt.xlabel('$x_1$', fontsize=16)\n",
    "plt.ylabel('$y$', fontsize=16, rotation=0)\n",
    "\n",
    "plt.show()"
   ],
   "id": "d6f9816757e123d9",
   "execution_count": 32,
   "outputs": []
  },
  {
   "metadata": {
    "ExecuteTime": {
     "end_time": "2024-06-05T06:52:24.694771Z",
     "start_time": "2024-06-05T06:52:24.686964Z"
    }
   },
   "cell_type": "code",
   "source": [
    "from sklearn.ensemble import GradientBoostingRegressor\n",
    "\n",
    "gbdt = GradientBoostingRegressor(max_depth=2, n_estimators=3, learning_rate=1.0, random_state=42)\n",
    "gbdt.fit(X, y)"
   ],
   "id": "4b50f0213fc51bcf",
   "execution_count": 33,
   "outputs": []
  },
  {
   "metadata": {
    "ExecuteTime": {
     "end_time": "2024-06-05T06:52:24.698577Z",
     "start_time": "2024-06-05T06:52:24.694771Z"
    }
   },
   "cell_type": "code",
   "source": "gbdt.predict(X_new)\n",
   "id": "9c5164427e9e9162",
   "execution_count": 34,
   "outputs": []
  },
  {
   "metadata": {
    "ExecuteTime": {
     "end_time": "2024-06-05T06:52:24.708332Z",
     "start_time": "2024-06-05T06:52:24.698577Z"
    }
   },
   "cell_type": "code",
   "source": [
    "gbdt_slow1 = GradientBoostingRegressor(max_depth=2, n_estimators=3, learning_rate=0.1, random_state=42)\n",
    "gbdt_slow1.fit(X, y)"
   ],
   "id": "cc834bb934fce7b",
   "execution_count": 35,
   "outputs": []
  },
  {
   "metadata": {
    "ExecuteTime": {
     "end_time": "2024-06-05T06:52:24.788478Z",
     "start_time": "2024-06-05T06:52:24.708332Z"
    }
   },
   "cell_type": "code",
   "source": [
    "gbdt_slow2 = GradientBoostingRegressor(max_depth=2, n_estimators=200, learning_rate=0.1, random_state=42)\n",
    "gbdt_slow2.fit(X, y)"
   ],
   "id": "f6c47876a93bc4b6",
   "execution_count": 36,
   "outputs": []
  },
  {
   "metadata": {
    "ExecuteTime": {
     "end_time": "2024-06-05T06:52:25.002349Z",
     "start_time": "2024-06-05T06:52:24.789499Z"
    }
   },
   "cell_type": "code",
   "source": [
    "plt.figure(figsize=(11, 4))\n",
    "\n",
    "plt.subplot(121)\n",
    "plot_predictions([gbdt], X, y, axes=[-0.5, 0.5, -0.1, 0.8], label='Ensemble predictions')\n",
    "plt.title('learning_rate={}, n_estimators={}'.format(gbdt.learning_rate, gbdt.n_estimators), fontsize=14)\n",
    "\n",
    "plt.subplot(122)\n",
    "plot_predictions([gbdt_slow1], X, y, axes=[-0.5, 0.5, -0.1, 0.8], label='Ensemble predictions')\n",
    "plt.title('learning_rate={}, n_estimators={}'.format(gbdt_slow1.learning_rate, gbdt_slow1.n_estimators), fontsize=14)\n",
    "plt.show()"
   ],
   "id": "c532fc16a98b9795",
   "execution_count": 37,
   "outputs": []
  },
  {
   "metadata": {
    "ExecuteTime": {
     "end_time": "2024-06-05T06:52:25.236896Z",
     "start_time": "2024-06-05T06:52:25.006196Z"
    }
   },
   "cell_type": "code",
   "source": [
    "plt.figure(figsize=(11, 4))\n",
    "\n",
    "plt.subplot(121)\n",
    "plot_predictions([gbdt_slow1], X, y, axes=[-0.5, 0.5, -0.1, 0.8], label='Ensemble predictions')\n",
    "plt.title('learning_rate={}, n_estimators={}'.format(gbdt_slow1.learning_rate, gbdt_slow1.n_estimators), fontsize=14)\n",
    "\n",
    "plt.subplot(122)\n",
    "plot_predictions([gbdt_slow2], X, y, axes=[-0.5, 0.5, -0.1, 0.8], label='Ensemble predictions')\n",
    "plt.title('learning_rate={}, n_estimators={}'.format(gbdt_slow2.learning_rate, gbdt_slow2.n_estimators), fontsize=14)\n",
    "plt.show()\n"
   ],
   "id": "df8161fcd2c3965c",
   "execution_count": 38,
   "outputs": []
  },
  {
   "metadata": {},
   "cell_type": "markdown",
   "source": "### 提前停止策略",
   "id": "aef24b2463c2d3a6"
  },
  {
   "metadata": {
    "ExecuteTime": {
     "end_time": "2024-06-05T06:52:25.241334Z",
     "start_time": "2024-06-05T06:52:25.237871Z"
    }
   },
   "cell_type": "code",
   "source": "X_train, X_val, y_train, y_val = train_test_split(X, y, random_state=49)",
   "id": "417a7c771fef15c2",
   "execution_count": 39,
   "outputs": []
  },
  {
   "metadata": {
    "ExecuteTime": {
     "end_time": "2024-06-05T06:52:25.322813Z",
     "start_time": "2024-06-05T06:52:25.241334Z"
    }
   },
   "cell_type": "code",
   "source": [
    "gbdt = GradientBoostingRegressor(max_depth=2, n_estimators=120, random_state=42)\n",
    "gbdt.fit(X_train, y_train)\n",
    "\n",
    "from sklearn.metrics import mean_squared_error\n",
    "errors = [mean_squared_error(y_val, y_pred) for y_pred in gbdt.staged_predict(X_val)]\n",
    "bst_n_estimators = np.argmin(errors) + 1\n"
   ],
   "id": "7a758674095b8295",
   "execution_count": 40,
   "outputs": []
  },
  {
   "metadata": {
    "ExecuteTime": {
     "end_time": "2024-06-05T06:52:25.326765Z",
     "start_time": "2024-06-05T06:52:25.322813Z"
    }
   },
   "cell_type": "code",
   "source": "gbdt_best = GradientBoostingRegressor(max_depth=2, n_estimators=bst_n_estimators, random_state=42)",
   "id": "393259f6feac1a",
   "execution_count": 41,
   "outputs": []
  },
  {
   "metadata": {
    "ExecuteTime": {
     "end_time": "2024-06-05T06:52:25.355406Z",
     "start_time": "2024-06-05T06:52:25.326765Z"
    }
   },
   "cell_type": "code",
   "source": "gbdt_best.fit(X_train, y_train)",
   "id": "6c38357c7a7342e3",
   "execution_count": 42,
   "outputs": []
  },
  {
   "metadata": {
    "ExecuteTime": {
     "end_time": "2024-06-05T06:52:25.360426Z",
     "start_time": "2024-06-05T06:52:25.355927Z"
    }
   },
   "cell_type": "code",
   "source": [
    "min_error = np.min(errors)\n",
    "min_error"
   ],
   "id": "58bd0aaaf76a2c2",
   "execution_count": 43,
   "outputs": []
  },
  {
   "metadata": {
    "ExecuteTime": {
     "end_time": "2024-06-05T06:52:25.577739Z",
     "start_time": "2024-06-05T06:52:25.361392Z"
    }
   },
   "cell_type": "code",
   "source": [
    "plt.figure(figsize=(18, 8))\n",
    "plt.subplot(121)\n",
    "plt.plot(errors, 'b.-')\n",
    "plt.plot([bst_n_estimators, bst_n_estimators], [0, min_error], 'k--')\n",
    "plt.plot([0, 120], [min_error, min_error], 'k--')\n",
    "plt.plot(bst_n_estimators, min_error, 'ko')\n",
    "plt.text(bst_n_estimators, min_error*1.2, 'Minimum', ha='center', fontsize=14)\n",
    "plt.axis([0, 120, 0, 0.01])\n",
    "plt.xlabel('Number of trees')\n",
    "plt.ylabel('Error', fontsize=16)\n",
    "plt.title('Validation error', fontsize=14)\n",
    "\n",
    "plt.subplot(122)\n",
    "plot_predictions([gbdt_best], X, y, axes=[-0.5, 0.5, -0.1, 0.8])\n",
    "plt.title('Best model (%d trees)' % bst_n_estimators, fontsize=14)\n",
    "\n",
    "plt.show()"
   ],
   "id": "ef75fe2c1d43edd2",
   "execution_count": 44,
   "outputs": []
  },
  {
   "metadata": {
    "ExecuteTime": {
     "end_time": "2024-06-05T06:52:25.581153Z",
     "start_time": "2024-06-05T06:52:25.577739Z"
    }
   },
   "cell_type": "code",
   "source": [
    "gbdt = GradientBoostingRegressor(max_depth=2, warm_start=True, random_state=42)\n",
    "min_error = float('inf')"
   ],
   "id": "52629dd4e30fb347",
   "execution_count": 45,
   "outputs": []
  },
  {
   "metadata": {
    "ExecuteTime": {
     "end_time": "2024-06-05T06:52:25.667961Z",
     "start_time": "2024-06-05T06:52:25.582125Z"
    }
   },
   "cell_type": "code",
   "source": [
    "for n_estimators in range(1, 120):\n",
    "    gbdt.n_estimators = n_estimators\n",
    "    gbdt.fit(X_train, y_train)\n",
    "    y_pred = gbdt.predict(X_val)\n",
    "    error = mean_squared_error(y_val, y_pred)\n",
    "    if error < min_error:\n",
    "        min_error = error\n",
    "        error_going_up = 0\n",
    "    else:\n",
    "        error_going_up += 1\n",
    "        if error_going_up == 5:\n",
    "            break"
   ],
   "id": "2ff394dd4eaeb267",
   "execution_count": 46,
   "outputs": []
  },
  {
   "metadata": {
    "ExecuteTime": {
     "end_time": "2024-06-05T06:52:25.671451Z",
     "start_time": "2024-06-05T06:52:25.667961Z"
    }
   },
   "cell_type": "code",
   "source": "print(gbdt.n_estimators)",
   "id": "5fd7399f0dd2c34d",
   "execution_count": 47,
   "outputs": []
  },
  {
   "metadata": {},
   "cell_type": "markdown",
   "source": "### Stacking(堆叠法)",
   "id": "d02a253fa694e939"
  },
  {
   "metadata": {
    "ExecuteTime": {
     "end_time": "2024-06-05T06:52:30.235827Z",
     "start_time": "2024-06-05T06:52:25.672340Z"
    }
   },
   "cell_type": "code",
   "source": [
    "from sklearn.datasets import fetch_openml\n",
    "from sklearn.model_selection import train_test_split\n",
    "\n",
    "mnist = fetch_openml('mnist_784', version=1)\n",
    " \n",
    "X_train_val, X_test, y_train_val, y_test = train_test_split(mnist['data'], mnist['target'], test_size=10000, random_state=42)\n",
    "X_train, X_val, y_train, y_val = train_test_split(X_train_val, y_train_val, test_size=10000, random_state=42) "
   ],
   "id": "d119012911cb3e45",
   "execution_count": 48,
   "outputs": []
  },
  {
   "metadata": {
    "ExecuteTime": {
     "end_time": "2024-06-05T06:52:30.245588Z",
     "start_time": "2024-06-05T06:52:30.235827Z"
    }
   },
   "cell_type": "code",
   "source": [
    "from sklearn.ensemble import RandomForestClassifier, ExtraTreesClassifier\n",
    "from sklearn.svm import LinearSVC\n",
    "from sklearn.neural_network import MLPClassifier"
   ],
   "id": "9cd979f0be8ce07d",
   "execution_count": 49,
   "outputs": []
  },
  {
   "metadata": {
    "ExecuteTime": {
     "end_time": "2024-06-05T06:52:30.250335Z",
     "start_time": "2024-06-05T06:52:30.245588Z"
    }
   },
   "cell_type": "code",
   "source": [
    "random_forest_clf = RandomForestClassifier(n_estimators=100, random_state=42)\n",
    "extra_trees_clf = ExtraTreesClassifier(n_estimators=100, random_state=42)\n",
    "svm_clf = LinearSVC(random_state=42)\n",
    "mlp_clf = MLPClassifier(random_state=42)\n",
    "\n",
    "estimators = [random_forest_clf, extra_trees_clf, svm_clf, mlp_clf]"
   ],
   "id": "772479599c0f7080",
   "execution_count": 50,
   "outputs": []
  },
  {
   "metadata": {
    "ExecuteTime": {
     "end_time": "2024-06-05T07:09:30.429150Z",
     "start_time": "2024-06-05T06:52:33.658970Z"
    }
   },
   "cell_type": "code",
   "source": [
    "X_val_predictions = np.empty((len(X_val), len(estimators)), dtype=np.float32)\n",
    "\n",
    "for index, estimator in enumerate(estimators):\n",
    "    estimator.fit(X_train, y_train)\n",
    "    y_val_predict = estimator.predict(X_val)\n",
    "    X_val_predictions[:, index] = y_val_predict\n",
    "    "
   ],
   "id": "e5c91d558a3796ab",
   "execution_count": 51,
   "outputs": []
  },
  {
   "metadata": {
    "ExecuteTime": {
     "end_time": "2024-06-05T07:09:30.435006Z",
     "start_time": "2024-06-05T07:09:30.430126Z"
    }
   },
   "cell_type": "code",
   "source": "X_val_predictions",
   "id": "8fd319568300d9ae",
   "execution_count": 52,
   "outputs": []
  },
  {
   "metadata": {
    "ExecuteTime": {
     "end_time": "2024-06-05T07:09:31.148187Z",
     "start_time": "2024-06-05T07:09:30.435006Z"
    }
   },
   "cell_type": "code",
   "source": [
    "rnd_forest_blender = RandomForestClassifier(n_estimators=200, oob_score=True, random_state=42)\n",
    "rnd_forest_blender.fit(X_val_predictions, y_val)"
   ],
   "id": "22125edd0875f7df",
   "execution_count": 53,
   "outputs": []
  },
  {
   "metadata": {
    "ExecuteTime": {
     "end_time": "2024-06-05T07:09:31.153699Z",
     "start_time": "2024-06-05T07:09:31.149134Z"
    }
   },
   "cell_type": "code",
   "source": "rnd_forest_blender.oob_score_",
   "id": "3f197c25b2da04f8",
   "execution_count": 54,
   "outputs": []
  }
 ],
 "metadata": {
  "kernelspec": {
   "display_name": "Python 3",
   "language": "python",
   "name": "python3"
  },
  "language_info": {
   "codemirror_mode": {
    "name": "ipython",
    "version": 2
   },
   "file_extension": ".py",
   "mimetype": "text/x-python",
   "name": "python",
   "nbconvert_exporter": "python",
   "pygments_lexer": "ipython2",
   "version": "2.7.6"
  }
 },
 "nbformat": 4,
 "nbformat_minor": 5
}

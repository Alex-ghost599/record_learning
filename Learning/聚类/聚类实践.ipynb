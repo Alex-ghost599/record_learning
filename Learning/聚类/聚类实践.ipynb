{
 "cells": [
  {
   "metadata": {},
   "cell_type": "markdown",
   "source": [
    "### 聚类算法实践\n",
    "- Kmeans 和 DBSCAN 算法\n",
    "- 半监督问题解决方案\n",
    "- 聚类算法的评估"
   ],
   "id": "d9172ab2e5aa5125"
  },
  {
   "metadata": {},
   "cell_type": "markdown",
   "source": "![各种聚类算法的呈献](https://scikit-learn.org/stable/_images/sphx_glr_plot_cluster_comparison_001.png)\n",
   "id": "9be239bcfa218203"
  },
  {
   "cell_type": "code",
   "id": "initial_id",
   "metadata": {
    "collapsed": true,
    "ExecuteTime": {
     "end_time": "2024-06-04T13:50:21.673307Z",
     "start_time": "2024-06-04T13:50:21.153545Z"
    }
   },
   "source": [
    "import numpy as np\n",
    "import os\n",
    "%matplotlib inline\n",
    "import matplotlib\n",
    "import matplotlib.pyplot as plt\n",
    "plt.rcParams['axes.labelsize'] = 14\n",
    "plt.rcParams['xtick.labelsize'] = 12\n",
    "plt.rcParams['ytick.labelsize'] = 12\n",
    "import warnings\n",
    "warnings.filterwarnings('ignore')\n",
    "# np.random.seed(42)"
   ],
   "execution_count": 8,
   "outputs": []
  },
  {
   "metadata": {},
   "cell_type": "markdown",
   "source": "Kmeans 算法",
   "id": "9bf42b787dcb26f4"
  },
  {
   "metadata": {
    "ExecuteTime": {
     "end_time": "2024-06-04T08:41:08.474031Z",
     "start_time": "2024-06-04T08:41:08.471103Z"
    }
   },
   "cell_type": "code",
   "source": [
    "from sklearn.datasets import make_blobs\n",
    "\n",
    "blob_centers = np.array(\n",
    "    [[ 0.2,  2.3],\n",
    "     [-1.5 ,  2.3],\n",
    "     [-2.8,  1.8],\n",
    "     [-2.8,  2.8],\n",
    "     [-2.8,  1.3]])\n",
    "\n",
    "blob_std = np.array([0.4, 0.3, 0.1, 0.1, 0.1])"
   ],
   "id": "6ed4154f470d5252",
   "execution_count": 376,
   "outputs": []
  },
  {
   "metadata": {
    "ExecuteTime": {
     "end_time": "2024-06-04T08:41:08.480863Z",
     "start_time": "2024-06-04T08:41:08.475008Z"
    }
   },
   "cell_type": "code",
   "source": [
    "X, y = make_blobs(n_samples=2000, centers=blob_centers,\n",
    "                    cluster_std=blob_std)\n",
    "y"
   ],
   "id": "5c8f63ebd61cb668",
   "execution_count": 377,
   "outputs": []
  },
  {
   "metadata": {
    "ExecuteTime": {
     "end_time": "2024-06-04T08:41:08.591680Z",
     "start_time": "2024-06-04T08:41:08.505772Z"
    }
   },
   "cell_type": "code",
   "source": [
    "def plot_clusters(X, y=None):\n",
    "    plt.scatter(X[:, 0], X[:, 1], c=y, s=1)\n",
    "    plt.xlabel(\"$x_1$\", fontsize=14)\n",
    "    plt.ylabel(\"$x_2$\", fontsize=14, rotation=0)\n",
    "plt.figure(figsize=(8, 4))\n",
    "plot_clusters(X)\n",
    "plt.show()"
   ],
   "id": "278c15a97f74c1d4",
   "execution_count": 378,
   "outputs": []
  },
  {
   "metadata": {},
   "cell_type": "markdown",
   "source": "决策边界",
   "id": "42f7def8e34ca5fa"
  },
  {
   "metadata": {
    "ExecuteTime": {
     "end_time": "2024-06-04T08:41:08.600233Z",
     "start_time": "2024-06-04T08:41:08.592652Z"
    }
   },
   "cell_type": "code",
   "source": [
    "from sklearn.cluster import KMeans\n",
    "\n",
    "k = 5\n",
    "kmeans = KMeans(n_clusters=k)\n",
    "y_pred = kmeans.fit_predict(X)"
   ],
   "id": "7aaf0e566f1af269",
   "execution_count": 379,
   "outputs": []
  },
  {
   "metadata": {
    "ExecuteTime": {
     "end_time": "2024-06-04T08:41:08.606081Z",
     "start_time": "2024-06-04T08:41:08.601200Z"
    }
   },
   "cell_type": "code",
   "source": "y_pred",
   "id": "21e3ffb02b3bb4fa",
   "execution_count": 380,
   "outputs": []
  },
  {
   "metadata": {
    "ExecuteTime": {
     "end_time": "2024-06-04T08:41:08.612854Z",
     "start_time": "2024-06-04T08:41:08.608171Z"
    }
   },
   "cell_type": "code",
   "source": "kmeans.labels_",
   "id": "85c1f1991d79ed71",
   "execution_count": 381,
   "outputs": []
  },
  {
   "metadata": {
    "ExecuteTime": {
     "end_time": "2024-06-04T08:41:08.619720Z",
     "start_time": "2024-06-04T08:41:08.614444Z"
    }
   },
   "cell_type": "code",
   "source": "kmeans.cluster_centers_",
   "id": "97358462de025351",
   "execution_count": 382,
   "outputs": []
  },
  {
   "metadata": {
    "ExecuteTime": {
     "end_time": "2024-06-04T08:41:08.630512Z",
     "start_time": "2024-06-04T08:41:08.621668Z"
    }
   },
   "cell_type": "code",
   "source": [
    "X_new = np.array([[0, 2], [3, 2], [-3, 3], [-3, 2.5]])\n",
    "kmeans.predict(X_new)"
   ],
   "id": "d8d2c7c2bbf79064",
   "execution_count": 383,
   "outputs": []
  },
  {
   "metadata": {
    "ExecuteTime": {
     "end_time": "2024-06-04T08:41:08.655883Z",
     "start_time": "2024-06-04T08:41:08.650027Z"
    }
   },
   "cell_type": "code",
   "source": "kmeans.transform(X_new)",
   "id": "645d7fc59715fd68",
   "execution_count": 384,
   "outputs": []
  },
  {
   "metadata": {
    "ExecuteTime": {
     "end_time": "2024-06-04T08:41:08.759318Z",
     "start_time": "2024-06-04T08:41:08.752618Z"
    }
   },
   "cell_type": "code",
   "source": [
    "def plot_data(X):\n",
    "    plt.plot(X[:, 0], X[:, 1], 'k.', markersize=2)\n",
    "    \n",
    "def plot_centroids(centroids, weights=None, circle_color='w', cross_color='k'):\n",
    "    if weights is not None:\n",
    "        centroids = centroids[weights > weights.max() / 10]\n",
    "    plt.scatter(centroids[:, 0], centroids[:, 1],\n",
    "                marker='o', s=20, linewidths=8,\n",
    "                color=circle_color, zorder=10, alpha=0.9)\n",
    "    plt.scatter(centroids[:, 0], centroids[:, 1],\n",
    "                marker='x', s=20, linewidths=25,\n",
    "                color=cross_color, zorder=11, alpha=1)\n",
    "\n",
    "def plot_decision_boundaries(clusterer, X, resolution=1000, show_centroids=True,\n",
    "                                show_xlabels=True, show_ylabels=True):\n",
    "        mins = X.min(axis=0) - 0.1\n",
    "        maxs = X.max(axis=0) + 0.1\n",
    "        xx, yy = np.meshgrid(np.linspace(mins[0], maxs[0], resolution),\n",
    "                             np.linspace(mins[1], maxs[1], resolution))\n",
    "        Z = clusterer.predict(np.c_[xx.ravel(), yy.ravel()])\n",
    "        Z = Z.reshape(xx.shape)\n",
    "    \n",
    "        plt.contourf(Z, extent=(mins[0], maxs[0], mins[1], maxs[1]),\n",
    "                    cmap=\"Pastel2\")\n",
    "        plt.contour(Z, extent=(mins[0], maxs[0], mins[1], maxs[1]),\n",
    "                    linewidths=1, colors='k')\n",
    "        plot_data(X)\n",
    "        if show_centroids:\n",
    "            plot_centroids(clusterer.cluster_centers_)\n",
    "    \n",
    "        if show_xlabels:\n",
    "            plt.xlabel(\"$x_1$\", fontsize=14)\n",
    "        else:\n",
    "            plt.tick_params(labelbottom=False)\n",
    "        if show_ylabels:\n",
    "            plt.ylabel(\"$x_2$\", fontsize=14, rotation=0)\n",
    "        else:\n",
    "            plt.tick_params(labelleft=False)\n"
   ],
   "id": "e845e160ffe4b8b4",
   "execution_count": 385,
   "outputs": []
  },
  {
   "metadata": {
    "ExecuteTime": {
     "end_time": "2024-06-04T08:41:09.105248Z",
     "start_time": "2024-06-04T08:41:08.775029Z"
    }
   },
   "cell_type": "code",
   "source": [
    "plt.figure(figsize=(8, 4))\n",
    "plot_decision_boundaries(kmeans, X)\n",
    "plt.show()\n"
   ],
   "id": "821dd53ba3e1b010",
   "execution_count": 386,
   "outputs": []
  },
  {
   "metadata": {},
   "cell_type": "markdown",
   "source": "算法流程",
   "id": "fab10197b51fc6e0"
  },
  {
   "metadata": {
    "ExecuteTime": {
     "end_time": "2024-06-04T08:41:09.126207Z",
     "start_time": "2024-06-04T08:41:09.106304Z"
    }
   },
   "cell_type": "code",
   "source": [
    "kmeans_iter1 = KMeans(n_clusters=5, init=\"random\", n_init=1, max_iter=1, random_state=1)\n",
    "kmeans_iter2 = KMeans(n_clusters=5, init=\"random\", n_init=1, max_iter=2, random_state=1)\n",
    "kmeans_iter3 = KMeans(n_clusters=5, init=\"random\", n_init=1, max_iter=3, random_state=1)\n",
    "kmeans_iter1.fit(X)\n",
    "kmeans_iter2.fit(X)\n",
    "kmeans_iter3.fit(X)"
   ],
   "id": "a8f3b362ca0f5cf",
   "execution_count": 387,
   "outputs": []
  },
  {
   "metadata": {
    "ExecuteTime": {
     "end_time": "2024-06-04T08:41:10.905956Z",
     "start_time": "2024-06-04T08:41:09.127176Z"
    }
   },
   "cell_type": "code",
   "source": [
    "plt.figure(figsize=(16, 12))\n",
    "plt.subplot(321)\n",
    "plot_data(X)\n",
    "plot_centroids(kmeans_iter1.cluster_centers_, circle_color='r', cross_color='w')\n",
    "plt.ylabel(\"$x_2$\", fontsize=14, rotation=0)\n",
    "plt.tick_params(labelbottom=False)\n",
    "plt.title(\"Update the centroids (initially randomly)\", fontsize=14)\n",
    "\n",
    "plt.subplot(322)\n",
    "plot_decision_boundaries(kmeans_iter1, X, show_xlabels=False, show_ylabels=False)\n",
    "plt.title(\"Label the instances\", fontsize=14)\n",
    "\n",
    "plt.subplot(323)\n",
    "plot_decision_boundaries(kmeans_iter1, X, show_centroids=False, show_xlabels=False)\n",
    "plot_centroids(kmeans_iter2.cluster_centers_)\n",
    "plt.tick_params(labelbottom=False)\n",
    "plt.ylabel(\"$x_2$\", fontsize=14, rotation=0)\n",
    "\n",
    "plt.subplot(324)\n",
    "plot_decision_boundaries(kmeans_iter2, X, show_xlabels=False, show_ylabels=False)\n",
    "\n",
    "plt.subplot(325)\n",
    "plot_decision_boundaries(kmeans_iter2, X, show_centroids=False)\n",
    "plot_centroids(kmeans_iter3.cluster_centers_)\n",
    "plt.xlabel(\"$x_1$\", fontsize=14)\n",
    "plt.ylabel(\"$x_2$\", fontsize=14, rotation=0)\n",
    "\n",
    "plt.subplot(326)\n",
    "plot_decision_boundaries(kmeans_iter3, X, show_ylabels=False)\n",
    "\n",
    "plt.show()"
   ],
   "id": "801bbb17d6b40f20",
   "execution_count": 388,
   "outputs": []
  },
  {
   "metadata": {},
   "cell_type": "markdown",
   "source": "不稳定的结果",
   "id": "9336d0b5515599e9"
  },
  {
   "metadata": {
    "ExecuteTime": {
     "end_time": "2024-06-04T08:44:48.501319Z",
     "start_time": "2024-06-04T08:44:48.497626Z"
    }
   },
   "cell_type": "code",
   "source": [
    "def plot_clusterer_comparison(clusterer1, clusterer2, X, title1=None, title2=None):\n",
    "    clusterer1.fit(X)\n",
    "    clusterer2.fit(X)\n",
    "\n",
    "    plt.figure(figsize=(10, 3.2))\n",
    "\n",
    "    plt.subplot(121)\n",
    "    plot_decision_boundaries(clusterer1, X)\n",
    "    if title1:\n",
    "        plt.title(title1, fontsize=14)\n",
    "\n",
    "    plt.subplot(122)\n",
    "    plot_decision_boundaries(clusterer2, X, show_ylabels=False)\n",
    "    if title2:\n",
    "        plt.title(title2, fontsize=14)"
   ],
   "id": "e32a452d6ec966cb",
   "execution_count": 389,
   "outputs": []
  },
  {
   "metadata": {
    "ExecuteTime": {
     "end_time": "2024-06-04T08:45:27.369894Z",
     "start_time": "2024-06-04T08:45:26.475823Z"
    }
   },
   "cell_type": "code",
   "source": [
    "kmeans_rnd_init1 = KMeans(n_clusters=5, init=\"random\", n_init=1,\n",
    "                          random_state=11)\n",
    "kmeans_rnd_init2 = KMeans(n_clusters=5, init=\"random\", n_init=1,\n",
    "                            random_state=19)\n",
    "\n",
    "plot_clusterer_comparison(kmeans_rnd_init1, kmeans_rnd_init2, X,\n",
    "                            \"Solution 1\", \"Solution 2 (with a different random init)\")\n"
   ],
   "id": "d693faf4c3e3978d",
   "execution_count": 390,
   "outputs": []
  },
  {
   "metadata": {},
   "cell_type": "markdown",
   "source": [
    "评估标准\n",
    "- Inertia指标: 每个样本到其簇中心的距离的平方和"
   ],
   "id": "3644a70b3b41cda3"
  },
  {
   "metadata": {
    "ExecuteTime": {
     "end_time": "2024-06-04T08:47:15.505284Z",
     "start_time": "2024-06-04T08:47:15.500404Z"
    }
   },
   "cell_type": "code",
   "source": "kmeans.inertia_",
   "id": "d26a43734cb8e2cf",
   "execution_count": 391,
   "outputs": []
  },
  {
   "metadata": {
    "ExecuteTime": {
     "end_time": "2024-06-04T08:47:42.161023Z",
     "start_time": "2024-06-04T08:47:42.157354Z"
    }
   },
   "cell_type": "code",
   "source": "x_dist = kmeans.transform(X)",
   "id": "35ca3b21e1ce758",
   "execution_count": 393,
   "outputs": []
  },
  {
   "metadata": {
    "ExecuteTime": {
     "end_time": "2024-06-04T08:49:10.772550Z",
     "start_time": "2024-06-04T08:49:10.768647Z"
    }
   },
   "cell_type": "code",
   "source": "x_dist[np.arange(len(X)), kmeans.labels_]**2",
   "id": "9739cef7dcf67158",
   "execution_count": 394,
   "outputs": []
  },
  {
   "metadata": {
    "ExecuteTime": {
     "end_time": "2024-06-04T08:49:13.469513Z",
     "start_time": "2024-06-04T08:49:13.465482Z"
    }
   },
   "cell_type": "code",
   "source": "np.sum(x_dist[np.arange(len(X)), kmeans.labels_]**2)",
   "id": "58f5054a5b384509",
   "execution_count": 395,
   "outputs": []
  },
  {
   "metadata": {
    "ExecuteTime": {
     "end_time": "2024-06-04T08:50:22.124140Z",
     "start_time": "2024-06-04T08:50:22.114850Z"
    }
   },
   "cell_type": "code",
   "source": "-kmeans.score(X)",
   "id": "447e009f44f4b96d",
   "execution_count": 397,
   "outputs": []
  },
  {
   "metadata": {
    "ExecuteTime": {
     "end_time": "2024-06-04T08:51:06.538309Z",
     "start_time": "2024-06-04T08:51:06.534111Z"
    }
   },
   "cell_type": "code",
   "source": "kmeans_rnd_init1.inertia_",
   "id": "4fe79efe8ef12bca",
   "execution_count": 398,
   "outputs": []
  },
  {
   "metadata": {
    "ExecuteTime": {
     "end_time": "2024-06-04T08:51:08.618381Z",
     "start_time": "2024-06-04T08:51:08.614242Z"
    }
   },
   "cell_type": "code",
   "source": "kmeans_rnd_init2.inertia_",
   "id": "c9437a1e7004ae69",
   "execution_count": 399,
   "outputs": []
  },
  {
   "metadata": {},
   "cell_type": "markdown",
   "source": [
    "### 选择最佳k值\n",
    "k越大,评估值越小,但是不一定是最佳的 \n"
   ],
   "id": "cc3f55fcc43f0279"
  },
  {
   "metadata": {
    "ExecuteTime": {
     "end_time": "2024-06-04T08:56:20.922083Z",
     "start_time": "2024-06-04T08:56:20.861994Z"
    }
   },
   "cell_type": "code",
   "source": [
    "kmeans_per_k = [KMeans(n_clusters=k, random_state=42).fit(X)\n",
    "                for k in range(1, 10)]\n",
    "inertias = [model.inertia_ for model in kmeans_per_k]"
   ],
   "id": "60f0cfd9bc07dcdc",
   "execution_count": 401,
   "outputs": []
  },
  {
   "metadata": {
    "ExecuteTime": {
     "end_time": "2024-06-04T08:56:50.332546Z",
     "start_time": "2024-06-04T08:56:50.211060Z"
    }
   },
   "cell_type": "code",
   "source": [
    "plt.figure(figsize=(8, 3.5))\n",
    "plt.plot(range(1, 10), inertias, \"bo-\")\n",
    "plt.xlabel(\"$k$\", fontsize=14)\n",
    "plt.ylabel(\"Inertia\", fontsize=14)\n",
    "plt.annotate('Elbow',\n",
    "             xy=(4, inertias[3]),\n",
    "             xytext=(0.55, 0.55),\n",
    "             textcoords='figure fraction',\n",
    "             fontsize=16,\n",
    "             arrowprops=dict(facecolor='black', shrink=0.1)\n",
    "            )\n",
    "plt.axis((1, 8.5, 0, 1300))\n",
    "plt.show()\n"
   ],
   "id": "23f8b1b771eb09dd",
   "execution_count": 402,
   "outputs": []
  },
  {
   "metadata": {},
   "cell_type": "markdown",
   "source": [
    "### 轮廓系数\n",
    "- 轮廓系数是一种衡量聚类效果的指标\n",
    "- ai: 样本i到同簇其他样本的平均距离, ai越小,说明样本i越应该被聚类到该簇. ai被称为样本i的簇内不相似度\n",
    "- bi: 样本i到其他某簇Cj的所有样本的平均距离,称为样本i与其他簇的不相似度,bi越大,说明样本i越不属于其他簇:  $bi=min_{i!=j}bi$  \n",
    "        \n",
    "  $s(i) = \\frac{b(i)-a(i)}{max(a(i),b(i))}$    \n",
    "                          \n",
    "结论:\n",
    "- s(i)接近1,说明样本i分类合理\n",
    "- s(i)接近-1,说明样本i分类不合理\n",
    "- s(i)接近0,说明样本i在两个簇的边界上"
   ],
   "id": "14cc64fee8b269ac"
  },
  {
   "metadata": {
    "ExecuteTime": {
     "end_time": "2024-06-04T09:08:01.986002Z",
     "start_time": "2024-06-04T09:08:01.922210Z"
    }
   },
   "cell_type": "code",
   "source": [
    "from sklearn.metrics import silhouette_score\n",
    "\n",
    "silhouette_score(X, kmeans.labels_)\n"
   ],
   "id": "9c84390f37397c2c",
   "execution_count": 403,
   "outputs": []
  },
  {
   "metadata": {
    "ExecuteTime": {
     "end_time": "2024-06-04T09:09:38.652300Z",
     "start_time": "2024-06-04T09:09:38.168236Z"
    }
   },
   "cell_type": "code",
   "source": [
    "silhouette_scores = [silhouette_score(X, model.labels_)\n",
    "                    for model in kmeans_per_k[1:]]"
   ],
   "id": "1a1acb40d0ce0f23",
   "execution_count": 404,
   "outputs": []
  },
  {
   "metadata": {
    "ExecuteTime": {
     "end_time": "2024-06-04T09:10:16.885201Z",
     "start_time": "2024-06-04T09:10:16.784113Z"
    }
   },
   "cell_type": "code",
   "source": [
    "plt.figure(figsize=(8, 3))\n",
    "plt.plot(range(2, 10), silhouette_scores, \"bo-\")\n",
    "plt.xlabel(\"$k$\", fontsize=14)\n",
    "\n"
   ],
   "id": "6a4822514573e2c6",
   "execution_count": 406,
   "outputs": []
  },
  {
   "metadata": {},
   "cell_type": "markdown",
   "source": "Kmeans存在的问题",
   "id": "dc63e99af67b6d0b"
  },
  {
   "metadata": {
    "ExecuteTime": {
     "end_time": "2024-06-04T09:13:37.084822Z",
     "start_time": "2024-06-04T09:13:36.988016Z"
    }
   },
   "cell_type": "code",
   "source": [
    "X1, y1 = make_blobs(n_samples=1000, centers=((4, -4), (0, 0)), random_state=42)\n",
    "X1 = X1.dot(np.array([[0.374, 0.95], [0.732, 0.598]]))\n",
    "X2, y2 = make_blobs(n_samples=250, centers=1, random_state=42)\n",
    "X2 = X2 + [6, -8]\n",
    "X = np.r_[X1, X2]\n",
    "y = np.r_[y1, y2]\n",
    "\n",
    "plot_data(X)"
   ],
   "id": "bf07dc3b0f567e89",
   "execution_count": 407,
   "outputs": []
  },
  {
   "metadata": {
    "ExecuteTime": {
     "end_time": "2024-06-04T09:19:19.414775Z",
     "start_time": "2024-06-04T09:19:19.396696Z"
    }
   },
   "cell_type": "code",
   "source": [
    "kmeans_good = KMeans(n_clusters=3, init=np.array([[-1.5, 2.5], [0.5, 0], [4, 0]]), n_init=1, random_state=42)\n",
    "kmeans_bad = KMeans(n_clusters=3, n_init=1, max_iter=3, random_state=42)\n",
    "kmeans_good.fit(X)\n",
    "kmeans_bad.fit(X)"
   ],
   "id": "7d577a6ee940a07a",
   "execution_count": 412,
   "outputs": []
  },
  {
   "metadata": {
    "ExecuteTime": {
     "end_time": "2024-06-04T09:19:20.690101Z",
     "start_time": "2024-06-04T09:19:19.795170Z"
    }
   },
   "cell_type": "code",
   "source": [
    "plt.figure(figsize=(10, 3.2))\n",
    "\n",
    "plt.subplot(121)\n",
    "plot_decision_boundaries(kmeans_good, X)\n",
    "plt.title(\"Inertia = {:.1f}\".format(kmeans_good.inertia_), fontsize=14)\n",
    "\n",
    "plt.subplot(122)\n",
    "plot_decision_boundaries(kmeans_bad, X, show_ylabels=False)\n",
    "plt.title(\"Inertia = {:.1f}\".format(kmeans_bad.inertia_), fontsize=14)\n",
    "\n",
    "plt.show()"
   ],
   "id": "c9e0208813ab6e58",
   "execution_count": 413,
   "outputs": []
  },
  {
   "metadata": {},
   "cell_type": "markdown",
   "source": "图像分割",
   "id": "ad03b1bef2049761"
  },
  {
   "metadata": {
    "ExecuteTime": {
     "end_time": "2024-06-04T09:25:19.411409Z",
     "start_time": "2024-06-04T09:25:19.387724Z"
    }
   },
   "cell_type": "code",
   "source": [
    "from matplotlib.image import imread\n",
    "image = imread('E:\\Project\\data\\ladybug.png')\n",
    "image.shape"
   ],
   "id": "cfd2b2ebe2397807",
   "execution_count": 418,
   "outputs": []
  },
  {
   "metadata": {
    "ExecuteTime": {
     "end_time": "2024-06-04T09:28:55.367786Z",
     "start_time": "2024-06-04T09:28:55.363587Z"
    }
   },
   "cell_type": "code",
   "source": [
    "X = image.reshape(-1, 3)\n",
    "X.shape"
   ],
   "id": "51aa349480a99692",
   "execution_count": 424,
   "outputs": []
  },
  {
   "metadata": {
    "ExecuteTime": {
     "end_time": "2024-06-04T09:29:10.823088Z",
     "start_time": "2024-06-04T09:29:10.393565Z"
    }
   },
   "cell_type": "code",
   "source": "kmeans = KMeans(n_clusters=8, random_state=42).fit(X)",
   "id": "98ab88e5e769d608",
   "execution_count": 425,
   "outputs": []
  },
  {
   "metadata": {
    "ExecuteTime": {
     "end_time": "2024-06-04T09:29:42.188847Z",
     "start_time": "2024-06-04T09:29:42.184943Z"
    }
   },
   "cell_type": "code",
   "source": "kmeans.cluster_centers_",
   "id": "1a5dc7c2d71e5d2c",
   "execution_count": 426,
   "outputs": []
  },
  {
   "metadata": {
    "ExecuteTime": {
     "end_time": "2024-06-04T09:32:43.589541Z",
     "start_time": "2024-06-04T09:32:43.580757Z"
    }
   },
   "cell_type": "code",
   "source": "segmented_img = kmeans.cluster_centers_[kmeans.labels_].reshape(image.shape)",
   "id": "8d85223efbec172",
   "execution_count": 429,
   "outputs": []
  },
  {
   "metadata": {
    "ExecuteTime": {
     "end_time": "2024-06-04T09:33:28.118289Z",
     "start_time": "2024-06-04T09:33:26.417106Z"
    }
   },
   "cell_type": "code",
   "source": [
    "segmented_imgs = []\n",
    "n_colors = (10, 8, 6, 4, 2)\n",
    "for n_clusters in n_colors:\n",
    "    kmeans = KMeans(n_clusters=n_clusters, random_state=42).fit(X)\n",
    "    segmented_img = kmeans.cluster_centers_[kmeans.labels_].reshape(image.shape)\n",
    "    segmented_imgs.append(segmented_img)"
   ],
   "id": "cf34baaeca837b07",
   "execution_count": 431,
   "outputs": []
  },
  {
   "metadata": {
    "ExecuteTime": {
     "end_time": "2024-06-04T09:37:05.782975Z",
     "start_time": "2024-06-04T09:37:05.076973Z"
    }
   },
   "cell_type": "code",
   "source": [
    "plt.figure(figsize=(10, 5))\n",
    "\n",
    "plt.subplot(231)\n",
    "plt.imshow(image)\n",
    "plt.title(\"Original image\")\n",
    "plt.axis('off')\n",
    "\n",
    "for idx, n_clusters in enumerate(n_colors):\n",
    "    plt.subplot(232 + idx)\n",
    "    plt.imshow(segmented_imgs[idx])\n",
    "    plt.title(\"{} colors\".format(n_clusters))\n",
    "    plt.axis('off')\n",
    "\n",
    "plt.show()"
   ],
   "id": "6e17d70620dec799",
   "execution_count": 435,
   "outputs": []
  },
  {
   "metadata": {},
   "cell_type": "markdown",
   "source": [
    "### 半监督学习   \n",
    "首先，将训练集聚类为50个集群，然后对于每个聚类，找到最接近质心的图像， 将图像称为代表图像"
   ],
   "id": "73995ba46076c41"
  },
  {
   "metadata": {
    "ExecuteTime": {
     "end_time": "2024-06-04T13:49:23.932835Z",
     "start_time": "2024-06-04T13:49:23.824441Z"
    }
   },
   "cell_type": "code",
   "source": [
    "from sklearn.datasets import load_digits\n",
    "\n",
    "X_digits, y_digits = load_digits(return_X_y=True)\n",
    "\n",
    "from sklearn.model_selection import train_test_split\n",
    "\n",
    "X_train, X_test, y_train, y_test = train_test_split(X_digits, y_digits, random_state=42)"
   ],
   "id": "5b1c6aac918b573b",
   "execution_count": 3,
   "outputs": []
  },
  {
   "metadata": {
    "ExecuteTime": {
     "end_time": "2024-06-04T13:49:24.289510Z",
     "start_time": "2024-06-04T13:49:24.273224Z"
    }
   },
   "cell_type": "code",
   "source": [
    "from sklearn.linear_model import LogisticRegression\n",
    "n_labels = 50\n",
    "\n",
    "log_reg = LogisticRegression(random_state=42)\n",
    "log_reg.fit(X_train[:n_labels], y_train[:n_labels])\n",
    "log_reg.score(X_test, y_test)"
   ],
   "id": "7358fa2f6fe1b6a6",
   "execution_count": 4,
   "outputs": []
  },
  {
   "metadata": {
    "ExecuteTime": {
     "end_time": "2024-06-04T13:49:25.322163Z",
     "start_time": "2024-06-04T13:49:25.203744Z"
    }
   },
   "cell_type": "code",
   "source": [
    "from sklearn.cluster import KMeans\n",
    "k = 50\n",
    "kmeans = KMeans(n_clusters=k, random_state=42)\n",
    "X_digits_dist = kmeans.fit_transform(X_train)"
   ],
   "id": "e0697bbb1690de2e",
   "execution_count": 5,
   "outputs": []
  },
  {
   "metadata": {
    "ExecuteTime": {
     "end_time": "2024-06-04T13:49:42.013861Z",
     "start_time": "2024-06-04T13:49:42.009268Z"
    }
   },
   "cell_type": "code",
   "source": "X_digits_dist.shape",
   "id": "3f1aa9965ff8096e",
   "execution_count": 6,
   "outputs": []
  },
  {
   "metadata": {
    "ExecuteTime": {
     "end_time": "2024-06-04T13:52:50.842119Z",
     "start_time": "2024-06-04T13:52:50.839224Z"
    }
   },
   "cell_type": "code",
   "source": "representative_digits = np.argmin(X_digits_dist, axis=0)",
   "id": "7c021daea9360326",
   "execution_count": 10,
   "outputs": []
  },
  {
   "metadata": {},
   "cell_type": "markdown",
   "source": "绘制代表图像，手动标记",
   "id": "da753435553126c9"
  },
  {
   "metadata": {
    "ExecuteTime": {
     "end_time": "2024-06-04T13:54:34.962386Z",
     "start_time": "2024-06-04T13:54:34.009390Z"
    }
   },
   "cell_type": "code",
   "source": [
    "plt.figure(figsize=(8, 2))\n",
    "for index, representative_digit in enumerate(representative_digits):\n",
    "    plt.subplot(k // 10, 10, index + 1)\n",
    "    plt.imshow(X_train[representative_digit].reshape(8, 8), cmap='binary', interpolation='bilinear')\n",
    "    plt.axis('off')\n",
    "    \n",
    "plt.show()"
   ],
   "id": "ec031e1b7c738b41",
   "execution_count": 11,
   "outputs": []
  },
  {
   "metadata": {
    "ExecuteTime": {
     "end_time": "2024-06-04T14:06:14.643313Z",
     "start_time": "2024-06-04T14:06:14.640385Z"
    }
   },
   "cell_type": "code",
   "source": [
    "y_representative_digits = np.array([\n",
    "    9, 2, 6, 0, 1, 7, 8, 4, 5, 1,\n",
    "    9, 6, 1, 0, 1, 2, 7, 1, 7, 2,\n",
    "    1, 5, 9, 8, 8, 3, 5, 3, 2, 4,\n",
    "    8, 0, 7, 6, 2, 8, 3, 9, 0, 3,\n",
    "    1, 7, 2, 3, 4, 7, 1, 2, 8, 4])"
   ],
   "id": "69162c433e41ef13",
   "execution_count": 24,
   "outputs": []
  },
  {
   "metadata": {},
   "cell_type": "markdown",
   "source": "现在 我 们 有 一 个 只 有 50 个 标记 实例 的 数据 集 ， 它 们 中 的 每 一 个 都 是 其 集群 的 代表 性 图 像 ， 而 不 是 完全 随机 的 实例 。 让 我 们 看 看 性 能 是 否 更 好 :",
   "id": "6e20fe333a2b77a6"
  },
  {
   "metadata": {
    "ExecuteTime": {
     "end_time": "2024-06-04T14:06:15.776596Z",
     "start_time": "2024-06-04T14:06:15.749139Z"
    }
   },
   "cell_type": "code",
   "source": [
    "log_reg = LogisticRegression(random_state=42)\n",
    "log_reg.fit(X_train[representative_digits], y_representative_digits)\n",
    "log_reg.score(X_test, y_test)"
   ],
   "id": "346495350f2b1c21",
   "execution_count": 25,
   "outputs": []
  },
  {
   "metadata": {},
   "cell_type": "markdown",
   "source": "标签传播",
   "id": "5b4beea7a90bf666"
  },
  {
   "metadata": {
    "ExecuteTime": {
     "end_time": "2024-06-04T14:06:24.323126Z",
     "start_time": "2024-06-04T14:06:18.319686Z"
    }
   },
   "cell_type": "code",
   "source": [
    "y_train_propagated = np.empty(len(X_train), dtype=np.int32)\n",
    "for i in range(k):\n",
    "    y_train_propagated[kmeans.labels_==i] = y_representative_digits[i]\n",
    "    \n",
    "log_reg = LogisticRegression(random_state=42)\n",
    "log_reg.fit(X_train, y_train_propagated)\n",
    "log_reg.score(X_test, y_test)"
   ],
   "id": "e1e52c3fd3fe9f4a",
   "execution_count": 26,
   "outputs": []
  },
  {
   "metadata": {
    "ExecuteTime": {
     "end_time": "2024-06-04T14:06:24.334837Z",
     "start_time": "2024-06-04T14:06:24.324102Z"
    }
   },
   "cell_type": "code",
   "source": [
    "percentile_closest = 20\n",
    "\n",
    "X_cluster_dist = X_digits_dist[np.arange(len(X_train)), kmeans.labels_]\n",
    "for i in range(k):\n",
    "    in_cluster = (kmeans.labels_ == i)\n",
    "    cluster_dist = X_cluster_dist[in_cluster]\n",
    "    cutoff_distance = np.percentile(cluster_dist, percentile_closest)\n",
    "    above_cutoff = (X_cluster_dist > cutoff_distance)\n",
    "    X_cluster_dist[in_cluster & above_cutoff] = -1\n"
   ],
   "id": "9c2c7ed9402d0928",
   "execution_count": 27,
   "outputs": []
  },
  {
   "metadata": {
    "ExecuteTime": {
     "end_time": "2024-06-04T14:06:24.339718Z",
     "start_time": "2024-06-04T14:06:24.335814Z"
    }
   },
   "cell_type": "code",
   "source": [
    "partially_propagated = (X_cluster_dist != -1)\n",
    "X_train_partially_propagated = X_train[partially_propagated]\n",
    "y_train_partially_propagated = y_train_propagated[partially_propagated]"
   ],
   "id": "228c68dd1d367343",
   "execution_count": 28,
   "outputs": []
  },
  {
   "metadata": {
    "ExecuteTime": {
     "end_time": "2024-06-04T14:06:24.363702Z",
     "start_time": "2024-06-04T14:06:24.340693Z"
    }
   },
   "cell_type": "code",
   "source": [
    "log_reg = LogisticRegression(random_state=42)\n",
    "log_reg.fit(X_train_partially_propagated, y_train_partially_propagated)"
   ],
   "id": "a8019fbbe9522b6c",
   "execution_count": 29,
   "outputs": []
  },
  {
   "metadata": {
    "ExecuteTime": {
     "end_time": "2024-06-04T14:06:24.370524Z",
     "start_time": "2024-06-04T14:06:24.363702Z"
    }
   },
   "cell_type": "code",
   "source": "log_reg.score(X_test, y_test)",
   "id": "31e2690f4e5379c9",
   "execution_count": 30,
   "outputs": []
  },
  {
   "metadata": {},
   "cell_type": "markdown",
   "source": "### DBSCAN",
   "id": "cd139069b82ee5e1"
  },
  {
   "metadata": {
    "ExecuteTime": {
     "end_time": "2024-06-04T14:07:57.764400Z",
     "start_time": "2024-06-04T14:07:57.760501Z"
    }
   },
   "cell_type": "code",
   "source": [
    "from sklearn.datasets import make_moons\n",
    "\n",
    "X, y = make_moons(n_samples=1000, noise=0.05, random_state=42)"
   ],
   "id": "931e6fc2d1b297f8",
   "execution_count": 31,
   "outputs": []
  },
  {
   "metadata": {
    "ExecuteTime": {
     "end_time": "2024-06-04T14:08:09.055339Z",
     "start_time": "2024-06-04T14:08:08.939753Z"
    }
   },
   "cell_type": "code",
   "source": [
    "plt.figure(figsize=(8, 6))\n",
    "plt.scatter(X[:, 0], X[:, 1], s=10)"
   ],
   "id": "70f71ae3bb35a3d3",
   "execution_count": 32,
   "outputs": []
  },
  {
   "metadata": {
    "ExecuteTime": {
     "end_time": "2024-06-04T14:08:26.553362Z",
     "start_time": "2024-06-04T14:08:26.539734Z"
    }
   },
   "cell_type": "code",
   "source": [
    "from sklearn.cluster import DBSCAN\n",
    "\n",
    "dbscan = DBSCAN(eps=0.05, min_samples=5)\n",
    "dbscan.fit(X)\n"
   ],
   "id": "7bbe41abd379bee2",
   "execution_count": 33,
   "outputs": []
  },
  {
   "metadata": {
    "ExecuteTime": {
     "end_time": "2024-06-04T14:09:29.180920Z",
     "start_time": "2024-06-04T14:09:29.176495Z"
    }
   },
   "cell_type": "code",
   "source": "dbscan.labels_[:10]",
   "id": "d8f2806849d181d1",
   "execution_count": 36,
   "outputs": []
  },
  {
   "metadata": {
    "ExecuteTime": {
     "end_time": "2024-06-04T14:10:15.377538Z",
     "start_time": "2024-06-04T14:10:15.373635Z"
    }
   },
   "cell_type": "code",
   "source": "dbscan.core_sample_indices_[:10]",
   "id": "8b4bf08b87988e85",
   "execution_count": 37,
   "outputs": []
  },
  {
   "metadata": {
    "ExecuteTime": {
     "end_time": "2024-06-04T14:11:18.452119Z",
     "start_time": "2024-06-04T14:11:18.447246Z"
    }
   },
   "cell_type": "code",
   "source": "np.unique(dbscan.labels_)",
   "id": "1013796cb7075e64",
   "execution_count": 39,
   "outputs": []
  },
  {
   "metadata": {
    "ExecuteTime": {
     "end_time": "2024-06-04T14:11:37.694246Z",
     "start_time": "2024-06-04T14:11:37.680444Z"
    }
   },
   "cell_type": "code",
   "source": [
    "dbscan2 = DBSCAN(eps=0.2, min_samples=5)\n",
    "dbscan2.fit(X)"
   ],
   "id": "2277d1fc19dd3afa",
   "execution_count": 40,
   "outputs": []
  },
  {
   "metadata": {
    "ExecuteTime": {
     "end_time": "2024-06-04T14:11:51.000627Z",
     "start_time": "2024-06-04T14:11:50.995243Z"
    }
   },
   "cell_type": "code",
   "source": [
    "def plot_dbscan(dbscan, X, size, show_xlabels=True, show_ylabels=True):\n",
    "    core_mask = np.zeros_like(dbscan.labels_, dtype=bool)\n",
    "    core_mask[dbscan.core_sample_indices_] = True\n",
    "    anomalies_mask = dbscan.labels_ == -1\n",
    "    non_core_mask = ~(core_mask | anomalies_mask)\n",
    "\n",
    "    cores = dbscan.components_\n",
    "    anomalies = X[anomalies_mask]\n",
    "    non_cores = X[non_core_mask]\n",
    "    \n",
    "    plt.scatter(cores[:, 0], cores[:, 1],\n",
    "                c=dbscan.labels_[core_mask], marker='o', s=size, cmap=\"Paired\")\n",
    "    plt.scatter(cores[:, 0], cores[:, 1], marker='*', s=20, c=dbscan.labels_[core_mask])\n",
    "    plt.scatter(anomalies[:, 0], anomalies[:, 1],\n",
    "                c=\"r\", marker=\"x\", s=100)\n",
    "    plt.scatter(non_cores[:, 0], non_cores[:, 1], c=dbscan.labels_[non_core_mask], marker=\".\")\n",
    "    if show_xlabels:\n",
    "        plt.xlabel(\"$x_1$\", fontsize=14)\n",
    "    else:\n",
    "        plt.tick_params(labelbottom=False)\n",
    "    if show_ylabels:\n",
    "        plt.ylabel(\"$x_2$\", fontsize=14, rotation=0)\n",
    "    else:\n",
    "        plt.tick_params(labelleft=False)\n",
    "    plt.title(\"eps={:.2f}, min_samples={}\".format(dbscan.eps, dbscan.min_samples), fontsize=14)"
   ],
   "id": "a2eaaa813278fbb6",
   "execution_count": 41,
   "outputs": []
  },
  {
   "metadata": {
    "ExecuteTime": {
     "end_time": "2024-06-04T14:12:13.980468Z",
     "start_time": "2024-06-04T14:12:13.615404Z"
    }
   },
   "cell_type": "code",
   "source": [
    "plt.figure(figsize=(9, 3.2))\n",
    "\n",
    "plt.subplot(121)\n",
    "plot_dbscan(dbscan, X, size=100)\n",
    "\n",
    "plt.subplot(122)\n",
    "plot_dbscan(dbscan2, X, size=600, show_ylabels=False)\n",
    "\n",
    "plt.show()"
   ],
   "id": "7f6f80b4cd88d60c",
   "execution_count": 42,
   "outputs": []
  },
  {
   "metadata": {},
   "cell_type": "code",
   "execution_count": null,
   "source": "",
   "id": "a81ccd47c7c34479",
   "outputs": []
  }
 ],
 "metadata": {
  "kernelspec": {
   "display_name": "Python 3",
   "language": "python",
   "name": "python3"
  },
  "language_info": {
   "codemirror_mode": {
    "name": "ipython",
    "version": 2
   },
   "file_extension": ".py",
   "mimetype": "text/x-python",
   "name": "python",
   "nbconvert_exporter": "python",
   "pygments_lexer": "ipython2",
   "version": "2.7.6"
  }
 },
 "nbformat": 4,
 "nbformat_minor": 5
}

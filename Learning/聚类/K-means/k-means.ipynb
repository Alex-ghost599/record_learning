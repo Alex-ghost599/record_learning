{
 "cells": [
  {
   "metadata": {},
   "cell_type": "markdown",
   "source": [
    "### K-means算法   \n",
    "- K-means算法是一种聚类算法，它的目标是将数据集划分为K个簇，每个簇内的数据点与簇内的中心点的距离之和最小。\n",
    "- 无监督学习\n",
    "- 优点：简单、快速\n",
    "- 适用场景：数据集中的簇是凸的，即簇内的数据点与簇内的中心点的距离之和最小\n",
    "- 聚类: 通过K-means算法将数据集划分为K个簇(类别)，每个簇内的数据点与簇内的中心点的距离之和最小\n",
    "- 难点：如何选择初始值，如何选择K值\n",
    "- 如何评估聚类的效果？\n",
    "- 如何调参？"
   ],
   "id": "dc2935f50a765514"
  },
  {
   "metadata": {},
   "cell_type": "markdown",
   "source": [
    "基本概念:\n",
    "- 需要指定K值\n",
    "- 质心：每个簇的中心点, 均值, 和簇内的数据点的距离之和最小\n",
    "- 度量距离: 欧式距离(常用),或余弦相似度. 优先标准化.\n",
    "- 优化目标公式: min $\\sum_{i=1}^{K} \\sum_{x \\in C_i} dist(x, \\mu_i)^2$"
   ],
   "id": "16fd4ccb6ce35ae0"
  },
  {
   "cell_type": "code",
   "execution_count": null,
   "id": "initial_id",
   "metadata": {
    "collapsed": true
   },
   "outputs": [],
   "source": [
    ""
   ]
  }
 ],
 "metadata": {
  "kernelspec": {
   "display_name": "Python 3",
   "language": "python",
   "name": "python3"
  },
  "language_info": {
   "codemirror_mode": {
    "name": "ipython",
    "version": 2
   },
   "file_extension": ".py",
   "mimetype": "text/x-python",
   "name": "python",
   "nbconvert_exporter": "python",
   "pygments_lexer": "ipython2",
   "version": "2.7.6"
  }
 },
 "nbformat": 4,
 "nbformat_minor": 5
}

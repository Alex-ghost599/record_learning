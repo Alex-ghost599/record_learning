{
 "cells": [
  {
   "metadata": {},
   "cell_type": "markdown",
   "source": [
    "### DBSCAN算法\n",
    "- 全称：Density-Based Spatial Clustering of Applications with Noise\n",
    "- 核心对象:若一个点的密度达到一定阈值，则认为该点属于一个簇(r领域内至少有MinPts个点)\n",
    "- 需要: 阈值ε:MinPts, 半径ε内的点个数\n",
    "- 直接密度可达: 若p在q的ε-邻域内，且q是核心对象，则p直接密度可达q\n",
    "- 密度可达: 存在一条p1,p2,...,pn的路径，p1=q,pn=p,且pi+1直接密度可达pi\n",
    "- 密度相连: 存在一个点o，使得p和q密度可达o，p和q密度相连\n",
    "- 边界点: 不是核心对象，但在核心对象的ε-邻域内\n",
    "- 噪声点: 不是核心对象，也不在核心对象的ε-邻域内 \n",
    "- 参数选择:\n",
    "    - ε: 寻找突变点，即k距离图中的拐点. k距离图: 每个点到其k个最近邻的距离\n",
    "    - MinPts: 一般取2*dim, dim为数据维度\n",
    "- 优点:\n",
    "    - 可以发现任意形状的簇\n",
    "    - 不需要事先指定簇的个数\n",
    "    - 可以发现噪声点(离群点)\n",
    "    - 两个参数就够了\n",
    "- 缺点:\n",
    "    - 高维数据下，距离计算困难(需要降维)\n",
    "    - 参数选择困难(影响非常大)\n",
    "    - sklearn中效率不高"
   ],
   "id": "8da44e53f9c74667"
  },
  {
   "cell_type": "code",
   "execution_count": null,
   "id": "initial_id",
   "metadata": {
    "collapsed": true
   },
   "outputs": [],
   "source": [
    ""
   ]
  }
 ],
 "metadata": {
  "kernelspec": {
   "display_name": "Python 3",
   "language": "python",
   "name": "python3"
  },
  "language_info": {
   "codemirror_mode": {
    "name": "ipython",
    "version": 2
   },
   "file_extension": ".py",
   "mimetype": "text/x-python",
   "name": "python",
   "nbconvert_exporter": "python",
   "pygments_lexer": "ipython2",
   "version": "2.7.6"
  }
 },
 "nbformat": 4,
 "nbformat_minor": 5
}

{
 "cells": [
  {
   "metadata": {},
   "cell_type": "markdown",
   "source": [
    "### 决策树\n",
    "- 决策树：是一种树形结构，其中每个内部节点表示一个属性上的判断，每个分支代表一个判断结果的输出，每个叶节点代表一种类别。\n",
    "- 决策树的构造：通常采用递归的方法将数据集划分为较小的子集。\n",
    "- 决策树的剪枝：决策树生成后，容易出现过拟合现象，需要对决策树进行剪枝。\n",
    "- 从根节点，一步步向下，直到叶节点，就是决策树的分类过程。\n",
    "- 所有的数据都会落到叶子节点，既可以做分类，也可以做回归。\n"
   ],
   "id": "17e3b25434fd5a7e"
  },
  {
   "metadata": {},
   "cell_type": "markdown",
   "source": [
    "树的构成：\n",
    "- 根节点：第一个选择点，包含数据集中所有数据的集合。\n",
    "- 非叶子节点与分支：中间节点，包含数据集中的一部分数据的集合。\n",
    "- 叶子节点：最终的分类结果。"
   ],
   "id": "96100b5f5aa29aa8"
  },
  {
   "metadata": {},
   "cell_type": "markdown",
   "source": [
    "决策树的训练与测试\n",
    "- 训练：根据训练数据集生成决策树。（从根节点开始选择特征，如何进行特征切分\n",
    "- 测试：根据训练好的决策树对测试数据集进行分类。\n",
    "- 构建好决策树之后测试比较简单。"
   ],
   "id": "9e686a2889d92c3d"
  },
  {
   "metadata": {},
   "cell_type": "markdown",
   "source": [
    "如何切分特征\n",
    "- 问题：根节点的选择，如何选择最优的特征进行切分。\n",
    "- 目标：通过一种衡量标准，找到最优的特征进行切分。决定根节点。"
   ],
   "id": "cac41163c2245655"
  },
  {
   "metadata": {},
   "cell_type": "markdown",
   "source": [
    "衡量标准-信息熵\n",
    "- 信息熵：表示随机变量不确定性的度量。(物体内部的混乱程度)\n",
    "- 信息增益：表示得知特征X的信息而使得类Y的信息的不确定性减少的程度。\n",
    "- 信息增益越大，说明使用特征X划分数据集D的效果越好。\n",
    "- 公式：\n",
    "    - 信息熵：$H(D) = -\\sum_{i=1}^{n}p_i\\log_{2}p_i$"
   ],
   "id": "6c7ec8ff454f7d33"
  },
  {
   "metadata": {},
   "cell_type": "markdown",
   "source": [
    "决策树算法:ID3,C4.5,CART     \n",
    "cart是用gini系数来划分数据集的，gini系数是基尼不纯度，是指从数据集中随机选取子项，度量其被错误分类到其他分组里的概率。    \n",
    "GINI:  $Gini(p) = 1 - \\sum_{i=1}^{n}p_i^2$"
   ],
   "id": "7b3a7fefc864cefe"
  },
  {
   "metadata": {},
   "cell_type": "markdown",
   "source": [
    "连续值:\n",
    "- 连续值的处理：对于连续值的处理，可以先对数据进行排序，然后遍历所有可能的划分点，找到最优的划分点。(切分, 离散化)"
   ],
   "id": "6a55abfe8fcb9f76"
  },
  {
   "metadata": {},
   "cell_type": "markdown",
   "source": [
    "决策树剪枝:\n",
    "- 剪枝：决策树生成后，容易出现过拟合现象，需要对决策树进行剪枝。\n",
    "- 预剪枝：在决策树生成过程中，对每个节点在划分前先进行估计，若当前节点的划分不能带来决策树泛化性能提升，则停止划分。\n",
    "    - 深度,叶子节点个数,信息增益,样本个数.\n",
    "- 后剪枝：先生成决策树，然后自底向上对非叶子节点进行考察，若将该节点对应的子树替换为叶子节点能带来决策树泛化性能提升，则将该子树替换为叶子节点。\n",
    "    - 一定衡量标准: $C_{\\alpha}(T) = C(T) + \\alpha|T|$"
   ],
   "id": "bb17c86de71ef249"
  },
  {
   "metadata": {},
   "cell_type": "markdown",
   "source": [
    "- 分类:叶子节点的类别是由多数表决决定的。取众数\n",
    "- 回归:叶子节点的类别是由均值决定的。取均值"
   ],
   "id": "e391111828dbd265"
  },
  {
   "cell_type": "code",
   "id": "initial_id",
   "metadata": {
    "collapsed": true,
    "ExecuteTime": {
     "end_time": "2024-06-05T03:06:45.288288Z",
     "start_time": "2024-06-05T03:06:44.513485Z"
    }
   },
   "source": [
    "import numpy as np\n",
    "import os\n",
    "%matplotlib inline\n",
    "import matplotlib\n",
    "import matplotlib.pyplot as plt\n",
    "plt.rcParams['axes.labelsize'] = 14\n",
    "plt.rcParams['xtick.labelsize'] = 12\n",
    "plt.rcParams['ytick.labelsize'] = 12\n",
    "import warnings\n",
    "warnings.filterwarnings('ignore')"
   ],
   "execution_count": 1,
   "outputs": []
  },
  {
   "metadata": {
    "ExecuteTime": {
     "end_time": "2024-06-05T03:06:47.178441Z",
     "start_time": "2024-06-05T03:06:45.289259Z"
    }
   },
   "cell_type": "code",
   "source": [
    "from sklearn.datasets import load_iris\n",
    "from sklearn.tree import DecisionTreeClassifier\n",
    "\n",
    "iris = load_iris()\n",
    "X = iris.data[:, 2:] # petal length and width\n",
    "y = iris.target\n",
    "\n",
    "tree_clf = DecisionTreeClassifier(max_depth=2)\n",
    "tree_clf.fit(X, y)"
   ],
   "id": "e0810594ce7c79de",
   "execution_count": 2,
   "outputs": []
  },
  {
   "metadata": {
    "ExecuteTime": {
     "end_time": "2024-06-05T03:06:47.187225Z",
     "start_time": "2024-06-05T03:06:47.179417Z"
    }
   },
   "cell_type": "code",
   "source": [
    "from sklearn.tree import export_graphviz\n",
    "\n",
    "export_graphviz(\n",
    "        tree_clf,\n",
    "        out_file='iris_tree.dot',\n",
    "        feature_names=iris.feature_names[2:],\n",
    "        class_names=iris.target_names,\n",
    "        rounded=True,\n",
    "        filled=True\n",
    "    )\n",
    "\n"
   ],
   "id": "e0c3976714a0dcde",
   "execution_count": 3,
   "outputs": []
  },
  {
   "metadata": {
    "ExecuteTime": {
     "end_time": "2024-06-05T03:09:34.697560Z",
     "start_time": "2024-06-05T03:09:34.600512Z"
    }
   },
   "cell_type": "code",
   "source": [
    "import graphviz\n",
    "with open(\"E:\\Project\\Learning\\决策树\\iris_tree.dot\") as f:\n",
    "    dot_graph = f.read()\n",
    "dot = graphviz.Source(dot_graph)\n",
    "# dot.format\n",
    "dot.render(filename='iris_tree', format='png', cleanup=True)\n"
   ],
   "id": "d4c89e0b11477e2d",
   "execution_count": 5,
   "outputs": []
  },
  {
   "metadata": {
    "ExecuteTime": {
     "end_time": "2024-06-05T03:13:27.678862Z",
     "start_time": "2024-06-05T03:13:27.673004Z"
    }
   },
   "cell_type": "code",
   "source": [
    "from IPython.display import Image\n",
    "Image('iris_tree.png')"
   ],
   "id": "fbd01c9fe164fc61",
   "execution_count": 6,
   "outputs": []
  },
  {
   "metadata": {},
   "cell_type": "markdown",
   "source": "# 决策树的决策边界",
   "id": "38d749af7fcc836b"
  },
  {
   "metadata": {
    "ExecuteTime": {
     "end_time": "2024-06-05T03:17:03.605585Z",
     "start_time": "2024-06-05T03:17:03.411381Z"
    }
   },
   "cell_type": "code",
   "source": [
    "from matplotlib.colors import ListedColormap\n",
    "\n",
    "def plot_decision_boundary(clf, X, y, axes=(0, 7.5, 0, 3), iris=True, legend=False, plot_training=True):\n",
    "    x1s = np.linspace(axes[0], axes[1], 100)\n",
    "    x2s = np.linspace(axes[2], axes[3], 100)\n",
    "    x1, x2 = np.meshgrid(x1s, x2s)\n",
    "    X_new = np.c_[x1.ravel(), x2.ravel()]\n",
    "    y_pred = clf.predict(X_new).reshape(x1.shape)\n",
    "    custom_cmap = ListedColormap(['#fafab0','#9898ff','#a0faa0'])\n",
    "    plt.contourf(x1, x2, y_pred, alpha=0.3, cmap=custom_cmap)\n",
    "    if not iris:\n",
    "        custom_cmap2 = ListedColormap(['#7d7d58','#4c4c7f','#507d50'])\n",
    "        plt.contour(x1, x2, y_pred, cmap=custom_cmap2, alpha=0.8)\n",
    "    if plot_training:\n",
    "        plt.plot(X[:, 0][y==0], X[:, 1][y==0], \"yo\", label=\"Iris-Setosa\")\n",
    "        plt.plot(X[:, 0][y==1], X[:, 1][y==1], \"bs\", label=\"Iris-Versicolor\")\n",
    "        plt.plot(X[:, 0][y==2], X[:, 1][y==2], \"g^\", label=\"Iris-Virginica\")\n",
    "        plt.axis(axes)\n",
    "    if iris:\n",
    "        plt.xlabel(\"Petal length\", fontsize=14)\n",
    "        plt.ylabel(\"Petal width\", fontsize=14)\n",
    "    else:\n",
    "        plt.xlabel(r\"$x_1$\", fontsize=18)\n",
    "        plt.ylabel(r\"$x_2$\", fontsize=18)\n",
    "    if legend:\n",
    "        plt.legend(loc=\"lower right\", fontsize=14)\n",
    "        \n",
    "plt.figure(figsize=(8, 4))\n",
    "plot_decision_boundary(tree_clf, X, y)\n",
    "plt.plot([2.45, 2.45], [0, 3], \"k-\", linewidth=2)\n",
    "plt.plot([2.45, 7.5], [1.75, 1.75], \"k--\", linewidth=2)\n",
    "plt.plot([4.95, 4.95], [0, 1.75], \"k:\", linewidth=2)\n",
    "plt.plot([4.85, 4.85], [1.75, 3], \"k:\", linewidth=2)\n",
    "plt.text(1.40, 1.0, \"Depth=0\", fontsize=15)\n",
    "plt.text(3.2, 1.80, \"Depth=1\", fontsize=13)\n",
    "plt.text(4.05, 0.5, \"(Depth=2)\", fontsize=11)\n",
    "\n",
    "plt.show()"
   ],
   "id": "78d9afbca5682182",
   "execution_count": 7,
   "outputs": []
  },
  {
   "metadata": {},
   "cell_type": "markdown",
   "source": [
    "## 概率估计   \n",
    "如果输入一个花瓣长5cm，宽1.5cm的花朵，决策树会输出以下概率：\n",
    "- iris-setosa: 0% (0/54)\n",
    "- iris-versicolor: 90.7% (49/54)\n",
    "- iris-virginica: 9.3% (5/54)"
   ],
   "id": "a78b483ff268fd62"
  },
  {
   "metadata": {
    "ExecuteTime": {
     "end_time": "2024-06-05T03:18:07.386430Z",
     "start_time": "2024-06-05T03:18:07.382582Z"
    }
   },
   "cell_type": "code",
   "source": "tree_clf.predict_proba([[5, 1.5]])",
   "id": "a193788e5b549ee0",
   "execution_count": 8,
   "outputs": []
  },
  {
   "metadata": {},
   "cell_type": "code",
   "execution_count": null,
   "source": "",
   "id": "a9efbfb132104566",
   "outputs": []
  },
  {
   "metadata": {},
   "cell_type": "markdown",
   "source": [
    "### 决策树里的正则化   \n",
    "DecisionTreeClassifier类有一些正则化超参数来限制树的形状。   \n",
    "- min_samples_split: 节点在分裂之前必须具有的最小样本数。\n",
    "- min_samples_leaf: 叶节点必须具有的最小样本数。\n",
    "- min_weight_fraction_leaf: 与min_samples_leaf相同，但表示为加权实例总数的一部分。(少用)\n",
    "- max_leaf_nodes: 最大叶节点数。\n",
    "- max_features: 在每个节点分裂时评估的最大特征数。(除非特别大,否则都会尝试所有特征)\n",
    "- max_depth: 最大深度。"
   ],
   "id": "d67d4992589b6dc1"
  },
  {
   "metadata": {
    "ExecuteTime": {
     "end_time": "2024-06-05T03:22:58.966185Z",
     "start_time": "2024-06-05T03:22:58.550781Z"
    }
   },
   "cell_type": "code",
   "source": [
    "from sklearn.datasets import make_moons\n",
    "Xm, ym = make_moons(n_samples=100, noise=0.25, random_state=53)\n",
    "\n",
    "deep_tree_clf1 = DecisionTreeClassifier(random_state=42)\n",
    "deep_tree_clf2 = DecisionTreeClassifier(min_samples_leaf=4, random_state=42)\n",
    "deep_tree_clf1.fit(Xm, ym)\n",
    "deep_tree_clf2.fit(Xm, ym)\n",
    "\n",
    "plt.figure(figsize=(11, 4))\n",
    "plt.subplot(121)\n",
    "plot_decision_boundary(deep_tree_clf1, Xm, ym, axes=[-1.5, 2.5, -1, 1.5], iris=False)\n",
    "plt.title(\"No restrictions\", fontsize=16)\n",
    "plt.subplot(122)\n",
    "plot_decision_boundary(deep_tree_clf2, Xm, ym, axes=[-1.5, 2.5, -1, 1.5], iris=False)\n",
    "plt.title(\"min_samples_leaf = {}\".format(deep_tree_clf2.min_samples_leaf), fontsize=14)\n",
    "\n",
    "plt.show()"
   ],
   "id": "2047c2a2c9892874",
   "execution_count": 9,
   "outputs": []
  },
  {
   "metadata": {},
   "cell_type": "code",
   "execution_count": null,
   "source": "",
   "id": "f92e5890daa16c42",
   "outputs": []
  },
  {
   "metadata": {},
   "cell_type": "markdown",
   "source": "## 对数据敏感",
   "id": "446a818e8361fea8"
  },
  {
   "metadata": {
    "ExecuteTime": {
     "end_time": "2024-06-05T03:26:27.183171Z",
     "start_time": "2024-06-05T03:26:26.993699Z"
    }
   },
   "cell_type": "code",
   "source": [
    "np.random.seed(6)\n",
    "Xs = np.random.rand(100, 2) - 0.5\n",
    "ys = (Xs[:, 0] > 0).astype(np.float32) * 2\n",
    "\n",
    "angle = np.pi / 4\n",
    "rotation_matrix = np.array([[np.cos(angle), -np.sin(angle)], [np.sin(angle), np.cos(angle)]])\n",
    "Xsr = Xs.dot(rotation_matrix)\n",
    "\n",
    "tree_clf_s = DecisionTreeClassifier(random_state=42)\n",
    "tree_clf_s.fit(Xs, ys)\n",
    "tree_clf_sr = DecisionTreeClassifier(random_state=42)\n",
    "tree_clf_sr.fit(Xsr, ys)\n",
    "\n",
    "plt.figure(figsize=(11, 4))\n",
    "plt.subplot(121)\n",
    "plot_decision_boundary(tree_clf_s, Xs, ys, axes=[-0.7, 0.7, -0.7, 0.7], iris=False)\n",
    "plt.subplot(122)\n",
    "plot_decision_boundary(tree_clf_sr, Xsr, ys, axes=[-0.7, 0.7, -0.7, 0.7], iris=False)\n",
    "\n",
    "plt.show()"
   ],
   "id": "4aa3873aaaa591c2",
   "execution_count": 10,
   "outputs": []
  },
  {
   "metadata": {},
   "cell_type": "markdown",
   "source": "### 回归任务",
   "id": "d5d754feda8ba6ca"
  },
  {
   "metadata": {
    "ExecuteTime": {
     "end_time": "2024-06-05T03:37:56.454522Z",
     "start_time": "2024-06-05T03:37:56.448674Z"
    }
   },
   "cell_type": "code",
   "source": [
    "np.random.seed(42)\n",
    "m = 200\n",
    "X = np.random.rand(m, 1)\n",
    "y = 4 * (X - 0.5) ** 2\n",
    "y = y + np.random.randn(m, 1) / 10\n"
   ],
   "id": "6eaf76bcdc140b73",
   "execution_count": 11,
   "outputs": []
  },
  {
   "metadata": {
    "ExecuteTime": {
     "end_time": "2024-06-05T03:38:32.182567Z",
     "start_time": "2024-06-05T03:38:32.174760Z"
    }
   },
   "cell_type": "code",
   "source": [
    "from sklearn.tree import DecisionTreeRegressor\n",
    "\n",
    "tree_reg = DecisionTreeRegressor(max_depth=2, random_state=42)\n",
    "tree_reg.fit(X, y)"
   ],
   "id": "b14f3b6a75b01cc1",
   "execution_count": 12,
   "outputs": []
  },
  {
   "metadata": {},
   "cell_type": "code",
   "execution_count": null,
   "source": "",
   "id": "c205deb18fd55661",
   "outputs": []
  },
  {
   "metadata": {},
   "cell_type": "code",
   "execution_count": null,
   "source": "",
   "id": "dc7852eb8d181ad",
   "outputs": []
  },
  {
   "metadata": {
    "ExecuteTime": {
     "end_time": "2024-06-05T03:39:32.074710Z",
     "start_time": "2024-06-05T03:39:32.068331Z"
    }
   },
   "cell_type": "code",
   "source": [
    "export_graphviz(\n",
    "        tree_reg,\n",
    "        out_file=os.path.join('E:\\Project\\Learning\\决策树', \"iris_tree_reg1.dot\"),\n",
    "        feature_names=[\"x1\"],\n",
    "        rounded=True,\n",
    "        filled=True\n",
    "    )"
   ],
   "id": "5470369fe8c908cb",
   "execution_count": 14,
   "outputs": []
  },
  {
   "metadata": {
    "ExecuteTime": {
     "end_time": "2024-06-05T03:39:50.480735Z",
     "start_time": "2024-06-05T03:39:50.355287Z"
    }
   },
   "cell_type": "code",
   "source": [
    "import graphviz\n",
    "with open(\"E:\\Project\\Learning\\决策树\\iris_tree_reg1.dot\") as f:\n",
    "    dot_graph = f.read()\n",
    "dot = graphviz.Source(dot_graph)\n",
    "\n",
    "dot.render(filename='iris_tree_reg1', format='png', cleanup=True)\n"
   ],
   "id": "b9f130d59a9a21c3",
   "execution_count": 15,
   "outputs": []
  },
  {
   "metadata": {
    "ExecuteTime": {
     "end_time": "2024-06-05T03:39:57.012724Z",
     "start_time": "2024-06-05T03:39:56.997108Z"
    }
   },
   "cell_type": "code",
   "source": [
    "from IPython.display import Image\n",
    "Image('iris_tree_reg1.png')\n"
   ],
   "id": "9896345056843106",
   "execution_count": 16,
   "outputs": []
  },
  {
   "metadata": {},
   "cell_type": "markdown",
   "source": "# 对比不同深度的决策树",
   "id": "610df1b4373189bd"
  },
  {
   "metadata": {
    "ExecuteTime": {
     "end_time": "2024-06-05T03:42:08.968543Z",
     "start_time": "2024-06-05T03:42:08.750827Z"
    }
   },
   "cell_type": "code",
   "source": [
    "from sklearn.tree import DecisionTreeRegressor\n",
    "\n",
    "tree_reg1 = DecisionTreeRegressor(random_state=42, max_depth=2)\n",
    "tree_reg2 = DecisionTreeRegressor(random_state=42, max_depth=3)\n",
    "tree_reg1.fit(X, y)\n",
    "tree_reg2.fit(X, y)\n",
    "\n",
    "def plot_regression_predictions(tree_reg, X, y, axes=[0, 1, -0.2, 1], ylabel=\"$y$\"):\n",
    "    x1 = np.linspace(axes[0], axes[1], 500).reshape(-1, 1)\n",
    "    y_pred = tree_reg.predict(x1)\n",
    "    plt.axis(axes)\n",
    "    plt.xlabel(\"$x_1$\", fontsize=18)\n",
    "    if ylabel:\n",
    "        plt.ylabel(ylabel, fontsize=18, rotation=0)\n",
    "    plt.plot(X, y, \"b.\")\n",
    "    plt.plot(x1, y_pred, \"r.-\", linewidth=2, label=r\"$\\hat{y}$\")\n",
    "    \n",
    "plt.figure(figsize=(11, 4))\n",
    "plt.subplot(121)\n",
    "\n",
    "plot_regression_predictions(tree_reg1, X, y)\n",
    "for split, style in ((0.1973, \"k-\"), (0.0917, \"k--\"), (0.7718, \"k--\")):\n",
    "    plt.plot([split, split], [-0.2, 1], style, linewidth=2)\n",
    "plt.text(0.21, 0.65, \"Depth=0\", fontsize=15)\n",
    "plt.text(0.01, 0.2, \"Depth=1\", fontsize=13)\n",
    "plt.text(0.65, 0.8, \"Depth=1\", fontsize=13)\n",
    "plt.legend(loc=\"upper center\", fontsize=18)\n",
    "plt.title(\"max_depth=2\", fontsize=14)\n",
    "\n",
    "plt.subplot(122)\n",
    "plot_regression_predictions(tree_reg2, X, y, ylabel=None)\n",
    "for split, style in ((0.1973, \"k-\"), (0.0917, \"k--\"), (0.7718, \"k--\")):\n",
    "    plt.plot([split, split], [-0.2, 1], style, linewidth=2)\n",
    "for split in (0.0458, 0.1298, 0.2873, 0.9040):\n",
    "    plt.plot([split, split], [-0.2, 1], \"k:\", linewidth=1)\n",
    "plt.text(0.3, 0.5, \"Depth=2\", fontsize=13)\n",
    "plt.title(\"max_depth=3\", fontsize=14)\n",
    "\n",
    "plt.show()\n"
   ],
   "id": "9405da785c541f49",
   "execution_count": 17,
   "outputs": []
  },
  {
   "metadata": {
    "ExecuteTime": {
     "end_time": "2024-06-05T03:43:40.439980Z",
     "start_time": "2024-06-05T03:43:40.257089Z"
    }
   },
   "cell_type": "code",
   "source": [
    "tree_reg1 = DecisionTreeRegressor(random_state=42)\n",
    "tree_reg2 = DecisionTreeRegressor(random_state=42, min_samples_leaf=10)\n",
    "tree_reg1.fit(X, y)\n",
    "tree_reg2.fit(X, y)\n",
    "\n",
    "x1 = np.linspace(0, 1, 500).reshape(-1, 1)\n",
    "y_pred1 = tree_reg1.predict(x1)\n",
    "y_pred2 = tree_reg2.predict(x1)\n",
    "\n",
    "plt.figure(figsize=(11, 4))\n",
    "\n",
    "plt.subplot(121)\n",
    "plt.plot(X, y, \"b.\")\n",
    "plt.plot(x1, y_pred1, \"r.-\", linewidth=2, label=r\"$\\hat{y}$\")\n",
    "plt.axis([0, 1, -0.2, 1.1])\n",
    "plt.xlabel(\"$x_1$\", fontsize=18)\n",
    "plt.ylabel(\"$y$\", fontsize=18, rotation=0)\n",
    "plt.legend(loc=\"upper center\", fontsize=18)\n",
    "plt.title(\"No restrictions\", fontsize=14)\n",
    "\n",
    "plt.subplot(122)\n",
    "plt.plot(X, y, \"b.\")\n",
    "plt.plot(x1, y_pred2, \"r.-\", linewidth=2, label=r\"$\\hat{y}$\")\n",
    "plt.axis([0, 1, -0.2, 1.1])\n",
    "plt.xlabel(\"$x_1$\", fontsize=18)\n",
    "plt.title(\"min_samples_leaf={}\".format(tree_reg2.min_samples_leaf), fontsize=14)\n",
    "\n",
    "plt.show()"
   ],
   "id": "8cd699d07cc1c32f",
   "execution_count": 18,
   "outputs": []
  },
  {
   "metadata": {},
   "cell_type": "code",
   "execution_count": null,
   "source": "",
   "id": "e691064c855cda7e",
   "outputs": []
  }
 ],
 "metadata": {
  "kernelspec": {
   "display_name": "Python 3",
   "language": "python",
   "name": "python3"
  },
  "language_info": {
   "codemirror_mode": {
    "name": "ipython",
    "version": 2
   },
   "file_extension": ".py",
   "mimetype": "text/x-python",
   "name": "python",
   "nbconvert_exporter": "python",
   "pygments_lexer": "ipython2",
   "version": "2.7.6"
  }
 },
 "nbformat": 4,
 "nbformat_minor": 5
}

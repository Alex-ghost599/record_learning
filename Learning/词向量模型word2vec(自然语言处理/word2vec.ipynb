{
 "cells": [
  {
   "metadata": {},
   "cell_type": "markdown",
   "source": [
    "# 自然语言处理-词向量模型: word2vec\n",
    "- 如何将文本量化(包含位置信息和语义信息)\n",
    "    - 有了词向量，可以将文本量化，进而进行文本分类、文本相似度计算等\n",
    "        - 词向量维度较高一般为50-300维\n",
    "        - 词向量的训练方法有很多，word2vec是其中一种\n",
    "- word2vec\n",
    "    - 词向量的输入和输出:\n",
    "    - 不同模型:\n",
    "        - CBOW模型: 通过上下文预测中间词\n",
    "        - Skip-gram模型: 通过中间词预测上下文\n",
    "    - 负采样模型:\n",
    "        - 通过负采样模型，可以减少计算量\n",
    "        - 把多分类问题转化为二分类问题\n",
    "    - 每次迭代会更新输入输出的词向量\n"
   ],
   "id": "d3fe59d7eae1ebaa"
  },
  {
   "metadata": {},
   "cell_type": "markdown",
   "source": "",
   "id": "ae74b6423aa2d5e"
  },
  {
   "cell_type": "code",
   "execution_count": null,
   "id": "initial_id",
   "metadata": {
    "collapsed": true
   },
   "outputs": [],
   "source": [
    ""
   ]
  }
 ],
 "metadata": {
  "kernelspec": {
   "display_name": "Python 3",
   "language": "python",
   "name": "python3"
  },
  "language_info": {
   "codemirror_mode": {
    "name": "ipython",
    "version": 2
   },
   "file_extension": ".py",
   "mimetype": "text/x-python",
   "name": "python",
   "nbconvert_exporter": "python",
   "pygments_lexer": "ipython2",
   "version": "2.7.6"
  }
 },
 "nbformat": 4,
 "nbformat_minor": 5
}

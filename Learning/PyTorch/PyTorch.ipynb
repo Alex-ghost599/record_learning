{
 "cells": [
  {
   "metadata": {},
   "cell_type": "markdown",
   "source": "# PyTorch\n",
   "id": "5b4d17c8f76f33dd"
  },
  {
   "cell_type": "code",
   "id": "initial_id",
   "metadata": {
    "collapsed": true,
    "ExecuteTime": {
     "end_time": "2024-06-10T16:38:16.377204Z",
     "start_time": "2024-06-10T16:38:12.438611Z"
    }
   },
   "source": [
    "import torch\n",
    "x = torch.rand(5, 3)\n",
    "x"
   ],
   "outputs": [
    {
     "data": {
      "text/plain": [
       "tensor([[0.6231, 0.8755, 0.0230],\n",
       "        [0.0494, 0.0867, 0.2767],\n",
       "        [0.3253, 0.4283, 0.2650],\n",
       "        [0.9902, 0.9159, 0.2252],\n",
       "        [0.9542, 0.2925, 0.6135]])"
      ]
     },
     "execution_count": 1,
     "metadata": {},
     "output_type": "execute_result"
    }
   ],
   "execution_count": 1
  },
  {
   "metadata": {
    "ExecuteTime": {
     "end_time": "2024-06-10T16:38:16.405523Z",
     "start_time": "2024-06-10T16:38:16.378183Z"
    }
   },
   "cell_type": "code",
   "source": "torch.cuda.is_available()",
   "id": "d580f7755a39bf27",
   "outputs": [
    {
     "data": {
      "text/plain": [
       "True"
      ]
     },
     "execution_count": 2,
     "metadata": {},
     "output_type": "execute_result"
    }
   ],
   "execution_count": 2
  },
  {
   "metadata": {
    "ExecuteTime": {
     "end_time": "2024-06-08T06:22:32.819444Z",
     "start_time": "2024-06-08T06:22:32.814563Z"
    }
   },
   "cell_type": "code",
   "source": "torch.cuda.current_device()",
   "id": "7d61141779b65a13",
   "outputs": [
    {
     "data": {
      "text/plain": [
       "0"
      ]
     },
     "execution_count": 64,
     "metadata": {},
     "output_type": "execute_result"
    }
   ],
   "execution_count": 64
  },
  {
   "metadata": {
    "ExecuteTime": {
     "end_time": "2024-06-08T06:22:32.866459Z",
     "start_time": "2024-06-08T06:22:32.863363Z"
    }
   },
   "cell_type": "code",
   "source": "torch.cuda.device(0)",
   "id": "1c2683fee4264edb",
   "outputs": [
    {
     "data": {
      "text/plain": [
       "<torch.cuda.device at 0x24ab67df6e0>"
      ]
     },
     "execution_count": 65,
     "metadata": {},
     "output_type": "execute_result"
    }
   ],
   "execution_count": 65
  },
  {
   "metadata": {
    "ExecuteTime": {
     "end_time": "2024-06-08T06:22:32.913443Z",
     "start_time": "2024-06-08T06:22:32.910375Z"
    }
   },
   "cell_type": "code",
   "source": "torch.cuda.device_count()",
   "id": "ce95cb488c41bf29",
   "outputs": [
    {
     "data": {
      "text/plain": [
       "1"
      ]
     },
     "execution_count": 66,
     "metadata": {},
     "output_type": "execute_result"
    }
   ],
   "execution_count": 66
  },
  {
   "metadata": {
    "ExecuteTime": {
     "end_time": "2024-06-08T06:22:32.965342Z",
     "start_time": "2024-06-08T06:22:32.961751Z"
    }
   },
   "cell_type": "code",
   "source": "torch.cuda.get_device_name(0)",
   "id": "6df499453c85666a",
   "outputs": [
    {
     "data": {
      "text/plain": [
       "'NVIDIA GeForce RTX 2080 Ti'"
      ]
     },
     "execution_count": 67,
     "metadata": {},
     "output_type": "execute_result"
    }
   ],
   "execution_count": 67
  },
  {
   "metadata": {
    "ExecuteTime": {
     "end_time": "2024-06-08T06:22:33.005965Z",
     "start_time": "2024-06-08T06:22:33.002465Z"
    }
   },
   "cell_type": "code",
   "source": "torch.__version__",
   "id": "3e4dd33b369f26f1",
   "outputs": [
    {
     "data": {
      "text/plain": [
       "'2.3.1+cu118'"
      ]
     },
     "execution_count": 68,
     "metadata": {},
     "output_type": "execute_result"
    }
   ],
   "execution_count": 68
  },
  {
   "metadata": {
    "ExecuteTime": {
     "end_time": "2024-06-08T06:22:33.040146Z",
     "start_time": "2024-06-08T06:22:33.037188Z"
    }
   },
   "cell_type": "code",
   "source": "torch.cuda.is_initialized()",
   "id": "d633064946da6795",
   "outputs": [
    {
     "data": {
      "text/plain": [
       "True"
      ]
     },
     "execution_count": 69,
     "metadata": {},
     "output_type": "execute_result"
    }
   ],
   "execution_count": 69
  },
  {
   "metadata": {
    "ExecuteTime": {
     "end_time": "2024-06-08T06:22:33.088937Z",
     "start_time": "2024-06-08T06:22:33.085033Z"
    }
   },
   "cell_type": "code",
   "source": "torch.cuda.memory_allocated()",
   "id": "f701b25b6e422e6d",
   "outputs": [
    {
     "data": {
      "text/plain": [
       "0"
      ]
     },
     "execution_count": 70,
     "metadata": {},
     "output_type": "execute_result"
    }
   ],
   "execution_count": 70
  },
  {
   "metadata": {
    "ExecuteTime": {
     "end_time": "2024-06-08T06:22:33.121178Z",
     "start_time": "2024-06-08T06:22:33.117240Z"
    }
   },
   "cell_type": "code",
   "source": "torch.cuda.memory_cached()",
   "id": "e3e9a42e1a5f49f1",
   "outputs": [
    {
     "name": "stderr",
     "output_type": "stream",
     "text": [
      "E:\\Project\\python\\Lib\\site-packages\\torch\\cuda\\memory.py:440: FutureWarning: torch.cuda.memory_cached has been renamed to torch.cuda.memory_reserved\n",
      "  warnings.warn(\n"
     ]
    },
    {
     "data": {
      "text/plain": [
       "0"
      ]
     },
     "execution_count": 71,
     "metadata": {},
     "output_type": "execute_result"
    }
   ],
   "execution_count": 71
  },
  {
   "metadata": {
    "ExecuteTime": {
     "end_time": "2024-06-08T06:22:33.200190Z",
     "start_time": "2024-06-08T06:22:33.196470Z"
    }
   },
   "cell_type": "code",
   "source": "torch.cuda.memory_reserved()",
   "id": "afff33c48a8f97e6",
   "outputs": [
    {
     "data": {
      "text/plain": [
       "0"
      ]
     },
     "execution_count": 72,
     "metadata": {},
     "output_type": "execute_result"
    }
   ],
   "execution_count": 72
  },
  {
   "metadata": {
    "ExecuteTime": {
     "end_time": "2024-06-08T06:22:33.239278Z",
     "start_time": "2024-06-08T06:22:33.234397Z"
    }
   },
   "cell_type": "code",
   "source": "torch.cuda.memory_snapshot()",
   "id": "1ff7b285a456d969",
   "outputs": [
    {
     "data": {
      "text/plain": [
       "[]"
      ]
     },
     "execution_count": 73,
     "metadata": {},
     "output_type": "execute_result"
    }
   ],
   "execution_count": 73
  },
  {
   "metadata": {
    "ExecuteTime": {
     "end_time": "2024-06-08T06:22:33.298859Z",
     "start_time": "2024-06-08T06:22:33.293003Z"
    }
   },
   "cell_type": "code",
   "source": "torch.cuda.memory_stats()",
   "id": "8094f7a364610a85",
   "outputs": [
    {
     "data": {
      "text/plain": [
       "OrderedDict([('active.all.allocated', 0),\n",
       "             ('active.all.current', 0),\n",
       "             ('active.all.freed', 0),\n",
       "             ('active.all.peak', 0),\n",
       "             ('active.large_pool.allocated', 0),\n",
       "             ('active.large_pool.current', 0),\n",
       "             ('active.large_pool.freed', 0),\n",
       "             ('active.large_pool.peak', 0),\n",
       "             ('active.small_pool.allocated', 0),\n",
       "             ('active.small_pool.current', 0),\n",
       "             ('active.small_pool.freed', 0),\n",
       "             ('active.small_pool.peak', 0),\n",
       "             ('active_bytes.all.allocated', 0),\n",
       "             ('active_bytes.all.current', 0),\n",
       "             ('active_bytes.all.freed', 0),\n",
       "             ('active_bytes.all.peak', 0),\n",
       "             ('active_bytes.large_pool.allocated', 0),\n",
       "             ('active_bytes.large_pool.current', 0),\n",
       "             ('active_bytes.large_pool.freed', 0),\n",
       "             ('active_bytes.large_pool.peak', 0),\n",
       "             ('active_bytes.small_pool.allocated', 0),\n",
       "             ('active_bytes.small_pool.current', 0),\n",
       "             ('active_bytes.small_pool.freed', 0),\n",
       "             ('active_bytes.small_pool.peak', 0),\n",
       "             ('allocated_bytes.all.allocated', 0),\n",
       "             ('allocated_bytes.all.current', 0),\n",
       "             ('allocated_bytes.all.freed', 0),\n",
       "             ('allocated_bytes.all.peak', 0),\n",
       "             ('allocated_bytes.large_pool.allocated', 0),\n",
       "             ('allocated_bytes.large_pool.current', 0),\n",
       "             ('allocated_bytes.large_pool.freed', 0),\n",
       "             ('allocated_bytes.large_pool.peak', 0),\n",
       "             ('allocated_bytes.small_pool.allocated', 0),\n",
       "             ('allocated_bytes.small_pool.current', 0),\n",
       "             ('allocated_bytes.small_pool.freed', 0),\n",
       "             ('allocated_bytes.small_pool.peak', 0),\n",
       "             ('allocation.all.allocated', 0),\n",
       "             ('allocation.all.current', 0),\n",
       "             ('allocation.all.freed', 0),\n",
       "             ('allocation.all.peak', 0),\n",
       "             ('allocation.large_pool.allocated', 0),\n",
       "             ('allocation.large_pool.current', 0),\n",
       "             ('allocation.large_pool.freed', 0),\n",
       "             ('allocation.large_pool.peak', 0),\n",
       "             ('allocation.small_pool.allocated', 0),\n",
       "             ('allocation.small_pool.current', 0),\n",
       "             ('allocation.small_pool.freed', 0),\n",
       "             ('allocation.small_pool.peak', 0),\n",
       "             ('inactive_split.all.allocated', 0),\n",
       "             ('inactive_split.all.current', 0),\n",
       "             ('inactive_split.all.freed', 0),\n",
       "             ('inactive_split.all.peak', 0),\n",
       "             ('inactive_split.large_pool.allocated', 0),\n",
       "             ('inactive_split.large_pool.current', 0),\n",
       "             ('inactive_split.large_pool.freed', 0),\n",
       "             ('inactive_split.large_pool.peak', 0),\n",
       "             ('inactive_split.small_pool.allocated', 0),\n",
       "             ('inactive_split.small_pool.current', 0),\n",
       "             ('inactive_split.small_pool.freed', 0),\n",
       "             ('inactive_split.small_pool.peak', 0),\n",
       "             ('inactive_split_bytes.all.allocated', 0),\n",
       "             ('inactive_split_bytes.all.current', 0),\n",
       "             ('inactive_split_bytes.all.freed', 0),\n",
       "             ('inactive_split_bytes.all.peak', 0),\n",
       "             ('inactive_split_bytes.large_pool.allocated', 0),\n",
       "             ('inactive_split_bytes.large_pool.current', 0),\n",
       "             ('inactive_split_bytes.large_pool.freed', 0),\n",
       "             ('inactive_split_bytes.large_pool.peak', 0),\n",
       "             ('inactive_split_bytes.small_pool.allocated', 0),\n",
       "             ('inactive_split_bytes.small_pool.current', 0),\n",
       "             ('inactive_split_bytes.small_pool.freed', 0),\n",
       "             ('inactive_split_bytes.small_pool.peak', 0),\n",
       "             ('max_split_size', -1),\n",
       "             ('num_alloc_retries', 0),\n",
       "             ('num_device_alloc', 0),\n",
       "             ('num_device_free', 0),\n",
       "             ('num_ooms', 0),\n",
       "             ('num_sync_all_streams', 0),\n",
       "             ('oversize_allocations.allocated', 0),\n",
       "             ('oversize_allocations.current', 0),\n",
       "             ('oversize_allocations.freed', 0),\n",
       "             ('oversize_allocations.peak', 0),\n",
       "             ('oversize_segments.allocated', 0),\n",
       "             ('oversize_segments.current', 0),\n",
       "             ('oversize_segments.freed', 0),\n",
       "             ('oversize_segments.peak', 0),\n",
       "             ('requested_bytes.all.allocated', 0),\n",
       "             ('requested_bytes.all.current', 0),\n",
       "             ('requested_bytes.all.freed', 0),\n",
       "             ('requested_bytes.all.peak', 0),\n",
       "             ('requested_bytes.large_pool.allocated', 0),\n",
       "             ('requested_bytes.large_pool.current', 0),\n",
       "             ('requested_bytes.large_pool.freed', 0),\n",
       "             ('requested_bytes.large_pool.peak', 0),\n",
       "             ('requested_bytes.small_pool.allocated', 0),\n",
       "             ('requested_bytes.small_pool.current', 0),\n",
       "             ('requested_bytes.small_pool.freed', 0),\n",
       "             ('requested_bytes.small_pool.peak', 0),\n",
       "             ('reserved_bytes.all.allocated', 0),\n",
       "             ('reserved_bytes.all.current', 0),\n",
       "             ('reserved_bytes.all.freed', 0),\n",
       "             ('reserved_bytes.all.peak', 0),\n",
       "             ('reserved_bytes.large_pool.allocated', 0),\n",
       "             ('reserved_bytes.large_pool.current', 0),\n",
       "             ('reserved_bytes.large_pool.freed', 0),\n",
       "             ('reserved_bytes.large_pool.peak', 0),\n",
       "             ('reserved_bytes.small_pool.allocated', 0),\n",
       "             ('reserved_bytes.small_pool.current', 0),\n",
       "             ('reserved_bytes.small_pool.freed', 0),\n",
       "             ('reserved_bytes.small_pool.peak', 0),\n",
       "             ('segment.all.allocated', 0),\n",
       "             ('segment.all.current', 0),\n",
       "             ('segment.all.freed', 0),\n",
       "             ('segment.all.peak', 0),\n",
       "             ('segment.large_pool.allocated', 0),\n",
       "             ('segment.large_pool.current', 0),\n",
       "             ('segment.large_pool.freed', 0),\n",
       "             ('segment.large_pool.peak', 0),\n",
       "             ('segment.small_pool.allocated', 0),\n",
       "             ('segment.small_pool.current', 0),\n",
       "             ('segment.small_pool.freed', 0),\n",
       "             ('segment.small_pool.peak', 0)])"
      ]
     },
     "execution_count": 74,
     "metadata": {},
     "output_type": "execute_result"
    }
   ],
   "execution_count": 74
  },
  {
   "metadata": {
    "ExecuteTime": {
     "end_time": "2024-06-08T06:22:33.352054Z",
     "start_time": "2024-06-08T06:22:33.347929Z"
    }
   },
   "cell_type": "code",
   "source": [
    "x = torch.empty(5, 3)\n",
    "x"
   ],
   "id": "98a9185200d8283b",
   "outputs": [
    {
     "data": {
      "text/plain": [
       "tensor([[-4.1253e+11,  2.0095e-42,  1.4013e-45],\n",
       "        [ 0.0000e+00,  1.4013e-45,  0.0000e+00],\n",
       "        [ 1.4013e-45,  0.0000e+00,  1.4013e-45],\n",
       "        [ 0.0000e+00,  1.4013e-45,  0.0000e+00],\n",
       "        [ 1.4013e-45,  0.0000e+00,  1.4013e-45]])"
      ]
     },
     "execution_count": 75,
     "metadata": {},
     "output_type": "execute_result"
    }
   ],
   "execution_count": 75
  },
  {
   "metadata": {
    "ExecuteTime": {
     "end_time": "2024-06-08T06:22:33.385460Z",
     "start_time": "2024-06-08T06:22:33.381544Z"
    }
   },
   "cell_type": "code",
   "source": [
    "x = torch.rand(5, 3)\n",
    "x"
   ],
   "id": "d82d5160aff6af7a",
   "outputs": [
    {
     "data": {
      "text/plain": [
       "tensor([[0.9300, 0.7894, 0.7676],\n",
       "        [0.1444, 0.7799, 0.8943],\n",
       "        [0.3974, 0.5745, 0.0143],\n",
       "        [0.0892, 0.5473, 0.2371],\n",
       "        [0.7723, 0.3071, 0.8905]])"
      ]
     },
     "execution_count": 76,
     "metadata": {},
     "output_type": "execute_result"
    }
   ],
   "execution_count": 76
  },
  {
   "metadata": {
    "ExecuteTime": {
     "end_time": "2024-06-08T06:22:33.440347Z",
     "start_time": "2024-06-08T06:22:33.436909Z"
    }
   },
   "cell_type": "code",
   "source": [
    "x = torch.zeros(5, 3, dtype=torch.long)\n",
    "x"
   ],
   "id": "51a9557bcd1c4f94",
   "outputs": [
    {
     "data": {
      "text/plain": [
       "tensor([[0, 0, 0],\n",
       "        [0, 0, 0],\n",
       "        [0, 0, 0],\n",
       "        [0, 0, 0],\n",
       "        [0, 0, 0]])"
      ]
     },
     "execution_count": 77,
     "metadata": {},
     "output_type": "execute_result"
    }
   ],
   "execution_count": 77
  },
  {
   "metadata": {
    "ExecuteTime": {
     "end_time": "2024-06-08T06:22:33.462688Z",
     "start_time": "2024-06-08T06:22:33.459076Z"
    }
   },
   "cell_type": "code",
   "source": [
    "x= torch.tensor([5.5, 3])\n",
    "x"
   ],
   "id": "85ce9d0f58e355e9",
   "outputs": [
    {
     "data": {
      "text/plain": [
       "tensor([5.5000, 3.0000])"
      ]
     },
     "execution_count": 78,
     "metadata": {},
     "output_type": "execute_result"
    }
   ],
   "execution_count": 78
  },
  {
   "metadata": {
    "ExecuteTime": {
     "end_time": "2024-06-08T06:22:33.520503Z",
     "start_time": "2024-06-08T06:22:33.515939Z"
    }
   },
   "cell_type": "code",
   "source": [
    "x = x.new_ones(5, 3, dtype=torch.double)\n",
    "\n",
    "x = torch.randn_like(x, dtype=torch.float)\n",
    "x"
   ],
   "id": "a8e5ced395db6b82",
   "outputs": [
    {
     "data": {
      "text/plain": [
       "tensor([[ 0.6959, -0.4286,  0.1537],\n",
       "        [ 0.7188,  0.4268,  0.6946],\n",
       "        [-0.4722,  0.7672, -0.6627],\n",
       "        [-0.3282,  0.4524, -0.0787],\n",
       "        [-0.3267, -0.1129, -0.3021]])"
      ]
     },
     "execution_count": 79,
     "metadata": {},
     "output_type": "execute_result"
    }
   ],
   "execution_count": 79
  },
  {
   "metadata": {
    "ExecuteTime": {
     "end_time": "2024-06-08T06:22:33.556827Z",
     "start_time": "2024-06-08T06:22:33.553005Z"
    }
   },
   "cell_type": "code",
   "source": "x.size()",
   "id": "7e4e82431a08085b",
   "outputs": [
    {
     "data": {
      "text/plain": [
       "torch.Size([5, 3])"
      ]
     },
     "execution_count": 80,
     "metadata": {},
     "output_type": "execute_result"
    }
   ],
   "execution_count": 80
  },
  {
   "metadata": {
    "ExecuteTime": {
     "end_time": "2024-06-08T06:22:33.591641Z",
     "start_time": "2024-06-08T06:22:33.586813Z"
    }
   },
   "cell_type": "code",
   "source": [
    "y = torch.rand(5, 3)\n",
    "x + y"
   ],
   "id": "9956b2c8eee4a9e9",
   "outputs": [
    {
     "data": {
      "text/plain": [
       "tensor([[ 1.1721,  0.3909,  0.2993],\n",
       "        [ 0.7914,  0.5924,  1.6647],\n",
       "        [-0.0983,  1.4719,  0.0563],\n",
       "        [ 0.1429,  0.7162,  0.0305],\n",
       "        [-0.1753,  0.1667,  0.4851]])"
      ]
     },
     "execution_count": 81,
     "metadata": {},
     "output_type": "execute_result"
    }
   ],
   "execution_count": 81
  },
  {
   "metadata": {
    "ExecuteTime": {
     "end_time": "2024-06-08T06:22:33.640471Z",
     "start_time": "2024-06-08T06:22:33.635779Z"
    }
   },
   "cell_type": "code",
   "source": "torch.add(x, y)",
   "id": "941dd667cb94423d",
   "outputs": [
    {
     "data": {
      "text/plain": [
       "tensor([[ 1.1721,  0.3909,  0.2993],\n",
       "        [ 0.7914,  0.5924,  1.6647],\n",
       "        [-0.0983,  1.4719,  0.0563],\n",
       "        [ 0.1429,  0.7162,  0.0305],\n",
       "        [-0.1753,  0.1667,  0.4851]])"
      ]
     },
     "execution_count": 82,
     "metadata": {},
     "output_type": "execute_result"
    }
   ],
   "execution_count": 82
  },
  {
   "metadata": {
    "ExecuteTime": {
     "end_time": "2024-06-08T06:22:33.685572Z",
     "start_time": "2024-06-08T06:22:33.681666Z"
    }
   },
   "cell_type": "code",
   "source": "x[:, 1]",
   "id": "957d522e3e44170b",
   "outputs": [
    {
     "data": {
      "text/plain": [
       "tensor([-0.4286,  0.4268,  0.7672,  0.4524, -0.1129])"
      ]
     },
     "execution_count": 83,
     "metadata": {},
     "output_type": "execute_result"
    }
   ],
   "execution_count": 83
  },
  {
   "metadata": {
    "ExecuteTime": {
     "end_time": "2024-06-08T06:22:33.720203Z",
     "start_time": "2024-06-08T06:22:33.716796Z"
    }
   },
   "cell_type": "code",
   "source": [
    "x = torch.randn(4, 4)\n",
    "y = x.view(16)\n",
    "z = x.view(-1, 8)\n",
    "x.size(), y.size(), z.size()"
   ],
   "id": "a382ae102a229ccb",
   "outputs": [
    {
     "data": {
      "text/plain": [
       "(torch.Size([4, 4]), torch.Size([16]), torch.Size([2, 8]))"
      ]
     },
     "execution_count": 84,
     "metadata": {},
     "output_type": "execute_result"
    }
   ],
   "execution_count": 84
  },
  {
   "metadata": {
    "ExecuteTime": {
     "end_time": "2024-06-08T06:22:33.759301Z",
     "start_time": "2024-06-08T06:22:33.755859Z"
    }
   },
   "cell_type": "code",
   "source": [
    "a = torch.ones(5)\n",
    "b= a.numpy()\n",
    "b"
   ],
   "id": "2835374f2968bbb",
   "outputs": [
    {
     "data": {
      "text/plain": [
       "array([1., 1., 1., 1., 1.], dtype=float32)"
      ]
     },
     "execution_count": 85,
     "metadata": {},
     "output_type": "execute_result"
    }
   ],
   "execution_count": 85
  },
  {
   "metadata": {
    "ExecuteTime": {
     "end_time": "2024-06-08T06:22:33.794548Z",
     "start_time": "2024-06-08T06:22:33.790129Z"
    }
   },
   "cell_type": "code",
   "source": [
    "import numpy as np\n",
    "a = np.ones(5)\n",
    "b = torch.from_numpy(a)\n",
    "b"
   ],
   "id": "9b007bf219912d71",
   "outputs": [
    {
     "data": {
      "text/plain": [
       "tensor([1., 1., 1., 1., 1.], dtype=torch.float64)"
      ]
     },
     "execution_count": 86,
     "metadata": {},
     "output_type": "execute_result"
    }
   ],
   "execution_count": 86
  },
  {
   "metadata": {
    "ExecuteTime": {
     "end_time": "2024-06-08T06:22:33.867823Z",
     "start_time": "2024-06-08T06:22:33.864363Z"
    }
   },
   "cell_type": "code",
   "source": [
    "import datetime\n",
    "datetime.datetime.now().hour"
   ],
   "id": "93a96d9a9951736b",
   "outputs": [
    {
     "data": {
      "text/plain": [
       "14"
      ]
     },
     "execution_count": 87,
     "metadata": {},
     "output_type": "execute_result"
    }
   ],
   "execution_count": 87
  },
  {
   "metadata": {
    "ExecuteTime": {
     "end_time": "2024-06-08T06:22:33.900826Z",
     "start_time": "2024-06-08T06:22:33.897585Z"
    }
   },
   "cell_type": "code",
   "source": [
    "from lunarcalendar import Converter, Solar, Lunar\n",
    "today=datetime.date.today()\n",
    "\n",
    " # 将当前日期转换为 Solar 对象\n",
    "solar_date=Solar(today.year,today.month,today.day)\n",
    "\n",
    "# 将 Solar 对象转换为 Lunar 对象\n",
    "lunar_date=Converter.Solar2Lunar(solar_date)"
   ],
   "id": "4e8999cb6a95d1ce",
   "outputs": [],
   "execution_count": 88
  },
  {
   "metadata": {
    "ExecuteTime": {
     "end_time": "2024-06-08T06:22:33.949921Z",
     "start_time": "2024-06-08T06:22:33.946693Z"
    }
   },
   "cell_type": "code",
   "source": "lunar_date",
   "id": "114f4ac5d158cca3",
   "outputs": [
    {
     "data": {
      "text/plain": [
       "Lunar(year=2024, month=5, day=3, isleap=False)"
      ]
     },
     "execution_count": 89,
     "metadata": {},
     "output_type": "execute_result"
    }
   ],
   "execution_count": 89
  },
  {
   "metadata": {
    "ExecuteTime": {
     "end_time": "2024-06-08T06:22:33.981633Z",
     "start_time": "2024-06-08T06:22:33.978725Z"
    }
   },
   "cell_type": "code",
   "source": "lunar_date.month",
   "id": "de29218ca45ed8d",
   "outputs": [
    {
     "data": {
      "text/plain": [
       "5"
      ]
     },
     "execution_count": 90,
     "metadata": {},
     "output_type": "execute_result"
    }
   ],
   "execution_count": 90
  },
  {
   "metadata": {
    "ExecuteTime": {
     "end_time": "2024-06-08T06:22:34.012340Z",
     "start_time": "2024-06-08T06:22:34.008946Z"
    }
   },
   "cell_type": "code",
   "source": "7%6",
   "id": "2da78939f5272c64",
   "outputs": [
    {
     "data": {
      "text/plain": [
       "1"
      ]
     },
     "execution_count": 91,
     "metadata": {},
     "output_type": "execute_result"
    }
   ],
   "execution_count": 91
  },
  {
   "metadata": {
    "ExecuteTime": {
     "end_time": "2024-06-08T06:22:34.048475Z",
     "start_time": "2024-06-08T06:22:34.044571Z"
    }
   },
   "cell_type": "code",
   "source": [
    "for i in range(1, 13):\n",
    "    print(i)"
   ],
   "id": "c7aed4e7e6993417",
   "outputs": [
    {
     "name": "stdout",
     "output_type": "stream",
     "text": [
      "1\n",
      "2\n",
      "3\n",
      "4\n",
      "5\n",
      "6\n",
      "7\n",
      "8\n",
      "9\n",
      "10\n",
      "11\n",
      "12\n"
     ]
    }
   ],
   "execution_count": 92
  },
  {
   "metadata": {},
   "cell_type": "markdown",
   "source": "自动求导",
   "id": "411c8257f1f89527"
  },
  {
   "metadata": {
    "ExecuteTime": {
     "end_time": "2024-06-08T06:22:34.088483Z",
     "start_time": "2024-06-08T06:22:34.083603Z"
    }
   },
   "cell_type": "code",
   "source": [
    "#方法一\n",
    "x = torch.randn(3,4, requires_grad=True)\n",
    "x"
   ],
   "id": "c2417dc1c163777",
   "outputs": [
    {
     "data": {
      "text/plain": [
       "tensor([[ 0.0946,  0.1056,  1.2599,  0.0394],\n",
       "        [-0.1622,  0.7588, -0.4899,  0.7050],\n",
       "        [ 0.3123,  0.0712, -0.9298,  1.0771]], requires_grad=True)"
      ]
     },
     "execution_count": 93,
     "metadata": {},
     "output_type": "execute_result"
    }
   ],
   "execution_count": 93
  },
  {
   "metadata": {
    "ExecuteTime": {
     "end_time": "2024-06-08T06:22:34.124404Z",
     "start_time": "2024-06-08T06:22:34.119715Z"
    }
   },
   "cell_type": "code",
   "source": [
    "#方法二\n",
    "x = torch.randn(3,4)\n",
    "x.requires_grad_(True)\n",
    "x"
   ],
   "id": "ef3488b984bc0147",
   "outputs": [
    {
     "data": {
      "text/plain": [
       "tensor([[ 0.5973,  0.9401, -0.8159, -0.4134],\n",
       "        [ 0.9832, -1.4518, -1.1946, -0.4366],\n",
       "        [ 0.7734,  0.1210,  1.0522,  2.1438]], requires_grad=True)"
      ]
     },
     "execution_count": 94,
     "metadata": {},
     "output_type": "execute_result"
    }
   ],
   "execution_count": 94
  },
  {
   "metadata": {
    "ExecuteTime": {
     "end_time": "2024-06-08T06:22:34.186806Z",
     "start_time": "2024-06-08T06:22:34.183933Z"
    }
   },
   "cell_type": "code",
   "source": "b = torch.randn(3,4, requires_grad=True)\n",
   "id": "c9918715c65b5fae",
   "outputs": [],
   "execution_count": 95
  },
  {
   "metadata": {
    "ExecuteTime": {
     "end_time": "2024-06-08T06:22:34.220554Z",
     "start_time": "2024-06-08T06:22:34.218027Z"
    }
   },
   "cell_type": "code",
   "source": "t = x + b",
   "id": "1aeddaf733ab4a18",
   "outputs": [],
   "execution_count": 96
  },
  {
   "metadata": {
    "ExecuteTime": {
     "end_time": "2024-06-08T06:22:34.255451Z",
     "start_time": "2024-06-08T06:22:34.251781Z"
    }
   },
   "cell_type": "code",
   "source": [
    "y = t.sum()\n",
    "y"
   ],
   "id": "22bbdac229d317e9",
   "outputs": [
    {
     "data": {
      "text/plain": [
       "tensor(6.0347, grad_fn=<SumBackward0>)"
      ]
     },
     "execution_count": 97,
     "metadata": {},
     "output_type": "execute_result"
    }
   ],
   "execution_count": 97
  },
  {
   "metadata": {
    "ExecuteTime": {
     "end_time": "2024-06-08T06:22:34.288582Z",
     "start_time": "2024-06-08T06:22:34.285654Z"
    }
   },
   "cell_type": "code",
   "source": "y.backward()",
   "id": "768ba8360226430f",
   "outputs": [],
   "execution_count": 98
  },
  {
   "metadata": {
    "ExecuteTime": {
     "end_time": "2024-06-08T06:22:34.331524Z",
     "start_time": "2024-06-08T06:22:34.327154Z"
    }
   },
   "cell_type": "code",
   "source": "b.grad",
   "id": "2eeea4b53cb49a39",
   "outputs": [
    {
     "data": {
      "text/plain": [
       "tensor([[1., 1., 1., 1.],\n",
       "        [1., 1., 1., 1.],\n",
       "        [1., 1., 1., 1.]])"
      ]
     },
     "execution_count": 99,
     "metadata": {},
     "output_type": "execute_result"
    }
   ],
   "execution_count": 99
  },
  {
   "metadata": {
    "ExecuteTime": {
     "end_time": "2024-06-08T06:22:34.358843Z",
     "start_time": "2024-06-08T06:22:34.354939Z"
    }
   },
   "cell_type": "code",
   "source": "x.requires_grad, b.requires_grad, t.requires_grad",
   "id": "5b61f9b4edf6cfcd",
   "outputs": [
    {
     "data": {
      "text/plain": [
       "(True, True, True)"
      ]
     },
     "execution_count": 100,
     "metadata": {},
     "output_type": "execute_result"
    }
   ],
   "execution_count": 100
  },
  {
   "metadata": {
    "ExecuteTime": {
     "end_time": "2024-06-08T06:22:34.403282Z",
     "start_time": "2024-06-08T06:22:34.399643Z"
    }
   },
   "cell_type": "code",
   "source": [
    "#计算流程\n",
    "x = torch.rand(1)\n",
    "b = torch.rand(1, requires_grad=True)\n",
    "w = torch.rand(1, requires_grad=True)\n",
    "y = w * x\n",
    "z = y + b"
   ],
   "id": "2aaaef3d375f7d89",
   "outputs": [],
   "execution_count": 101
  },
  {
   "metadata": {
    "ExecuteTime": {
     "end_time": "2024-06-08T06:22:34.436347Z",
     "start_time": "2024-06-08T06:22:34.432326Z"
    }
   },
   "cell_type": "code",
   "source": "x.requires_grad, b.requires_grad, w.requires_grad, y.requires_grad, z.requires_grad",
   "id": "f20f5cabc1a4bf4d",
   "outputs": [
    {
     "data": {
      "text/plain": [
       "(False, True, True, True, True)"
      ]
     },
     "execution_count": 102,
     "metadata": {},
     "output_type": "execute_result"
    }
   ],
   "execution_count": 102
  },
  {
   "metadata": {
    "ExecuteTime": {
     "end_time": "2024-06-08T06:22:34.493487Z",
     "start_time": "2024-06-08T06:22:34.489545Z"
    }
   },
   "cell_type": "code",
   "source": "x.is_leaf, b.is_leaf, w.is_leaf, y.is_leaf, z.is_leaf",
   "id": "ee2150cb7cd2b6da",
   "outputs": [
    {
     "data": {
      "text/plain": [
       "(True, True, True, False, False)"
      ]
     },
     "execution_count": 103,
     "metadata": {},
     "output_type": "execute_result"
    }
   ],
   "execution_count": 103
  },
  {
   "metadata": {},
   "cell_type": "markdown",
   "source": "反向传播计算",
   "id": "46b6adc0fe7ebbcc"
  },
  {
   "metadata": {
    "ExecuteTime": {
     "end_time": "2024-06-08T06:22:34.512723Z",
     "start_time": "2024-06-08T06:22:34.510074Z"
    }
   },
   "cell_type": "code",
   "source": "z.backward(retain_graph=True)",
   "id": "32d3c11f5673a7e9",
   "outputs": [],
   "execution_count": 104
  },
  {
   "metadata": {
    "ExecuteTime": {
     "end_time": "2024-06-08T06:22:34.535082Z",
     "start_time": "2024-06-08T06:22:34.530283Z"
    }
   },
   "cell_type": "code",
   "source": "w.grad",
   "id": "21339156763c61e2",
   "outputs": [
    {
     "data": {
      "text/plain": [
       "tensor([0.4112])"
      ]
     },
     "execution_count": 105,
     "metadata": {},
     "output_type": "execute_result"
    }
   ],
   "execution_count": 105
  },
  {
   "metadata": {
    "ExecuteTime": {
     "end_time": "2024-06-08T06:22:34.587334Z",
     "start_time": "2024-06-08T06:22:34.583448Z"
    }
   },
   "cell_type": "code",
   "source": "b.grad",
   "id": "c56e1386128128d3",
   "outputs": [
    {
     "data": {
      "text/plain": [
       "tensor([1.])"
      ]
     },
     "execution_count": 106,
     "metadata": {},
     "output_type": "execute_result"
    }
   ],
   "execution_count": 106
  },
  {
   "metadata": {
    "ExecuteTime": {
     "end_time": "2024-06-08T06:22:34.644863Z",
     "start_time": "2024-06-08T06:22:34.641520Z"
    }
   },
   "cell_type": "code",
   "source": [
    "#清空梯度\n",
    "w.grad.zero_()\n",
    "b.grad.zero_()\n"
   ],
   "id": "72f93c9d2a3f0ac",
   "outputs": [
    {
     "data": {
      "text/plain": [
       "tensor([0.])"
      ]
     },
     "execution_count": 107,
     "metadata": {},
     "output_type": "execute_result"
    }
   ],
   "execution_count": 107
  },
  {
   "metadata": {},
   "cell_type": "markdown",
   "source": "做一个线性回归",
   "id": "a547f0a859fcdc11"
  },
  {
   "metadata": {},
   "cell_type": "markdown",
   "source": "构造一组输入数据x和其对应的标签y",
   "id": "ef8fef0f251b98af"
  },
  {
   "metadata": {
    "ExecuteTime": {
     "end_time": "2024-06-08T06:22:34.665940Z",
     "start_time": "2024-06-08T06:22:34.662421Z"
    }
   },
   "cell_type": "code",
   "source": [
    "x_values = [i for i in range(11)]\n",
    "x_train = np.array(x_values, dtype=np.float32)\n",
    "x_train = x_train.reshape(-1, 1)\n",
    "x_train.shape"
   ],
   "id": "4114f8a94cae29cf",
   "outputs": [
    {
     "data": {
      "text/plain": [
       "(11, 1)"
      ]
     },
     "execution_count": 108,
     "metadata": {},
     "output_type": "execute_result"
    }
   ],
   "execution_count": 108
  },
  {
   "metadata": {
    "ExecuteTime": {
     "end_time": "2024-06-08T06:22:34.717661Z",
     "start_time": "2024-06-08T06:22:34.713757Z"
    }
   },
   "cell_type": "code",
   "source": [
    "y_values = [2*i + 1 for i in x_values]\n",
    "y_train = np.array(y_values, dtype=np.float32)\n",
    "y_train = y_train.reshape(-1, 1)\n",
    "y_train.shape"
   ],
   "id": "b707f5169b062084",
   "outputs": [
    {
     "data": {
      "text/plain": [
       "(11, 1)"
      ]
     },
     "execution_count": 109,
     "metadata": {},
     "output_type": "execute_result"
    }
   ],
   "execution_count": 109
  },
  {
   "metadata": {
    "ExecuteTime": {
     "end_time": "2024-06-08T06:22:34.751821Z",
     "start_time": "2024-06-08T06:22:34.748893Z"
    }
   },
   "cell_type": "code",
   "source": "import torch.nn as nn",
   "id": "79be9e8678b6ace7",
   "outputs": [],
   "execution_count": 110
  },
  {
   "metadata": {},
   "cell_type": "markdown",
   "source": [
    "#线性回归模型\n",
    "- 理论上就是一个没有激活函数的全连接层"
   ],
   "id": "42b1fd877e441d"
  },
  {
   "metadata": {
    "ExecuteTime": {
     "end_time": "2024-06-08T06:22:34.785927Z",
     "start_time": "2024-06-08T06:22:34.782702Z"
    }
   },
   "cell_type": "code",
   "source": [
    "class LinearRegressionModel(nn.Module):\n",
    "    def __init__(self, input_dim, output_dim):\n",
    "        super(LinearRegressionModel, self).__init__()\n",
    "        self.linear = nn.Linear(input_dim, output_dim)#构造一个全连接层\n",
    "        \n",
    "    def forward(self, x):#定义前向传播规则\n",
    "        out = self.linear(x)\n",
    "        return out\n",
    "        \n",
    "    "
   ],
   "id": "e59ad8030ffdcab",
   "outputs": [],
   "execution_count": 111
  },
  {
   "metadata": {
    "ExecuteTime": {
     "end_time": "2024-06-08T06:32:00.451632Z",
     "start_time": "2024-06-08T06:32:00.448679Z"
    }
   },
   "cell_type": "code",
   "source": [
    "input_dim = 1\n",
    "output_dim = 1\n",
    "\n",
    "model = LinearRegressionModel(input_dim, output_dim)#实例化模型"
   ],
   "id": "7a73792ade3e300f",
   "outputs": [],
   "execution_count": 141
  },
  {
   "metadata": {
    "ExecuteTime": {
     "end_time": "2024-06-08T06:32:00.598276Z",
     "start_time": "2024-06-08T06:32:00.595036Z"
    }
   },
   "cell_type": "code",
   "source": "model",
   "id": "848867351851b5e0",
   "outputs": [
    {
     "data": {
      "text/plain": [
       "LinearRegressionModel(\n",
       "  (linear): Linear(in_features=1, out_features=1, bias=True)\n",
       ")"
      ]
     },
     "execution_count": 142,
     "metadata": {},
     "output_type": "execute_result"
    }
   ],
   "execution_count": 142
  },
  {
   "metadata": {},
   "cell_type": "markdown",
   "source": "指定参数和损失函数",
   "id": "6196d30aeec32650"
  },
  {
   "metadata": {
    "ExecuteTime": {
     "end_time": "2024-06-08T06:32:01.115133Z",
     "start_time": "2024-06-08T06:32:01.111961Z"
    }
   },
   "cell_type": "code",
   "source": [
    "epochs = 1000#训练次数\n",
    "learning_rate = 0.01#学习率\n",
    "optimizer = torch.optim.SGD(model.parameters(), lr=learning_rate)#优化器\n",
    "criterion = nn.MSELoss()#损失函数"
   ],
   "id": "726e9755dba47bd3",
   "outputs": [],
   "execution_count": 143
  },
  {
   "metadata": {},
   "cell_type": "markdown",
   "source": "训练模型",
   "id": "fcc2c02781eba045"
  },
  {
   "metadata": {
    "ExecuteTime": {
     "end_time": "2024-06-08T06:33:34.890377Z",
     "start_time": "2024-06-08T06:33:34.412246Z"
    }
   },
   "cell_type": "code",
   "source": [
    "\n",
    "\n",
    "\n",
    "for epoch in range(epochs):#训练1000次\n",
    "    epoch += 1#每次训练次数加1\n",
    "    inputs = torch.from_numpy(x_train)#将numpy数组转换为张量\n",
    "    labels = torch.from_numpy(y_train)#将numpy数组转换为张量\n",
    "    \n",
    "    optimizer.zero_grad()#清空梯度\n",
    "    \n",
    "    outputs = model(inputs)#前向传播\n",
    "    \n",
    "    loss = criterion(outputs, labels)#计算损失\n",
    "    \n",
    "    loss.backward()#反向传播\n",
    "    \n",
    "    optimizer.step()#更新参数\n",
    "    \n",
    "    if epoch % 50 == 0:\n",
    "    \n",
    "        print('epoch {}, loss {}'.format(epoch, loss.item()))\n",
    "\n"
   ],
   "id": "e5523c8193eea505",
   "outputs": [
    {
     "name": "stdout",
     "output_type": "stream",
     "text": [
      "epoch 50, loss 2.3918545366541366e-07\n",
      "epoch 100, loss 1.3648518404352217e-07\n",
      "epoch 150, loss 7.772601406941249e-08\n",
      "epoch 200, loss 4.435213796227799e-08\n",
      "epoch 250, loss 2.5292386851560877e-08\n",
      "epoch 300, loss 1.4382459667672265e-08\n",
      "epoch 350, loss 8.237687865175758e-09\n",
      "epoch 400, loss 4.723560209640709e-09\n",
      "epoch 450, loss 2.669160226176359e-09\n",
      "epoch 500, loss 1.5373884387770431e-09\n",
      "epoch 550, loss 8.724793110204132e-10\n",
      "epoch 600, loss 5.241751477313983e-10\n",
      "epoch 650, loss 2.870708948332634e-10\n",
      "epoch 700, loss 1.835112201087341e-10\n",
      "epoch 750, loss 1.0753224699566744e-10\n",
      "epoch 800, loss 5.093170329928398e-11\n",
      "epoch 850, loss 3.915478011262685e-11\n",
      "epoch 900, loss 3.915478011262685e-11\n",
      "epoch 950, loss 3.915478011262685e-11\n",
      "epoch 1000, loss 3.915478011262685e-11\n"
     ]
    }
   ],
   "execution_count": 146
  },
  {
   "metadata": {
    "ExecuteTime": {
     "end_time": "2024-06-08T06:33:35.866109Z",
     "start_time": "2024-06-08T06:33:35.862090Z"
    }
   },
   "cell_type": "code",
   "source": [
    "predicted = model(torch.from_numpy(x_train).requires_grad_()).data.numpy()\n",
    "predicted"
   ],
   "id": "17fc2469d4ef899b",
   "outputs": [
    {
     "data": {
      "text/plain": [
       "array([[ 1.0000117],\n",
       "       [ 3.00001  ],\n",
       "       [ 5.000008 ],\n",
       "       [ 7.0000067],\n",
       "       [ 9.000005 ],\n",
       "       [11.000003 ],\n",
       "       [13.000001 ],\n",
       "       [14.999999 ],\n",
       "       [16.999998 ],\n",
       "       [18.999996 ],\n",
       "       [20.999994 ]], dtype=float32)"
      ]
     },
     "execution_count": 147,
     "metadata": {},
     "output_type": "execute_result"
    }
   ],
   "execution_count": 147
  },
  {
   "metadata": {},
   "cell_type": "markdown",
   "source": "保存模型",
   "id": "7173bd62a0509760"
  },
  {
   "metadata": {
    "ExecuteTime": {
     "end_time": "2024-06-08T06:34:10.727732Z",
     "start_time": "2024-06-08T06:34:10.720388Z"
    }
   },
   "cell_type": "code",
   "source": "torch.save(model.state_dict(), 'model.pkl')",
   "id": "e2028c34c534c59",
   "outputs": [],
   "execution_count": 148
  },
  {
   "metadata": {
    "ExecuteTime": {
     "end_time": "2024-06-08T06:34:14.467267Z",
     "start_time": "2024-06-08T06:34:14.457448Z"
    }
   },
   "cell_type": "code",
   "source": "model.load_state_dict(torch.load('model.pkl'))",
   "id": "52c54bea629caef0",
   "outputs": [
    {
     "data": {
      "text/plain": [
       "<All keys matched successfully>"
      ]
     },
     "execution_count": 149,
     "metadata": {},
     "output_type": "execute_result"
    }
   ],
   "execution_count": 149
  },
  {
   "metadata": {},
   "cell_type": "markdown",
   "source": "使用gpu",
   "id": "a3e0118e10852f90"
  },
  {
   "metadata": {
    "ExecuteTime": {
     "end_time": "2024-06-08T06:36:22.664377Z",
     "start_time": "2024-06-08T06:36:22.659648Z"
    }
   },
   "cell_type": "code",
   "source": "torch.cuda.is_available()",
   "id": "ad4c1625a76632d4",
   "outputs": [
    {
     "data": {
      "text/plain": [
       "True"
      ]
     },
     "execution_count": 150,
     "metadata": {},
     "output_type": "execute_result"
    }
   ],
   "execution_count": 150
  },
  {
   "metadata": {},
   "cell_type": "markdown",
   "source": "",
   "id": "e43f681546857a7b"
  },
  {
   "metadata": {
    "ExecuteTime": {
     "end_time": "2024-06-08T06:37:43.513445Z",
     "start_time": "2024-06-08T06:37:42.013333Z"
    }
   },
   "cell_type": "code",
   "source": [
    "import torch\n",
    "import torch.nn as nn\n",
    "import numpy as np\n",
    "\n",
    "class LinearRegressionModel(nn.Module):\n",
    "    def __init__(self, input_dim, output_dim):\n",
    "        super(LinearRegressionModel, self).__init__()\n",
    "        self.linear = nn.Linear(input_dim, output_dim)\n",
    "        \n",
    "    def forward(self, x):\n",
    "        out = self.linear(x)\n",
    "        return out\n",
    "    \n",
    "input_dim = 1\n",
    "output_dim = 1\n",
    "\n",
    "model = LinearRegressionModel(input_dim, output_dim)\n",
    "\n",
    "device = torch.device(\"cuda:0\" if torch.cuda.is_available() else \"cpu\")\n",
    "model.to(device)\n",
    "\n",
    "criterion = nn.MSELoss()\n",
    "\n",
    "learning_rate = 0.01\n",
    "\n",
    "optimizer = torch.optim.SGD(model.parameters(), lr=learning_rate)\n",
    "\n",
    "epochs = 1000\n",
    "\n",
    "for epoch in range(epochs):\n",
    "    epoch += 1\n",
    "    inputs = torch.from_numpy(x_train).to(device)\n",
    "    labels = torch.from_numpy(y_train).to(device)\n",
    "    \n",
    "    optimizer.zero_grad()\n",
    "    \n",
    "    outputs = model(inputs)\n",
    "    \n",
    "    loss = criterion(outputs, labels)\n",
    "    \n",
    "    loss.backward()\n",
    "    \n",
    "    optimizer.step()\n",
    "    \n",
    "    if epoch % 50 == 0:\n",
    "        print('epoch {}, loss {}'.format(epoch, loss.item()))\n",
    "\n",
    "    "
   ],
   "id": "18592de0b5aedcb6",
   "outputs": [
    {
     "name": "stdout",
     "output_type": "stream",
     "text": [
      "epoch 50, loss 9.75021393969655e-05\n",
      "epoch 100, loss 5.561267971643247e-05\n",
      "epoch 150, loss 3.1718111131340265e-05\n",
      "epoch 200, loss 1.80902388819959e-05\n",
      "epoch 250, loss 1.0318400200048927e-05\n",
      "epoch 300, loss 5.885101472813403e-06\n",
      "epoch 350, loss 3.3572348456800682e-06\n",
      "epoch 400, loss 1.9145784335705684e-06\n",
      "epoch 450, loss 1.0919017086052918e-06\n",
      "epoch 500, loss 6.227760991350806e-07\n",
      "epoch 550, loss 3.552141549789667e-07\n",
      "epoch 600, loss 2.0269787626148172e-07\n",
      "epoch 650, loss 1.1567685476165934e-07\n",
      "epoch 700, loss 6.589525725075873e-08\n",
      "epoch 750, loss 3.7615656367506745e-08\n",
      "epoch 800, loss 2.1458355092818238e-08\n",
      "epoch 850, loss 1.2188206000018909e-08\n",
      "epoch 900, loss 6.9604406682799436e-09\n",
      "epoch 950, loss 3.9764258552565934e-09\n",
      "epoch 1000, loss 2.276919985888526e-09\n"
     ]
    }
   ],
   "execution_count": 151
  },
  {
   "metadata": {
    "ExecuteTime": {
     "end_time": "2024-06-08T06:37:52.065111Z",
     "start_time": "2024-06-08T06:37:52.059800Z"
    }
   },
   "cell_type": "code",
   "source": [
    "predicted = model(torch.from_numpy(x_train).requires_grad_().to(device)).data.cpu().numpy()\n",
    "predicted"
   ],
   "id": "90cb24498f1da720",
   "outputs": [
    {
     "data": {
      "text/plain": [
       "array([[ 0.9999113],\n",
       "       [ 2.9999242],\n",
       "       [ 4.999937 ],\n",
       "       [ 6.99995  ],\n",
       "       [ 8.999963 ],\n",
       "       [10.999975 ],\n",
       "       [12.999989 ],\n",
       "       [15.000002 ],\n",
       "       [17.000015 ],\n",
       "       [19.000027 ],\n",
       "       [21.00004  ]], dtype=float32)"
      ]
     },
     "execution_count": 152,
     "metadata": {},
     "output_type": "execute_result"
    }
   ],
   "execution_count": 152
  },
  {
   "metadata": {
    "ExecuteTime": {
     "end_time": "2024-06-08T06:38:06.312896Z",
     "start_time": "2024-06-08T06:38:06.308016Z"
    }
   },
   "cell_type": "code",
   "source": "torch.save(model.state_dict(), 'model_gpu.pkl')\n",
   "id": "de4889b14a15f482",
   "outputs": [],
   "execution_count": 153
  },
  {
   "metadata": {
    "ExecuteTime": {
     "end_time": "2024-06-08T06:38:08.236316Z",
     "start_time": "2024-06-08T06:38:08.230460Z"
    }
   },
   "cell_type": "code",
   "source": "model.load_state_dict(torch.load('model_gpu.pkl'))",
   "id": "a8d1ad61ed6f60db",
   "outputs": [
    {
     "data": {
      "text/plain": [
       "<All keys matched successfully>"
      ]
     },
     "execution_count": 154,
     "metadata": {},
     "output_type": "execute_result"
    }
   ],
   "execution_count": 154
  },
  {
   "metadata": {
    "ExecuteTime": {
     "end_time": "2024-06-08T06:38:09.650780Z",
     "start_time": "2024-06-08T06:38:09.647852Z"
    }
   },
   "cell_type": "code",
   "source": "model.eval()",
   "id": "fab4793da8837b72",
   "outputs": [
    {
     "data": {
      "text/plain": [
       "LinearRegressionModel(\n",
       "  (linear): Linear(in_features=1, out_features=1, bias=True)\n",
       ")"
      ]
     },
     "execution_count": 155,
     "metadata": {},
     "output_type": "execute_result"
    }
   ],
   "execution_count": 155
  },
  {
   "metadata": {
    "ExecuteTime": {
     "end_time": "2024-06-08T06:38:09.778895Z",
     "start_time": "2024-06-08T06:38:09.776647Z"
    }
   },
   "cell_type": "code",
   "source": "",
   "id": "a803b779db5a9aa8",
   "outputs": [],
   "execution_count": 155
  },
  {
   "metadata": {},
   "cell_type": "markdown",
   "source": [
    "# 常见Tensor形式\n",
    "- 0:scalar\n",
    "- 1:vector\n",
    "- 2:matrix\n",
    "- 3:n-dimensional tensor"
   ],
   "id": "b11e927466d626f6"
  },
  {
   "metadata": {
    "ExecuteTime": {
     "end_time": "2024-06-08T06:40:04.027591Z",
     "start_time": "2024-06-08T06:40:04.025013Z"
    }
   },
   "cell_type": "code",
   "source": [
    "import torch\n",
    "from torch import tensor"
   ],
   "id": "5ef861139d76a792",
   "outputs": [],
   "execution_count": 156
  },
  {
   "metadata": {},
   "cell_type": "markdown",
   "source": [
    "## 0:scalar\n",
    "- 通常是一个数值"
   ],
   "id": "b62ee37bf75b71a6"
  },
  {
   "metadata": {
    "ExecuteTime": {
     "end_time": "2024-06-08T06:41:07.963627Z",
     "start_time": "2024-06-08T06:41:07.959191Z"
    }
   },
   "cell_type": "code",
   "source": [
    "x = tensor(42.)\n",
    "x"
   ],
   "id": "936c57589c67a2c4",
   "outputs": [
    {
     "data": {
      "text/plain": [
       "tensor(42.)"
      ]
     },
     "execution_count": 158,
     "metadata": {},
     "output_type": "execute_result"
    }
   ],
   "execution_count": 158
  },
  {
   "metadata": {
    "ExecuteTime": {
     "end_time": "2024-06-08T06:41:16.071285Z",
     "start_time": "2024-06-08T06:41:16.067381Z"
    }
   },
   "cell_type": "code",
   "source": "x.dim()",
   "id": "b4ee993d55f720ad",
   "outputs": [
    {
     "data": {
      "text/plain": [
       "0"
      ]
     },
     "execution_count": 159,
     "metadata": {},
     "output_type": "execute_result"
    }
   ],
   "execution_count": 159
  },
  {
   "metadata": {
    "ExecuteTime": {
     "end_time": "2024-06-08T06:41:22.606077Z",
     "start_time": "2024-06-08T06:41:22.601091Z"
    }
   },
   "cell_type": "code",
   "source": "2*x",
   "id": "9d738719366facb1",
   "outputs": [
    {
     "data": {
      "text/plain": [
       "tensor(84.)"
      ]
     },
     "execution_count": 160,
     "metadata": {},
     "output_type": "execute_result"
    }
   ],
   "execution_count": 160
  },
  {
   "metadata": {
    "ExecuteTime": {
     "end_time": "2024-06-08T06:41:24.990600Z",
     "start_time": "2024-06-08T06:41:24.987408Z"
    }
   },
   "cell_type": "code",
   "source": "x.item()",
   "id": "fd9c64772c9b87b9",
   "outputs": [
    {
     "data": {
      "text/plain": [
       "42.0"
      ]
     },
     "execution_count": 161,
     "metadata": {},
     "output_type": "execute_result"
    }
   ],
   "execution_count": 161
  },
  {
   "metadata": {},
   "cell_type": "markdown",
   "source": "## 1:vector",
   "id": "5f913a158491c9b0"
  },
  {
   "metadata": {
    "ExecuteTime": {
     "end_time": "2024-06-08T06:41:55.381481Z",
     "start_time": "2024-06-08T06:41:55.376600Z"
    }
   },
   "cell_type": "code",
   "source": [
    "v = tensor([1.5, -0.5, 3.0])\n",
    "v"
   ],
   "id": "4d8dca3fc03867a4",
   "outputs": [
    {
     "data": {
      "text/plain": [
       "tensor([ 1.5000, -0.5000,  3.0000])"
      ]
     },
     "execution_count": 162,
     "metadata": {},
     "output_type": "execute_result"
    }
   ],
   "execution_count": 162
  },
  {
   "metadata": {
    "ExecuteTime": {
     "end_time": "2024-06-08T06:42:00.064130Z",
     "start_time": "2024-06-08T06:42:00.061042Z"
    }
   },
   "cell_type": "code",
   "source": "v.dim()",
   "id": "7dfd2711cd437d6d",
   "outputs": [
    {
     "data": {
      "text/plain": [
       "1"
      ]
     },
     "execution_count": 163,
     "metadata": {},
     "output_type": "execute_result"
    }
   ],
   "execution_count": 163
  },
  {
   "metadata": {
    "ExecuteTime": {
     "end_time": "2024-06-08T06:42:02.890728Z",
     "start_time": "2024-06-08T06:42:02.887289Z"
    }
   },
   "cell_type": "code",
   "source": "v.size()",
   "id": "11f587a65ae6491d",
   "outputs": [
    {
     "data": {
      "text/plain": [
       "torch.Size([3])"
      ]
     },
     "execution_count": 164,
     "metadata": {},
     "output_type": "execute_result"
    }
   ],
   "execution_count": 164
  },
  {
   "metadata": {},
   "cell_type": "markdown",
   "source": [
    "## 2:matrix\n",
    "- 一般计算的都是矩阵"
   ],
   "id": "9e2f60d6fd19b8da"
  },
  {
   "metadata": {
    "ExecuteTime": {
     "end_time": "2024-06-08T06:42:34.662903Z",
     "start_time": "2024-06-08T06:42:34.658999Z"
    }
   },
   "cell_type": "code",
   "source": [
    "m = tensor([[1., 2.], [3., 4.]])\n",
    "m"
   ],
   "id": "62e4ecc1c86107a3",
   "outputs": [
    {
     "data": {
      "text/plain": [
       "tensor([[1., 2.],\n",
       "        [3., 4.]])"
      ]
     },
     "execution_count": 166,
     "metadata": {},
     "output_type": "execute_result"
    }
   ],
   "execution_count": 166
  },
  {
   "metadata": {
    "ExecuteTime": {
     "end_time": "2024-06-08T06:42:38.289917Z",
     "start_time": "2024-06-08T06:42:38.286013Z"
    }
   },
   "cell_type": "code",
   "source": "m.dim()",
   "id": "6f1a2e4af4e1089f",
   "outputs": [
    {
     "data": {
      "text/plain": [
       "2"
      ]
     },
     "execution_count": 167,
     "metadata": {},
     "output_type": "execute_result"
    }
   ],
   "execution_count": 167
  },
  {
   "metadata": {
    "ExecuteTime": {
     "end_time": "2024-06-08T06:42:39.869955Z",
     "start_time": "2024-06-08T06:42:39.867157Z"
    }
   },
   "cell_type": "code",
   "source": "m.size()",
   "id": "67c03c28f642cbf",
   "outputs": [
    {
     "data": {
      "text/plain": [
       "torch.Size([2, 2])"
      ]
     },
     "execution_count": 168,
     "metadata": {},
     "output_type": "execute_result"
    }
   ],
   "execution_count": 168
  },
  {
   "metadata": {
    "ExecuteTime": {
     "end_time": "2024-06-08T06:42:42.133584Z",
     "start_time": "2024-06-08T06:42:42.128704Z"
    }
   },
   "cell_type": "code",
   "source": "m[0, 1]",
   "id": "ace4fe23c92c812e",
   "outputs": [
    {
     "data": {
      "text/plain": [
       "tensor(2.)"
      ]
     },
     "execution_count": 169,
     "metadata": {},
     "output_type": "execute_result"
    }
   ],
   "execution_count": 169
  },
  {
   "metadata": {
    "ExecuteTime": {
     "end_time": "2024-06-08T06:42:46.737069Z",
     "start_time": "2024-06-08T06:42:46.732189Z"
    }
   },
   "cell_type": "code",
   "source": "m[:, 0]",
   "id": "b615380d339fe404",
   "outputs": [
    {
     "data": {
      "text/plain": [
       "tensor([1., 3.])"
      ]
     },
     "execution_count": 170,
     "metadata": {},
     "output_type": "execute_result"
    }
   ],
   "execution_count": 170
  },
  {
   "metadata": {
    "ExecuteTime": {
     "end_time": "2024-06-08T06:42:49.404285Z",
     "start_time": "2024-06-08T06:42:49.400833Z"
    }
   },
   "cell_type": "code",
   "source": "m + tensor([10, 20])",
   "id": "7b7d883c36aba597",
   "outputs": [
    {
     "data": {
      "text/plain": [
       "tensor([[11., 22.],\n",
       "        [13., 24.]])"
      ]
     },
     "execution_count": 171,
     "metadata": {},
     "output_type": "execute_result"
    }
   ],
   "execution_count": 171
  },
  {
   "metadata": {
    "ExecuteTime": {
     "end_time": "2024-06-08T06:44:01.605269Z",
     "start_time": "2024-06-08T06:44:01.594146Z"
    }
   },
   "cell_type": "code",
   "source": "m.matmul(m)",
   "id": "dd01634b66fb3867",
   "outputs": [
    {
     "data": {
      "text/plain": [
       "tensor([[ 7., 10.],\n",
       "        [15., 22.]])"
      ]
     },
     "execution_count": 172,
     "metadata": {},
     "output_type": "execute_result"
    }
   ],
   "execution_count": 172
  },
  {
   "metadata": {},
   "cell_type": "markdown",
   "source": "## 3:n-dimensional tensor",
   "id": "c27612a381fadeb1"
  },
  {
   "metadata": {},
   "cell_type": "markdown",
   "source": "# Hub",
   "id": "7d5c361ba3f3b808"
  },
  {
   "metadata": {
    "ExecuteTime": {
     "end_time": "2024-06-08T06:50:21.375377Z",
     "start_time": "2024-06-08T06:50:09.283989Z"
    }
   },
   "cell_type": "code",
   "source": [
    "import torch\n",
    "model = torch.hub.load('pytorch/vision:v0.6.0', 'resnet18', pretrained=True)\n",
    "model.eval()"
   ],
   "id": "3cb473274c7bdb8a",
   "outputs": [
    {
     "name": "stderr",
     "output_type": "stream",
     "text": [
      "Downloading: \"https://github.com/pytorch/vision/zipball/v0.6.0\" to C:\\Users\\Alexliang/.cache\\torch\\hub\\v0.6.0.zip\n",
      "Downloading: \"https://download.pytorch.org/models/resnet18-5c106cde.pth\" to C:\\Users\\Alexliang/.cache\\torch\\hub\\checkpoints\\resnet18-5c106cde.pth\n",
      "100.0%\n"
     ]
    },
    {
     "data": {
      "text/plain": [
       "ResNet(\n",
       "  (conv1): Conv2d(3, 64, kernel_size=(7, 7), stride=(2, 2), padding=(3, 3), bias=False)\n",
       "  (bn1): BatchNorm2d(64, eps=1e-05, momentum=0.1, affine=True, track_running_stats=True)\n",
       "  (relu): ReLU(inplace=True)\n",
       "  (maxpool): MaxPool2d(kernel_size=3, stride=2, padding=1, dilation=1, ceil_mode=False)\n",
       "  (layer1): Sequential(\n",
       "    (0): BasicBlock(\n",
       "      (conv1): Conv2d(64, 64, kernel_size=(3, 3), stride=(1, 1), padding=(1, 1), bias=False)\n",
       "      (bn1): BatchNorm2d(64, eps=1e-05, momentum=0.1, affine=True, track_running_stats=True)\n",
       "      (relu): ReLU(inplace=True)\n",
       "      (conv2): Conv2d(64, 64, kernel_size=(3, 3), stride=(1, 1), padding=(1, 1), bias=False)\n",
       "      (bn2): BatchNorm2d(64, eps=1e-05, momentum=0.1, affine=True, track_running_stats=True)\n",
       "    )\n",
       "    (1): BasicBlock(\n",
       "      (conv1): Conv2d(64, 64, kernel_size=(3, 3), stride=(1, 1), padding=(1, 1), bias=False)\n",
       "      (bn1): BatchNorm2d(64, eps=1e-05, momentum=0.1, affine=True, track_running_stats=True)\n",
       "      (relu): ReLU(inplace=True)\n",
       "      (conv2): Conv2d(64, 64, kernel_size=(3, 3), stride=(1, 1), padding=(1, 1), bias=False)\n",
       "      (bn2): BatchNorm2d(64, eps=1e-05, momentum=0.1, affine=True, track_running_stats=True)\n",
       "    )\n",
       "  )\n",
       "  (layer2): Sequential(\n",
       "    (0): BasicBlock(\n",
       "      (conv1): Conv2d(64, 128, kernel_size=(3, 3), stride=(2, 2), padding=(1, 1), bias=False)\n",
       "      (bn1): BatchNorm2d(128, eps=1e-05, momentum=0.1, affine=True, track_running_stats=True)\n",
       "      (relu): ReLU(inplace=True)\n",
       "      (conv2): Conv2d(128, 128, kernel_size=(3, 3), stride=(1, 1), padding=(1, 1), bias=False)\n",
       "      (bn2): BatchNorm2d(128, eps=1e-05, momentum=0.1, affine=True, track_running_stats=True)\n",
       "      (downsample): Sequential(\n",
       "        (0): Conv2d(64, 128, kernel_size=(1, 1), stride=(2, 2), bias=False)\n",
       "        (1): BatchNorm2d(128, eps=1e-05, momentum=0.1, affine=True, track_running_stats=True)\n",
       "      )\n",
       "    )\n",
       "    (1): BasicBlock(\n",
       "      (conv1): Conv2d(128, 128, kernel_size=(3, 3), stride=(1, 1), padding=(1, 1), bias=False)\n",
       "      (bn1): BatchNorm2d(128, eps=1e-05, momentum=0.1, affine=True, track_running_stats=True)\n",
       "      (relu): ReLU(inplace=True)\n",
       "      (conv2): Conv2d(128, 128, kernel_size=(3, 3), stride=(1, 1), padding=(1, 1), bias=False)\n",
       "      (bn2): BatchNorm2d(128, eps=1e-05, momentum=0.1, affine=True, track_running_stats=True)\n",
       "    )\n",
       "  )\n",
       "  (layer3): Sequential(\n",
       "    (0): BasicBlock(\n",
       "      (conv1): Conv2d(128, 256, kernel_size=(3, 3), stride=(2, 2), padding=(1, 1), bias=False)\n",
       "      (bn1): BatchNorm2d(256, eps=1e-05, momentum=0.1, affine=True, track_running_stats=True)\n",
       "      (relu): ReLU(inplace=True)\n",
       "      (conv2): Conv2d(256, 256, kernel_size=(3, 3), stride=(1, 1), padding=(1, 1), bias=False)\n",
       "      (bn2): BatchNorm2d(256, eps=1e-05, momentum=0.1, affine=True, track_running_stats=True)\n",
       "      (downsample): Sequential(\n",
       "        (0): Conv2d(128, 256, kernel_size=(1, 1), stride=(2, 2), bias=False)\n",
       "        (1): BatchNorm2d(256, eps=1e-05, momentum=0.1, affine=True, track_running_stats=True)\n",
       "      )\n",
       "    )\n",
       "    (1): BasicBlock(\n",
       "      (conv1): Conv2d(256, 256, kernel_size=(3, 3), stride=(1, 1), padding=(1, 1), bias=False)\n",
       "      (bn1): BatchNorm2d(256, eps=1e-05, momentum=0.1, affine=True, track_running_stats=True)\n",
       "      (relu): ReLU(inplace=True)\n",
       "      (conv2): Conv2d(256, 256, kernel_size=(3, 3), stride=(1, 1), padding=(1, 1), bias=False)\n",
       "      (bn2): BatchNorm2d(256, eps=1e-05, momentum=0.1, affine=True, track_running_stats=True)\n",
       "    )\n",
       "  )\n",
       "  (layer4): Sequential(\n",
       "    (0): BasicBlock(\n",
       "      (conv1): Conv2d(256, 512, kernel_size=(3, 3), stride=(2, 2), padding=(1, 1), bias=False)\n",
       "      (bn1): BatchNorm2d(512, eps=1e-05, momentum=0.1, affine=True, track_running_stats=True)\n",
       "      (relu): ReLU(inplace=True)\n",
       "      (conv2): Conv2d(512, 512, kernel_size=(3, 3), stride=(1, 1), padding=(1, 1), bias=False)\n",
       "      (bn2): BatchNorm2d(512, eps=1e-05, momentum=0.1, affine=True, track_running_stats=True)\n",
       "      (downsample): Sequential(\n",
       "        (0): Conv2d(256, 512, kernel_size=(1, 1), stride=(2, 2), bias=False)\n",
       "        (1): BatchNorm2d(512, eps=1e-05, momentum=0.1, affine=True, track_running_stats=True)\n",
       "      )\n",
       "    )\n",
       "    (1): BasicBlock(\n",
       "      (conv1): Conv2d(512, 512, kernel_size=(3, 3), stride=(1, 1), padding=(1, 1), bias=False)\n",
       "      (bn1): BatchNorm2d(512, eps=1e-05, momentum=0.1, affine=True, track_running_stats=True)\n",
       "      (relu): ReLU(inplace=True)\n",
       "      (conv2): Conv2d(512, 512, kernel_size=(3, 3), stride=(1, 1), padding=(1, 1), bias=False)\n",
       "      (bn2): BatchNorm2d(512, eps=1e-05, momentum=0.1, affine=True, track_running_stats=True)\n",
       "    )\n",
       "  )\n",
       "  (avgpool): AdaptiveAvgPool2d(output_size=(1, 1))\n",
       "  (fc): Linear(in_features=512, out_features=1000, bias=True)\n",
       ")"
      ]
     },
     "execution_count": 173,
     "metadata": {},
     "output_type": "execute_result"
    }
   ],
   "execution_count": 173
  },
  {
   "metadata": {},
   "cell_type": "code",
   "outputs": [],
   "execution_count": null,
   "source": "",
   "id": "4ee960bcd1f4428e"
  }
 ],
 "metadata": {
  "kernelspec": {
   "display_name": "Python 3",
   "language": "python",
   "name": "python3"
  },
  "language_info": {
   "codemirror_mode": {
    "name": "ipython",
    "version": 2
   },
   "file_extension": ".py",
   "mimetype": "text/x-python",
   "name": "python",
   "nbconvert_exporter": "python",
   "pygments_lexer": "ipython2",
   "version": "2.7.6"
  }
 },
 "nbformat": 4,
 "nbformat_minor": 5
}

{
 "cells": [
  {
   "metadata": {},
   "cell_type": "markdown",
   "source": [
    "### 线性回归\n",
    "(直接公式求解)\n",
    "#巧合"
   ],
   "id": "b2d1c26197ed2740"
  },
  {
   "metadata": {
    "ExecuteTime": {
     "end_time": "2024-06-01T10:27:38.536405Z",
     "start_time": "2024-06-01T10:27:37.896887Z"
    }
   },
   "cell_type": "code",
   "source": [
    "import numpy as np\n",
    "%matplotlib inline\n",
    "import matplotlib\n",
    "import matplotlib.pyplot as plt\n",
    "plt.rcParams['axes.labelsize'] = 14\n",
    "plt.rcParams['xtick.labelsize'] = 12\n",
    "plt.rcParams['ytick.labelsize'] = 12\n",
    "import warnings\n",
    "warnings.filterwarnings('ignore')"
   ],
   "id": "4096e56aeec2c2ac",
   "execution_count": 3,
   "outputs": []
  },
  {
   "metadata": {
    "ExecuteTime": {
     "end_time": "2024-06-01T10:27:38.541276Z",
     "start_time": "2024-06-01T10:27:38.537371Z"
    }
   },
   "cell_type": "code",
   "source": [
    "# 生成数据\n",
    "X = 2 * np.random.rand(100, 1)\n",
    "y = 4 + 3 * X + np.random.randn(100, 1)\n"
   ],
   "id": "de2131625af25f9c",
   "execution_count": 4,
   "outputs": []
  },
  {
   "metadata": {
    "ExecuteTime": {
     "end_time": "2024-06-01T10:27:38.787068Z",
     "start_time": "2024-06-01T10:27:38.542251Z"
    }
   },
   "cell_type": "code",
   "source": [
    "# 绘制数据\n",
    "plt.plot(X, y, 'b.')\n",
    "plt.xlabel('$x_1$', fontsize=18)\n",
    "plt.ylabel('$y$', rotation=0, fontsize=18)\n",
    "plt.axis((0,2,0,15))\n",
    "plt.show()"
   ],
   "id": "a92f8817073c271f",
   "execution_count": 5,
   "outputs": []
  },
  {
   "metadata": {
    "ExecuteTime": {
     "end_time": "2024-06-01T10:27:38.791943Z",
     "start_time": "2024-06-01T10:27:38.788039Z"
    }
   },
   "cell_type": "code",
   "source": [
    "# 计算theta\n",
    "\"\"\"\n",
    "公式:\n",
    "y = X * theta + epsilon\n",
    "y = x0 * theta0 + x1 * theta1 + ... + xn * thetan\n",
    "MSE = 1/m * sum((X * theta - y)^2)\n",
    "\n",
    "\n",
    "theta = (X^T * X)^-1 * X^T * y\n",
    "\n",
    "\"\"\"\n",
    "\"\"\"偏置项\"\"\"\n",
    "X_b = np.c_[np.ones((100, 1)), X]\n",
    "theta_best = np.linalg.inv(X_b.T.dot(X_b)).dot(X_b.T).dot(y)#linalg.inv()求逆"
   ],
   "id": "251cf1c30953769",
   "execution_count": 6,
   "outputs": []
  },
  {
   "metadata": {
    "ExecuteTime": {
     "end_time": "2024-06-01T10:27:38.797269Z",
     "start_time": "2024-06-01T10:27:38.792919Z"
    }
   },
   "cell_type": "code",
   "source": "theta_best#偏置项和权重",
   "id": "e981fe22fd7e77e9",
   "execution_count": 7,
   "outputs": []
  },
  {
   "metadata": {
    "ExecuteTime": {
     "end_time": "2024-06-01T10:27:38.803228Z",
     "start_time": "2024-06-01T10:27:38.798221Z"
    }
   },
   "cell_type": "code",
   "source": [
    "# 预测\n",
    "X_new = np.array([[0], [2]])\n",
    "X_new_b = np.c_[np.ones((2, 1)), X_new]\n",
    "y_predict = X_new_b.dot(theta_best)\n",
    "y_predict"
   ],
   "id": "e1e8d61972ede4a1",
   "execution_count": 8,
   "outputs": []
  },
  {
   "metadata": {
    "ExecuteTime": {
     "end_time": "2024-06-01T10:27:38.890979Z",
     "start_time": "2024-06-01T10:27:38.803228Z"
    }
   },
   "cell_type": "code",
   "source": [
    "# 绘制预测\n",
    "plt.plot(X_new, y_predict, 'r--')\n",
    "plt.plot(X, y, 'b.')\n",
    "plt.axis((0,2,0,15))\n",
    "plt.show()"
   ],
   "id": "c97907443309af1a",
   "execution_count": 9,
   "outputs": []
  },
  {
   "metadata": {},
   "cell_type": "markdown",
   "source": "线性回归(使用sklearn)",
   "id": "c985af73067b976b"
  },
  {
   "metadata": {
    "ExecuteTime": {
     "end_time": "2024-06-01T10:27:38.903701Z",
     "start_time": "2024-06-01T10:27:38.890979Z"
    }
   },
   "cell_type": "code",
   "source": [
    "# 线性回归\n",
    "from sklearn.linear_model import LinearRegression\n",
    "lin_reg = LinearRegression()#实例化\n",
    "lin_reg.fit(X, y)#训练\n",
    "lin_reg.intercept_, lin_reg.coef_#截距和权重"
   ],
   "id": "1f1cb112baac9ef8",
   "execution_count": 10,
   "outputs": []
  },
  {
   "metadata": {},
   "cell_type": "markdown",
   "source": [
    "### 梯度下降\n",
    "核心解决方案, 不只是线性回归, 还可以解决其他问题如: 逻辑回归, 神经网络等"
   ],
   "id": "43b469395e319618"
  },
  {
   "metadata": {
    "ExecuteTime": {
     "end_time": "2024-06-01T10:27:38.911929Z",
     "start_time": "2024-06-01T10:27:38.908576Z"
    }
   },
   "cell_type": "code",
   "source": [
    "\"\"\"\n",
    "公式：\n",
    "msg = 1/m * sum((X * theta - y) * X)\n",
    "矩阵形式：\n",
    "msg = 2/m * X^T * (X * theta - y)\n",
    "\"\"\""
   ],
   "id": "a9f27b9ee4f6698e",
   "execution_count": 11,
   "outputs": []
  },
  {
   "metadata": {
    "ExecuteTime": {
     "end_time": "2024-06-01T10:27:38.921323Z",
     "start_time": "2024-06-01T10:27:38.911929Z"
    }
   },
   "cell_type": "code",
   "source": [
    "# 梯度下降\n",
    "eta = 0.1#学习率\n",
    "n_iterations = 1000#迭代次数\n",
    "m = 100#样本数\n",
    "theta = np.random.randn(2, 1)#随机初始化权重\n",
    "for iteration in range(n_iterations):\n",
    "    gradients = 2/m * X_b.T.dot(X_b.dot(theta) - y)\n",
    "    theta = theta - eta * gradients\n",
    "theta"
   ],
   "id": "9ccb867bd27d251d",
   "execution_count": 12,
   "outputs": []
  },
  {
   "metadata": {
    "ExecuteTime": {
     "end_time": "2024-06-01T10:27:38.926200Z",
     "start_time": "2024-06-01T10:27:38.921323Z"
    }
   },
   "cell_type": "code",
   "source": [
    "# 预测\n",
    "X_new_b.dot(theta)"
   ],
   "id": "fabd991a6c208bbc",
   "execution_count": 13,
   "outputs": []
  },
  {
   "metadata": {
    "ExecuteTime": {
     "end_time": "2024-06-01T10:27:38.931127Z",
     "start_time": "2024-06-01T10:27:38.926200Z"
    }
   },
   "cell_type": "code",
   "source": [
    "# 不同学习率的影响\n",
    "theta_path_bgd = []\n",
    "def plot_gradient_descent(theta_, eta_, theta_path=None):\n",
    "    m_ = len(X_b)\n",
    "    plt.plot(X, y, 'b.')\n",
    "    n_iterations_ = 1000\n",
    "    for iteration_ in range(n_iterations_):\n",
    "        # 绘制预测\n",
    "        y_predict_ = X_new_b.dot(theta_)\n",
    "        plt.plot(X_new, y_predict_, 'r-')\n",
    "        # 计算梯度\n",
    "        gradients_ = 2/m_ * X_b.T.dot(X_b.dot(theta_) - y)\n",
    "        theta_ = theta_ - eta_ * gradients_\n",
    "        # 记录权重\n",
    "        if theta_path is not None:\n",
    "            theta_path.append(theta_)\n",
    "    # 绘制权重\n",
    "    plt.xlabel('$x_1$', fontsize=18)\n",
    "    plt.axis((0,2,0,15))\n",
    "    plt.title(r'$\\eta = {}$'.format(eta_), fontsize=16)"
   ],
   "id": "8619f459fb9e4be4",
   "execution_count": 14,
   "outputs": []
  },
  {
   "metadata": {
    "ExecuteTime": {
     "end_time": "2024-06-01T10:27:40.745857Z",
     "start_time": "2024-06-01T10:27:38.932092Z"
    }
   },
   "cell_type": "code",
   "source": [
    "# 三个学习率为0.02, 0.1, 0.5的图\n",
    "theta = np.random.randn(2, 1)\n",
    "plt.figure(figsize=(10, 4))\n",
    "plt.subplot(131); plot_gradient_descent(theta, eta_=0.02)\n",
    "plt.subplot(132); plot_gradient_descent(theta, eta_=0.1, theta_path=theta_path_bgd)\n",
    "plt.subplot(133); plot_gradient_descent(theta, eta_=0.5)\n",
    "plt.show()"
   ],
   "id": "2b8e0eeb94375e2f",
   "execution_count": 15,
   "outputs": []
  },
  {
   "metadata": {},
   "cell_type": "markdown",
   "source": "学习率应该尽可能小, 随着迭代次数增加, 学习率应该逐渐减小",
   "id": "c2e802f96183c2a"
  },
  {
   "metadata": {},
   "cell_type": "markdown",
   "source": "### 随机梯度下降",
   "id": "5cb8999704eaf28"
  },
  {
   "metadata": {
    "ExecuteTime": {
     "end_time": "2024-06-01T10:27:40.929525Z",
     "start_time": "2024-06-01T10:27:40.745857Z"
    }
   },
   "cell_type": "code",
   "source": [
    "# 随机梯度下降\n",
    "theta_path_sgd = []\n",
    "m = len(X_b)\n",
    "n_epochs = 50\n",
    "t0, t1 = 5, 50\n",
    "\n",
    "def learning_schedule(t):#学习率调整\n",
    "    return t0 / (t + t1)\n",
    "\n",
    "theta = np.random.randn(2, 1)\n",
    "for epochs in range(n_epochs):#迭代次数\n",
    "    for i in range(m):#样本数\n",
    "        if epochs == 0 and i < 20:#绘制前20个样本的预测\n",
    "            y_predict = X_new_b.dot(theta)\n",
    "            plt.plot(X_new, y_predict, 'r-')\n",
    "        random_index = np.random.randint(m)#随机选择一个样本\n",
    "        xi = X_b[random_index:random_index+1]\n",
    "        yi = y[random_index:random_index+1]\n",
    "        gradients = 2 * xi.T.dot(xi.dot(theta) - yi)#计算梯度\n",
    "        eta = learning_schedule(epochs * m + i)#学习率更新\n",
    "        theta = theta - eta * gradients#更新权重\n",
    "        theta_path_sgd.append(theta)\n",
    "plt.plot(X, y, 'b.')\n",
    "plt.xlabel('$x_1$', fontsize=18)\n",
    "plt.axis((0,2,0,15))\n",
    "plt.show()"
   ],
   "id": "53db789b5d3c3bc1",
   "execution_count": 16,
   "outputs": []
  },
  {
   "metadata": {},
   "cell_type": "markdown",
   "source": "### 小批量梯度下降",
   "id": "9729ec3abe161396"
  },
  {
   "metadata": {
    "ExecuteTime": {
     "end_time": "2024-06-01T10:27:40.941654Z",
     "start_time": "2024-06-01T10:27:40.930495Z"
    }
   },
   "cell_type": "code",
   "source": [
    "theta_path_mgd = []\n",
    "n_epochs = 50\n",
    "minibatch_size = 16\n",
    "theta = np.random.randn(2, 1)\n",
    "t = 0\n",
    "for epoch in range(n_epochs):#迭代次数\n",
    "    shuffled_indices = np.random.permutation(m)\n",
    "    X_b_shuffled = X_b[shuffled_indices]\n",
    "    y_shuffled = y[shuffled_indices]\n",
    "    for i in range(0,m,minibatch_size):#每次迭代取minibatch_size个样本\n",
    "        t+=1\n",
    "        xi=X_b_shuffled[i:i+minibatch_size]\n",
    "        yi=y_shuffled[i:i+minibatch_size]\n",
    "        gradients=2/minibatch_size*xi.T.dot(xi.dot(theta)-yi)\n",
    "        eta=learning_schedule(t)\n",
    "        theta=theta-eta*gradients\n",
    "        theta_path_mgd.append(theta)\n",
    "theta        "
   ],
   "id": "18409c11c41ee8cf",
   "execution_count": 17,
   "outputs": []
  },
  {
   "metadata": {},
   "cell_type": "markdown",
   "source": "### 对比三种实验",
   "id": "54267ef14cd3393b"
  },
  {
   "metadata": {
    "ExecuteTime": {
     "end_time": "2024-06-01T10:27:41.125767Z",
     "start_time": "2024-06-01T10:27:40.942614Z"
    }
   },
   "cell_type": "code",
   "source": [
    "theta_path_bgd = np.array(theta_path_bgd)\n",
    "theta_path_sgd = np.array(theta_path_sgd)\n",
    "theta_path_mgd = np.array(theta_path_mgd)\n",
    "plt.figure(figsize=(10,8))\n",
    "plt.plot(theta_path_sgd[:, 0], theta_path_sgd[:, 1], 'r-s', linewidth=1, label='Stochastic')\n",
    "plt.plot(theta_path_mgd[:, 0], theta_path_mgd[:, 1], 'g-+', linewidth=2, label='Mini-batch')\n",
    "plt.plot(theta_path_bgd[:, 0], theta_path_bgd[:, 1], 'b-o', linewidth=3, label='Batch')\n",
    "plt.legend(loc='upper right', fontsize=16)\n",
    "plt.xlabel(r'$\\theta_0$', fontsize=20)\n",
    "plt.ylabel(r'$\\theta_1$', fontsize=20)\n",
    "plt.axis((2.5, 4.5, 2.3, 3.9))\n",
    "plt.show()"
   ],
   "id": "7675f38d45f8f54e",
   "execution_count": 18,
   "outputs": []
  },
  {
   "metadata": {
    "ExecuteTime": {
     "end_time": "2024-06-01T10:27:41.130483Z",
     "start_time": "2024-06-01T10:27:41.126744Z"
    }
   },
   "cell_type": "code",
   "source": "theta_path_sgd",
   "id": "f211d2c606183944",
   "execution_count": 19,
   "outputs": []
  },
  {
   "metadata": {},
   "cell_type": "markdown",
   "source": "实际中,mini-batch梯度下降通常是最好的选择, batch数量越大越好, 但是计算量也越大,尽可能在机器允许的情况下选择最大的batch数量",
   "id": "fea0c40980167440"
  },
  {
   "metadata": {},
   "cell_type": "markdown",
   "source": "### 多项式回归",
   "id": "f36ef41e2efdbd6d"
  },
  {
   "metadata": {
    "ExecuteTime": {
     "end_time": "2024-06-01T10:27:41.134900Z",
     "start_time": "2024-06-01T10:27:41.130483Z"
    }
   },
   "cell_type": "code",
   "source": [
    "m = 100\n",
    "X = 6 * np.random.rand(m, 1) - 3\n",
    "y = 0.5 * X**2 + X + np.random.randn(m, 1)\n"
   ],
   "id": "9c7bc72f0613ebba",
   "execution_count": 20,
   "outputs": []
  },
  {
   "metadata": {
    "ExecuteTime": {
     "end_time": "2024-06-01T10:27:41.216521Z",
     "start_time": "2024-06-01T10:27:41.135866Z"
    }
   },
   "cell_type": "code",
   "source": [
    "plt.plot(X, y, 'b.')\n",
    "plt.xlabel('$x_1$', fontsize=18)\n",
    "plt.ylabel('$y$', rotation=0, fontsize=18)\n",
    "plt.axis((-3,3,-5,10))\n",
    "plt.show()"
   ],
   "id": "c76d9a9de74399c1",
   "execution_count": 21,
   "outputs": []
  },
  {
   "metadata": {
    "ExecuteTime": {
     "end_time": "2024-06-01T10:27:41.223111Z",
     "start_time": "2024-06-01T10:27:41.217495Z"
    }
   },
   "cell_type": "code",
   "source": [
    "from sklearn.preprocessing import PolynomialFeatures #多项式特征\n",
    "poly2_features = PolynomialFeatures(degree=2, include_bias=False)# degree=2表示二次多项式\n",
    "X_poly2 = poly2_features.fit_transform(X)#生成二次多项式特征,fit 并 transform\n",
    "X[0]"
   ],
   "id": "a66c3f49c7012cbc",
   "execution_count": 22,
   "outputs": []
  },
  {
   "metadata": {
    "ExecuteTime": {
     "end_time": "2024-06-01T10:27:41.227231Z",
     "start_time": "2024-06-01T10:27:41.224081Z"
    }
   },
   "cell_type": "code",
   "source": "X_poly2[0]",
   "id": "bca39ec8de86160e",
   "execution_count": 23,
   "outputs": []
  },
  {
   "metadata": {
    "ExecuteTime": {
     "end_time": "2024-06-01T10:27:41.231089Z",
     "start_time": "2024-06-01T10:27:41.228204Z"
    }
   },
   "cell_type": "code",
   "source": "(-1.59261038)**2",
   "id": "895b569926cb5149",
   "execution_count": 24,
   "outputs": []
  },
  {
   "metadata": {
    "ExecuteTime": {
     "end_time": "2024-06-01T10:27:41.239734Z",
     "start_time": "2024-06-01T10:27:41.232058Z"
    }
   },
   "cell_type": "code",
   "source": [
    "from sklearn.linear_model import LinearRegression\n",
    "lin_reg = LinearRegression()#实例化\n",
    "lin_reg.fit(X_poly2, y)#训练\n",
    "lin_reg.intercept_, lin_reg.coef_#截距和权重"
   ],
   "id": "e37a91e9c6d30f2a",
   "execution_count": 25,
   "outputs": []
  },
  {
   "metadata": {
    "ExecuteTime": {
     "end_time": "2024-06-01T10:27:41.323640Z",
     "start_time": "2024-06-01T10:27:41.239734Z"
    }
   },
   "cell_type": "code",
   "source": [
    "X_new = np.linspace(-3, 3, 100).reshape(100, 1)\n",
    "X_new_poly2 = poly2_features.transform(X_new)#生成二次多项式特征 只transform\n",
    "y_new = lin_reg.predict(X_new_poly2)\n",
    "plt.plot(X, y, 'b.')\n",
    "plt.plot(X_new, y_new, 'r--', linewidth=2)\n",
    "plt.xlabel('$x_1$', fontsize=18)\n",
    "plt.ylabel('$y$', rotation=0, fontsize=18)\n",
    "plt.axis((-3,3,-5,10))\n",
    "plt.show()"
   ],
   "id": "95bac9e86f64165d",
   "execution_count": 26,
   "outputs": []
  },
  {
   "metadata": {},
   "cell_type": "markdown",
   "source": "### 不同degree的多项式回归",
   "id": "a0889937773ad2c9"
  },
  {
   "metadata": {
    "ExecuteTime": {
     "end_time": "2024-06-01T10:27:41.781826Z",
     "start_time": "2024-06-01T10:27:41.324609Z"
    }
   },
   "cell_type": "code",
   "source": [
    "from sklearn.pipeline import Pipeline#流水线\n",
    "from sklearn.preprocessing import StandardScaler#标准化\n",
    "plt.figure(figsize=(12,10))#画布大小\n",
    "for style, width, degree in (('g-', 1, 300), ('b--', 2, 2), ('r-+', 2, 1)):#不同degree的多项式回归\n",
    "    poly2_features = PolynomialFeatures(degree=degree, include_bias=False)# degree=degree表示degree次多项式\n",
    "    std_scaler = StandardScaler()#标准化\n",
    "    lin_reg = LinearRegression()#实例化\n",
    "    polynomial_regression = Pipeline([('poly2_features', poly2_features),#流水线\n",
    "                                      ('std_scaler', std_scaler),\n",
    "                                      ('lin_reg', lin_reg)])\n",
    "    polynomial_regression.fit(X, y)#训练\n",
    "    y_new_2 = polynomial_regression.predict(X_new)#预测\n",
    "    plt.plot(X_new, y_new_2, style, label=str(degree), linewidth=width)\n",
    "plt.plot(X, y, 'b.')\n",
    "plt.legend(loc='upper center')\n",
    "plt.xlabel('$x_1$', fontsize=18)\n",
    "plt.ylabel('$y$', rotation=0, fontsize=18)\n",
    "plt.axis((-3,3,-5,10))\n",
    "plt.show()"
   ],
   "id": "be00f630c83e85a2",
   "execution_count": 27,
   "outputs": []
  },
  {
   "metadata": {},
   "cell_type": "markdown",
   "source": "特征数量过多会导致模型过拟合, 降低degree可以减少过拟合, 模型越复杂,越容易过拟合,不建议使用高次多项式.",
   "id": "2a9f6092e0227d21"
  },
  {
   "metadata": {},
   "cell_type": "markdown",
   "source": "### 数据样本数量对模型的影响",
   "id": "568c2e7e9ab3e77f"
  },
  {
   "metadata": {
    "ExecuteTime": {
     "end_time": "2024-06-01T10:27:41.787252Z",
     "start_time": "2024-06-01T10:27:41.782799Z"
    }
   },
   "cell_type": "code",
   "source": [
    "from sklearn.metrics import mean_squared_error#均方误差:1/m * sum((X * theta - y)^2)\n",
    "from sklearn.model_selection import train_test_split#划分训练集和测试集\n",
    "\n",
    "def plot_learning_curves(model, X, y):#绘制学习曲线:训练集和验证集的均方误差\n",
    "    X_train, X_val, y_train, y_val = train_test_split(X, y, test_size=0.2, random_state=0)#划分训练集和验证集\n",
    "    train_errors, val_errors = [], []#训练集和验证集的均方误差\n",
    "    for m in range(1, len(X_train)):#训练集的样本数\n",
    "        model.fit(X_train[:m], y_train[:m])\n",
    "        y_train_predict = model.predict(X_train[:m])\n",
    "        y_val_predict = model.predict(X_val)\n",
    "        train_errors.append(mean_squared_error(y_train[:m], y_train_predict))\n",
    "        val_errors.append(mean_squared_error(y_val, y_val_predict))\n",
    "    plt.plot(np.sqrt(train_errors), 'r-+', linewidth=2, label='train')\n",
    "    plt.plot(np.sqrt(val_errors), 'b-', linewidth=3, label='val')\n",
    "    plt.legend(loc='upper right', fontsize=16)\n",
    "    plt.xlabel('Training set size', fontsize=16)\n",
    "    plt.ylabel('RMSE', fontsize=16)\n",
    "    "
   ],
   "id": "9051b5df1eb8e558",
   "execution_count": 28,
   "outputs": []
  },
  {
   "metadata": {
    "ExecuteTime": {
     "end_time": "2024-06-01T10:27:41.979646Z",
     "start_time": "2024-06-01T10:27:41.789174Z"
    }
   },
   "cell_type": "code",
   "source": [
    "lin_reg = LinearRegression()\n",
    "plt.figure(figsize=(12, 6))\n",
    "plot_learning_curves(lin_reg, X, y)\n",
    "plt.axis((0, 80, 0, 3))\n",
    "plt.show()\n"
   ],
   "id": "28380615657a07c0",
   "execution_count": 29,
   "outputs": []
  },
  {
   "metadata": {},
   "cell_type": "markdown",
   "source": "数据量越少, 训练集的效果越好, 验证集的效果越差, 数据量越多, 训练集和验证集的效果越接近, 但是训练集的效果会略差于验证集.",
   "id": "8d367daa47037c15"
  },
  {
   "metadata": {},
   "cell_type": "markdown",
   "source": "### 多项式回归过拟合风险",
   "id": "1044691856f8c8df"
  },
  {
   "metadata": {
    "ExecuteTime": {
     "end_time": "2024-06-01T10:27:42.222092Z",
     "start_time": "2024-06-01T10:27:41.979646Z"
    }
   },
   "cell_type": "code",
   "source": [
    "polynomial_regression = Pipeline([('poly2_features', PolynomialFeatures(degree=10, include_bias=False)),\n",
    "                                    ('lin_reg', LinearRegression())])\n",
    "plt.figure(figsize=(12, 6))\n",
    "plot_learning_curves(polynomial_regression, X, y)\n",
    "plt.axis((0, 80, 0, 5))\n",
    "plt.show()"
   ],
   "id": "1584d66d131e8052",
   "execution_count": 30,
   "outputs": []
  },
  {
   "metadata": {},
   "cell_type": "markdown",
   "source": "越复杂的模型越容易过拟合, 训练集的效果会远远好于验证集, 但是验证集的效果会远远差于训练集.",
   "id": "fd45496d9ed4d178"
  },
  {
   "metadata": {},
   "cell_type": "markdown",
   "source": [
    "### 正则化\n",
    "对权重进行约束 惩罚过大的权重,让权重尽可能平滑, 降低过拟合风险."
   ],
   "id": "b5153349c0ac8165"
  },
  {
   "metadata": {},
   "cell_type": "markdown",
   "source": [
    "### 常见正则化公式：   \n",
    "- Lasso(绝对值): $J(\\theta) = MSE(\\theta) + \\alpha * \\sum(|theta|)$#L1正则化\n",
    "- Ridge(岭回归): $J(\\theta) = MSE(\\theta) + \\alpha * 1/2 * sum(\\theta^2)$#L2正则化\n",
    "- Elastic Net: $J(\\theta) = MSE(\\theta) + r * \\alpha * \\sum(|theta|) + 1-r/2 * \\alpha * \\sum(\\theta^2)$#L1和L2的混合\n",
    "- r=0时,相当于L2正则化, r=1时,相当于L1正则化     \n",
    "     \n",
    "这里使用Ridge公式：\n",
    "$J(\\theta) = MSE(\\theta) + \\alpha * 1/2 * sum(\\theta^2)$      \n",
    "       \n",
    "整体J结果越低越好，越稳定越好。       \n"
   ],
   "id": "3d3abe51cff0e56b"
  },
  {
   "metadata": {
    "ExecuteTime": {
     "end_time": "2024-06-01T10:28:33.453879Z",
     "start_time": "2024-06-01T10:28:33.450360Z"
    }
   },
   "cell_type": "code",
   "source": [
    "from sklearn.linear_model import Ridge#岭回归\n",
    "np.random.seed(42)\n",
    "m = 20\n",
    "X = 3 * np.random.rand(m, 1)#生成数据\n",
    "y = 1 + 0.5 * X + np.random.randn(m, 1) / 1.5#生成数据\n",
    "X_new = np.linspace(0, 3, 100).reshape(100, 1)#生成预测数据"
   ],
   "id": "305ec7d3b23e5642",
   "execution_count": 36,
   "outputs": []
  },
  {
   "metadata": {
    "ExecuteTime": {
     "end_time": "2024-06-01T10:28:33.840105Z",
     "start_time": "2024-06-01T10:28:33.835223Z"
    }
   },
   "cell_type": "code",
   "source": "X_new",
   "id": "e0d46222d0ebd8df",
   "execution_count": 37,
   "outputs": []
  },
  {
   "metadata": {
    "ExecuteTime": {
     "end_time": "2024-06-01T10:47:31.601964Z",
     "start_time": "2024-06-01T10:47:31.597542Z"
    }
   },
   "cell_type": "code",
   "source": [
    "def plot_model(model_class, polynomial, alphas, **model_kargs):\n",
    "    for alpha, style in zip(alphas, ('b-', 'g--', 'r:')):\n",
    "        model = model_class(alpha, **model_kargs) if alpha > 0 else LinearRegression()\n",
    "        if polynomial:\n",
    "            model = Pipeline([('poly_features', PolynomialFeatures(degree=10, include_bias=False)),\n",
    "                                ('std_scaler', StandardScaler()),\n",
    "                                ('regul_reg', model)])\n",
    "        model.fit(X, y)\n",
    "        y_new_regul = model.predict(X_new)\n",
    "        lw = 2 if alpha > 0 else 1\n",
    "        plt.plot(X_new, y_new_regul, style, linewidth=lw, label=r'$\\alpha = {}$'.format(alpha))\n",
    "    plt.plot(X, y, 'b.')\n",
    "    plt.legend(loc='upper left', fontsize=16)\n",
    "    plt.xlabel('$x_1$', fontsize=18)\n",
    "    plt.axis((0, 3, 0, 4))"
   ],
   "id": "a8ffa241532fd9ca",
   "execution_count": 39,
   "outputs": []
  },
  {
   "metadata": {
    "ExecuteTime": {
     "end_time": "2024-06-01T10:47:51.787071Z",
     "start_time": "2024-06-01T10:47:51.570034Z"
    }
   },
   "cell_type": "code",
   "source": [
    "plt.figure(figsize=(15, 6))\n",
    "plt.subplot(121)\n",
    "plot_model(Ridge, polynomial=False, alphas=(0, 10, 100))\n",
    "plt.subplot(122)\n",
    "plot_model(Ridge, polynomial=True, alphas=(0, 10**-5, 1))\n",
    "plt.show()"
   ],
   "id": "bb3ccf26f5c86f2c",
   "execution_count": 41,
   "outputs": []
  },
  {
   "metadata": {},
   "cell_type": "markdown",
   "source": "惩罚力度越大(alpha越大), 权重越小, 模型越平滑, 降低过拟合风险.",
   "id": "84161635d7aee999"
  },
  {
   "metadata": {},
   "cell_type": "markdown",
   "source": "Lasso",
   "id": "8860280eb27c216e"
  },
  {
   "metadata": {
    "ExecuteTime": {
     "end_time": "2024-06-01T10:56:55.053128Z",
     "start_time": "2024-06-01T10:56:54.706546Z"
    }
   },
   "cell_type": "code",
   "source": [
    "from sklearn.linear_model import Lasso#Lasso\n",
    "plt.figure(figsize=(15, 6))\n",
    "plt.subplot(121)\n",
    "plot_model(Lasso, polynomial=False, alphas=(0, 0.1, 1))\n",
    "plt.subplot(122)\n",
    "plot_model(Lasso, polynomial=True, alphas=(0, 10**-7, 1))"
   ],
   "id": "f9a579fa22bdf231",
   "execution_count": 42,
   "outputs": []
  },
  {
   "metadata": {},
   "cell_type": "markdown",
   "source": "#### 多做对比实验!!!",
   "id": "617a729c6e024203"
  },
  {
   "metadata": {},
   "cell_type": "code",
   "execution_count": null,
   "source": "",
   "id": "1a286b24b72d3946",
   "outputs": []
  }
 ],
 "metadata": {
  "kernelspec": {
   "display_name": "Python 3",
   "language": "python",
   "name": "python3"
  },
  "language_info": {
   "codemirror_mode": {
    "name": "ipython",
    "version": 2
   },
   "file_extension": ".py",
   "mimetype": "text/x-python",
   "name": "python",
   "nbconvert_exporter": "python",
   "pygments_lexer": "ipython2",
   "version": "2.7.6"
  }
 },
 "nbformat": 4,
 "nbformat_minor": 5
}

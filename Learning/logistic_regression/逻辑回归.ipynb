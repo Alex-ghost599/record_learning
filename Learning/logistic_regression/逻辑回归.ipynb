{
 "cells": [
  {
   "metadata": {},
   "cell_type": "markdown",
   "source": "#### 逻辑回归",
   "id": "3bebd549655a49a9"
  },
  {
   "metadata": {},
   "cell_type": "markdown",
   "source": [
    "#### 1. 逻辑回归的原理\n",
    "逻辑回归是一种分类算法，它的基本原理是通过一个线性函数和一个非线性函数的组合来进行分类。   \n",
    "逻辑回归的模型表达式如下：   \n",
    "线性函数：**$z = w_1x_1 + w_2x_2 + ... + w_nx_n + b$**   \n",
    "非线性函数：$h = \\frac{1}{1 + e^{-z}}$   \n",
    "逻辑回归的目标是找到一组参数$w$和$b$，使得$h$尽可能的接近于真实的标签值$y$。   \n",
    "逻辑回归的损失函数是交叉熵损失函数，表达式如下：   \n",
    "$L(w, b) = -\\frac{1}{m}\\sum_{i=1}^{m}y^{(i)}\\log(h^{(i)}) + (1 - y^{(i)})\\log(1 - h^{(i)})$   \n",
    "逻辑回归的目标是找到一组参数$w$和$b$，使得$L(w, b)$尽可能的小。   \n",
    "       \n"
   ],
   "id": "b9a721d25fcad47f"
  },
  {
   "metadata": {},
   "cell_type": "markdown",
   "source": [
    "### 2.经典二分类算法     \n",
    "决策边界可以是直线、曲线、平面、超平面等等。(非线性)   \n",
    "逻辑回归是一个广义线性模型，它的假设函数是一个Sigmoid函数:   \n",
    "$h_\\theta(x) = g(z) = \\frac{1}{1 + e^{-z}$    \n",
    "其中，$z = \\theta^Tx = \\theta_0 + \\theta_1x_1 + \\theta_2x_2 + ... + \\theta_nx_n$    \n",
    "$h_\\theta(x)$的值代表了预测为1的概率，因此，$1 - h_\\theta(x)$代表了预测为0的概率。    \n",
    "逻辑回归的损失函数是交叉熵损失函数:     \n",
    "$J(\\theta) = -\\frac{1}{m}\\sum_{i=1}^{m}[y^{(i)}\\log(h_\\theta(x^{(i)})) + (1 - y^{(i)})\\log(1 - h_\\theta(x^{(i)}))]$     \n",
    "逻辑回归的目标是找到一组参数$\\theta$，使得$J(\\theta)$尽可能的小。  \n",
    "\n",
    "\n"
   ],
   "id": "c20c2f43539a18a"
  },
  {
   "metadata": {},
   "cell_type": "markdown",
   "source": [
    "预测函数：$h_\\theta(x) = \\frac{1}{1 + e^{-\\theta^Tx}}$    \n",
    "其中，   \n",
    "$\\theta = [\\theta_0, \\theta_1, \\theta_2, ..., \\theta_n] = \\sum_{i=0}^{n}\\theta_ix_i = \\theta^Tx = y$    \n",
    "\n",
    "分类任务:   \n",
    "二分类：$y \\in \\{0, 1\\}$    \n",
    "$P(y = 1|x;\\theta) = h_\\theta(x)$    \n",
    "$P(y = 0|x;\\theta) = 1 - h_\\theta(x)$   \n",
    "整合：$P(y|x;\\theta) = (h_\\theta(x))^y(1 - h_\\theta(x))^{1 - y}$   \n",
    "\n",
    "\n"
   ],
   "id": "a64f892c467d861f"
  },
  {
   "metadata": {},
   "cell_type": "markdown",
   "source": [
    "似然函数：   \n",
    "$L(\\theta) = \\prod_{i=1}^{m}P(y^{(i)}|x^{(i)};\\theta) = \\prod_{i=1}^{m}(h_\\theta(x^{(i)}))^{y^{(i)}}(1 - h_\\theta(x^{(i)}))^{1 - y^{(i)}}$   \n",
    "对数似然函数：   \n",
    "$l(\\theta) = \\log L(\\theta) = \\sum_{i=1}^{m}y^{(i)}\\log(h_\\theta(x^{(i)})) + (1 - y^{(i)})\\log(1 - h_\\theta(x^{(i)}))$    \n",
    "此时需要求最大值, 但是求解最大值比较困难，所以一般会转化求下降值, 所以要加入负号。   \n",
    "求导得:   \n",
    "$J(\\theta) = -\\frac{1}{m}\\sum_{i=1}^{m}[y_i-g(\\theta^Tx_i)]x_i$     \n",
    "参数更新：\n",
    "$\\theta_j = \\theta_j - \\alpha\\frac{1}{m}\\sum_{i=1}^{m}[g(\\theta^Tx_i) - y_i]x_i$    \n",
    "\n",
    "\n"
   ],
   "id": "17acedcae5c0fef5"
  },
  {
   "metadata": {},
   "cell_type": "markdown",
   "source": "### 非常好用! 泛用性强!",
   "id": "868c24c75b39a82f"
  },
  {
   "cell_type": "code",
   "id": "initial_id",
   "metadata": {
    "collapsed": true,
    "ExecuteTime": {
     "end_time": "2024-06-03T13:34:25.375884Z",
     "start_time": "2024-06-03T13:34:24.829822Z"
    }
   },
   "source": [
    "import numpy as np\n",
    "import os\n",
    "%matplotlib inline\n",
    "import matplotlib\n",
    "import matplotlib.pyplot as plt\n",
    "plt.rcParams['axes.labelsize'] = 14\n",
    "plt.rcParams['xtick.labelsize'] = 12\n",
    "plt.rcParams['ytick.labelsize'] = 12\n",
    "import warnings\n",
    "warnings.filterwarnings('ignore')\n"
   ],
   "execution_count": 7,
   "outputs": []
  },
  {
   "metadata": {},
   "cell_type": "markdown",
   "source": "#### Sigmoid函数：$g(z) = \\frac{1}{1 + e^{-z}}$",
   "id": "e9e114804ef552d"
  },
  {
   "metadata": {
    "ExecuteTime": {
     "end_time": "2024-06-03T13:35:42.682500Z",
     "start_time": "2024-06-03T13:35:42.435472Z"
    }
   },
   "cell_type": "code",
   "source": [
    "t = np.linspace(-10, 10, 100)\n",
    "sig = 1 / (1 + np.exp(-t))\n",
    "plt.figure(figsize=(9, 3))\n",
    "plt.plot([-10, 10], [0, 0], \"k-\")\n",
    "plt.plot([-10, 10], [0.5, 0.5], \"k:\")\n",
    "plt.plot([-10, 10], [1, 1], \"k:\")\n",
    "plt.plot([0, 0], [-1.1, 1.1], \"k-\")\n",
    "plt.plot(t, sig, \"b-\", linewidth=2, label=r\"$\\sigma(t) = \\frac{1}{1 + e^{-t}}$\")\n",
    "plt.xlabel(\"t\")\n",
    "plt.legend(loc=\"upper left\", fontsize=20)\n",
    "plt.axis([-10, 10, -0.1, 1.1])\n",
    "plt.show()\n"
   ],
   "id": "386a027320c0400b",
   "execution_count": 8,
   "outputs": []
  },
  {
   "metadata": {},
   "cell_type": "markdown",
   "source": "鸢尾花数据集",
   "id": "5e875a48afeb350e"
  },
  {
   "metadata": {
    "ExecuteTime": {
     "end_time": "2024-06-03T13:40:53.907532Z",
     "start_time": "2024-06-03T13:40:53.902132Z"
    }
   },
   "cell_type": "code",
   "source": [
    "from sklearn.datasets import load_iris\n",
    "iris = load_iris()\n",
    "list(iris.keys())"
   ],
   "id": "8908020232578a09",
   "execution_count": 11,
   "outputs": []
  },
  {
   "metadata": {
    "ExecuteTime": {
     "end_time": "2024-06-03T13:40:05.185864Z",
     "start_time": "2024-06-03T13:40:05.183340Z"
    }
   },
   "cell_type": "code",
   "source": "print(iris.DESCR)",
   "id": "d40488ac7132fe9e",
   "execution_count": 10,
   "outputs": []
  },
  {
   "metadata": {},
   "cell_type": "markdown",
   "source": "对于传统的逻辑回归，我们要对标签做变换，将当前要做的数据作为正样本，其余的作为负样本。",
   "id": "da69895d4dcafa06"
  },
  {
   "metadata": {
    "ExecuteTime": {
     "end_time": "2024-06-03T13:43:59.769624Z",
     "start_time": "2024-06-03T13:43:59.764744Z"
    }
   },
   "cell_type": "code",
   "source": [
    "X = iris.data[:, 3:]  # petal width\n",
    "y = (iris['target'] == 2).astype(np.int64)  # 1 if Iris-Virginica, else 0\n",
    "y"
   ],
   "id": "5afebedd94019b5c",
   "execution_count": 14,
   "outputs": []
  },
  {
   "metadata": {
    "ExecuteTime": {
     "end_time": "2024-06-03T13:44:57.052946Z",
     "start_time": "2024-06-03T13:44:56.433536Z"
    }
   },
   "cell_type": "code",
   "source": [
    "from sklearn.linear_model import LogisticRegression\n",
    "log_reg = LogisticRegression()\n",
    "log_reg.fit(X, y)\n"
   ],
   "id": "a8f528249ca76933",
   "execution_count": 15,
   "outputs": []
  },
  {
   "metadata": {},
   "cell_type": "markdown",
   "source": "随着输入特征数值变化, 模型预测的概率变化",
   "id": "fd2b5cb6dd635c75"
  },
  {
   "metadata": {
    "ExecuteTime": {
     "end_time": "2024-06-03T14:03:07.212869Z",
     "start_time": "2024-06-03T14:03:07.043032Z"
    }
   },
   "cell_type": "code",
   "source": [
    "X_new = np.linspace(0, 3, 1000).reshape(-1, 1)\n",
    "y_proba = log_reg.predict_proba(X_new)\n",
    "\n",
    "plt.figure(figsize=(16, 8))\n",
    "decision_boundary = X_new[y_proba[:, 1] >= 0.5][0]\n",
    "\n",
    "plt.plot([decision_boundary, decision_boundary], [-1, 2], \"k:\", linewidth=2)\n",
    "\n",
    "plt.plot(X_new, y_proba[:, 1], \"g-\", linewidth=2, label=\"Iris-Virginica\")\n",
    "plt.plot(X_new, y_proba[:, 0], \"b--\", linewidth=2, label=\"Not Iris-Virginica\")\n",
    "\n",
    "plt.arrow(decision_boundary[0], 0.08, -0.3, 0, head_width=0.05, head_length=0.1, fc='b', ec='b')\n",
    "plt.arrow(decision_boundary[0], 0.92, 0.3, 0, head_width=0.05, head_length=0.1, fc='g', ec='g')\n",
    "\n",
    "plt.xlabel(\"Petal width (cm)\", fontsize=14)\n",
    "plt.ylabel(\"Probability\", fontsize=14)\n",
    "plt.legend(loc=\"center left\", fontsize=14)\n",
    "plt.axis((0, 3, -0.02, 1.02))\n",
    "plt.text(decision_boundary + 0.02, 0.15, \"Decision  boundary\", fontsize=14, color=\"k\", ha=\"center\")\n"
   ],
   "id": "36e199ff32538f3c",
   "execution_count": 38,
   "outputs": []
  },
  {
   "metadata": {
    "ExecuteTime": {
     "end_time": "2024-06-03T14:07:09.218200Z",
     "start_time": "2024-06-03T14:07:09.215276Z"
    }
   },
   "cell_type": "code",
   "source": [
    "X = iris[\"data\"][:, (2, 3)]  # petal length, petal width\n",
    "y = (iris[\"target\"] == 2).astype(np.int64)  # Iris-Virginica\n"
   ],
   "id": "29f9c36d5137a7fa",
   "execution_count": 40,
   "outputs": []
  },
  {
   "metadata": {
    "ExecuteTime": {
     "end_time": "2024-06-03T14:07:23.371858Z",
     "start_time": "2024-06-03T14:07:23.364270Z"
    }
   },
   "cell_type": "code",
   "source": [
    "from sklearn.linear_model import LogisticRegression\n",
    "log_reg = LogisticRegression()\n",
    "log_reg.fit(X, y)"
   ],
   "id": "23989ace5ca473dc",
   "execution_count": 41,
   "outputs": []
  },
  {
   "metadata": {},
   "cell_type": "markdown",
   "source": [
    "### 决策边界绘制   \n",
    "- 构建坐标数据,在合理范围内生成坐标数据\n",
    "- 整合坐标点\n",
    "- 预测坐标点的概率\n",
    "- 绘制决策边界"
   ],
   "id": "f93c027581ab228a"
  },
  {
   "metadata": {},
   "cell_type": "markdown",
   "source": "构建坐标数据",
   "id": "72776dc88e634b5f"
  },
  {
   "metadata": {
    "ExecuteTime": {
     "end_time": "2024-06-03T14:21:22.725598Z",
     "start_time": "2024-06-03T14:21:22.715713Z"
    }
   },
   "cell_type": "code",
   "source": [
    "x0,x1 = np.meshgrid(np.linspace(2.9, 7, 500).reshape(-1,1), np.linspace(0.8, 2.7, 200).reshape(-1,1))\n",
    "X_new_test = np.c_[x0.ravel(), x1.ravel()]\n",
    "y_proba = log_reg.predict_proba(X_new_test)"
   ],
   "id": "906807ecfe3e99fa",
   "execution_count": 45,
   "outputs": []
  },
  {
   "metadata": {
    "ExecuteTime": {
     "end_time": "2024-06-03T14:39:53.601497Z",
     "start_time": "2024-06-03T14:39:53.449814Z"
    }
   },
   "cell_type": "code",
   "source": [
    "plt.figure(figsize=(10, 4))\n",
    "plt.plot(X[y==0,0],X[y==0,1],\"bs\")\n",
    "plt.plot(X[y==1,0],X[y==1,1],\"g^\")\n",
    "zz = y_proba[:,1].reshape(x0.shape)\n",
    "contour = plt.contour(x0,x1,zz,cmap=plt.cm.brg)\n",
    "plt.clabel(contour, inline=1, fontsize=12)\n",
    "plt.xlabel(\"Petal length\", fontsize=14)\n",
    "plt.ylabel(\"Petal width\", fontsize=14)\n",
    "plt.axis((2.9, 7, 0.8, 2.7))\n",
    "plt.text(3.5, 1.5, \"Not Iris-Virginica\", fontsize=14, color=\"b\", ha=\"center\")\n",
    "plt.text(6.5, 2.3, \"Iris-Virginica\", fontsize=14, color=\"g\", ha=\"center\")\n"
   ],
   "id": "b13290505397223b",
   "execution_count": 58,
   "outputs": []
  },
  {
   "metadata": {},
   "cell_type": "markdown",
   "source": "### 多分类,Softmax回归",
   "id": "84c9a06ed375b8d6"
  },
  {
   "metadata": {},
   "cell_type": "markdown",
   "source": [
    "softmax回归的原理:   \n",
    "Softmax计算概率:   \n",
    "$P(y = k|x) = \\frac{e^{\\theta_k^Tx}}{\\sum_{j=1}^{K}e^{\\theta_j^Tx}}$   \n",
    "   \n",
    "损失函数:    \n",
    "$J(\\Theta) = -\\frac{1}{m}\\sum_{i=1}^{m}\\sum_{k=1}^{K}1\\{y^{(i)} = k\\}\\log\\left(\\frac{e^{\\theta_k^Tx^{(i)}}}{\\sum_{j=1}^{K}e^{\\theta_j^Tx^{(i)}}}\\right)$   "
   ],
   "id": "ee69887c8a974762"
  },
  {
   "metadata": {
    "ExecuteTime": {
     "end_time": "2024-06-03T14:45:25.658005Z",
     "start_time": "2024-06-03T14:45:25.653125Z"
    }
   },
   "cell_type": "code",
   "source": [
    "X = iris[\"data\"][:, (2, 3)]  # petal length, petal width\n",
    "y = iris[\"target\"]\n"
   ],
   "id": "f6c7ae49aaf58c7",
   "execution_count": 59,
   "outputs": []
  },
  {
   "metadata": {
    "ExecuteTime": {
     "end_time": "2024-06-03T14:47:46.664969Z",
     "start_time": "2024-06-03T14:47:46.651790Z"
    }
   },
   "cell_type": "code",
   "source": [
    "softmax_reg = LogisticRegression(multi_class=\"multinomial\",solver=\"lbfgs\", C=10)\n",
    "softmax_reg.fit(X, y)\n"
   ],
   "id": "d1ec271c67a19637",
   "execution_count": 60,
   "outputs": []
  },
  {
   "metadata": {
    "ExecuteTime": {
     "end_time": "2024-06-03T14:52:12.827361Z",
     "start_time": "2024-06-03T14:52:12.631251Z"
    }
   },
   "cell_type": "code",
   "source": [
    "x0,x1 = np.meshgrid(\n",
    "    np.linspace(0, 8, 500).reshape(-1,1),\n",
    "    np.linspace(0, 3.5, 200).reshape(-1,1),\n",
    ")\n",
    "X_new = np.c_[x0.ravel(), x1.ravel()]\n",
    "\n",
    "y_proba = softmax_reg.predict_proba(X_new)\n",
    "y_predict = softmax_reg.predict(X_new)\n",
    "\n",
    "zz1 = y_proba[:, 1].reshape(x0.shape)\n",
    "zz = y_predict.reshape(x0.shape)\n",
    "\n",
    "plt.figure(figsize=(16, 8))\n",
    "plt.plot(X[y==2, 0], X[y==2, 1], \"g^\", label=\"Iris-Virginica\")\n",
    "plt.plot(X[y==1, 0], X[y==1, 1], \"bs\", label=\"Iris-Versicolor\")\n",
    "plt.plot(X[y==0, 0], X[y==0, 1], \"yo\", label=\"Iris-Setosa\")\n",
    "\n",
    "from matplotlib.colors import ListedColormap\n",
    "custom_cmap = ListedColormap(['#fafab0','#9898ff','#a0faa0'])\n",
    "\n",
    "plt.contourf(x0, x1, zz, cmap=custom_cmap)\n",
    "contour = plt.contour(x0, x1, zz1, cmap=plt.cm.brg)\n",
    "plt.clabel(contour, inline=1, fontsize=12)\n",
    "plt.xlabel(\"Petal length\", fontsize=14)\n",
    "plt.ylabel(\"Petal width\", fontsize=14)\n",
    "plt.legend(loc=\"center left\", fontsize=14)\n",
    "plt.axis([0, 7, 0, 3.5])\n",
    "plt.show()"
   ],
   "id": "20d31addbd2e099e",
   "execution_count": 65,
   "outputs": []
  },
  {
   "metadata": {},
   "cell_type": "code",
   "execution_count": null,
   "source": "",
   "id": "3ae9f538a2190186",
   "outputs": []
  }
 ],
 "metadata": {
  "kernelspec": {
   "display_name": "Python 3",
   "language": "python",
   "name": "python3"
  },
  "language_info": {
   "codemirror_mode": {
    "name": "ipython",
    "version": 2
   },
   "file_extension": ".py",
   "mimetype": "text/x-python",
   "name": "python",
   "nbconvert_exporter": "python",
   "pygments_lexer": "ipython2",
   "version": "2.7.6"
  }
 },
 "nbformat": 4,
 "nbformat_minor": 5
}
